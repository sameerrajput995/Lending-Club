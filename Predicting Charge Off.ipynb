{
 "cells": [
  {
   "cell_type": "markdown",
   "metadata": {
    "_cell_guid": "1e8676bb-b153-45c9-a4ab-13b883e8e896",
    "_uuid": "90e7167782a3bdb675b5b6c581ec99d6920c8939"
   },
   "source": [
    "# Predicting LendingClub Loan Charge-offs from Loan Origination Data\n"
   ]
  },
  {
   "cell_type": "markdown",
   "metadata": {
    "_cell_guid": "40dc37f2-37a8-4f73-897d-b28a8755e88b",
    "_uuid": "b645d94d7d7103b4000a089c42fca8afa54bac2e"
   },
   "source": [
    "## Contents"
   ]
  },
  {
   "cell_type": "markdown",
   "metadata": {
    "_cell_guid": "40dc37f2-37a8-4f73-897d-b28a8755e88b",
    "_uuid": "b645d94d7d7103b4000a089c42fca8afa54bac2e"
   },
   "source": [
    "* [1. Introduction](#1)\n",
    " * [1.1 References](#1.1)\n",
    "* [2. Import the Data](#2)\n",
    "* [3. Response Variable](#3)\n",
    "* [4. Limit the Feature Space](#4)\n",
    " * [4.1 Drop features missing more than 30% data](#4.1)\n",
    " * [4.2 Only keep loan features known to potential investors](#4.2)\n",
    "* [5. Pre-processing and Exploratory Analysis](#5)\n",
    "* [6. More Pre-processing](#6)\n",
    " * [6.1 Convert loan status to 0/1 charge-off indicator](#6.1)\n",
    " * [6.2 Create dummy variables](#6.2)\n",
    " * [6.3 Train/test split](#6.3)\n",
    "* [7. Linear Dependence of Charge-off on the Predictors](#7)\n",
    "* [8. Model Training and Testing](#8)\n",
    " * [8.1 Logistic regression with SGD training](#8.1)\n",
    " * [8.2 Random forest classifier](#8.2)\n",
    " * [8.3 k-nearest neighbors](#8.3)\n",
    " * [8.4 Tune hyperparameters on the chosen model more finely](#8.4)\n",
    " * [8.5 Test set evaluation](#8.5)\n",
    "* [9. Conclusion](#9)"
   ]
  },
  {
   "cell_type": "markdown",
   "metadata": {},
   "source": [
    "# 1. Introduction\n",
    "<a id=\"1\"></a>"
   ]
  },
  {
   "cell_type": "markdown",
   "metadata": {},
   "source": [
    "[LendingClub](https://www.lendingclub.com/) is a US peer-to-peer lending company and the world's largest peer-to-peer lending platform. As explained by [Wikipedia](https://en.wikipedia.org/wiki/Lending_Club),\n",
    "\n",
    "> Lending Club enables borrowers to create unsecured personal loans between \\$1,000 and \\$40,000. The standard loan period is three years. Investors can search and browse the loan listings on Lending Club website and select loans that they want to invest in based on the information supplied about the borrower, amount of loan, loan grade, and loan purpose. Investors make money from interest. Lending Club makes money by charging borrowers an origination fee and investors a service fee.\n",
    "\n",
    "The goal of this project is to build a machine learning model to predict the probability that a loan will charge off. We will attempt to only use data available to investors via the LendingClub loan listing, including information about the borrower (income, employment length, FICO score, debt-to-income ratio, etc.) and the loan listing (the loan amount, loan purpose, loan grade, interest rate, installment, etc.). Such a predictive model could help LendingClub investors make better-informed investment decisions. We will only consider loans that LendingClub accepted under its credit underwriting policy."
   ]
  },
  {
   "cell_type": "markdown",
   "metadata": {},
   "source": [
    "## 1.1 References\n",
    "<a id=\"1.1\"></a>"
   ]
  },
  {
   "cell_type": "markdown",
   "metadata": {},
   "source": [
    "* LendingClub information\n",
    " * [LendingClub website](https://www.lendingclub.com/)\n",
    " * [LendingClub Wikipedia page](https://en.wikipedia.org/wiki/Lending_Club)\n",
    "* Datasets\n",
    " * [LendingClub statistics](https://www.lendingclub.com/info/download-data.action) - Original data source, aggregated on Kaggle\n",
    " * [All Lending Club loan data](https://www.kaggle.com/wordsforthewise/lending-club) - The dataset used in this project, hosted on Kaggle\n",
    " * [Lending Club Loan Data](https://www.kaggle.com/wendykan/lending-club-loan-data) - Another LendingClub dataset on Kaggle, not used in this project\n",
    "* This project\n",
    " * [Kaggle notebook](https://www.kaggle.com/pileatedperch/predicting-charge-off-from-initial-listing-data)\n",
    " * [GitHub repo](https://github.com/jgcorliss/lending-club)"
   ]
  },
  {
   "cell_type": "markdown",
   "metadata": {
    "_cell_guid": "b018242b-b3c5-4245-b5d7-ea6a3f28d4c8",
    "_uuid": "2053f9b0b897cad21155cca0a00c537bfd1bb340"
   },
   "source": [
    "# 2. Import the Data\n",
    "<a id=\"2\"></a>"
   ]
  },
  {
   "cell_type": "code",
   "execution_count": 103,
   "metadata": {
    "_cell_guid": "d237539e-2aa1-438e-a2c6-39a48c47211c",
    "_uuid": "3a39bcc870d823d4923c7ec9d8acb62c733bebaa"
   },
   "outputs": [],
   "source": [
    "import numpy as np\n",
    "import scipy as sp\n",
    "import pandas as pd\n",
    "import matplotlib as mpl\n",
    "import matplotlib.pyplot as plt\n",
    "import seaborn as sns\n",
    "\n",
    "# Pandas options\n",
    "pd.set_option('display.max_colwidth', 1000, 'display.max_rows', None, 'display.max_columns', None)\n",
    "pd.set_option('display.float_format', lambda x: '%.3f' % x)\n",
    "\n",
    "# Plotting options\n",
    "%matplotlib inline\n",
    "mpl.style.use('ggplot')\n",
    "sns.set(style='whitegrid')\n",
    "#Get rid of warnings\n",
    "import warnings\n",
    "warnings.filterwarnings('ignore')\n",
    "import os"
   ]
  },
  {
   "cell_type": "markdown",
   "metadata": {
    "_cell_guid": "4c0f7ef4-37a3-4c71-847f-38f924706540",
    "_uuid": "c4b355a5d50e067d1461d6504cb04d827f65c6cd"
   },
   "source": [
    "Read the data into a pandas dataframe:"
   ]
  },
  {
   "cell_type": "code",
   "execution_count": 5,
   "metadata": {},
   "outputs": [
    {
     "data": {
      "text/plain": [
       "'C:\\\\Users\\\\Sameer\\\\Downloads\\\\lending-club-master\\\\lending-club-master'"
      ]
     },
     "execution_count": 5,
     "metadata": {},
     "output_type": "execute_result"
    }
   ],
   "source": [
    "os.getcwd()"
   ]
  },
  {
   "cell_type": "code",
   "execution_count": 6,
   "metadata": {
    "_cell_guid": "b54dd1e5-bbf7-4014-9434-3495a578e27f",
    "_uuid": "370f21d16cb87752040bb20a82a9115db2e36cb5"
   },
   "outputs": [],
   "source": [
    "loans = pd.read_csv('accepted_2007_to_2018Q4.csv.gz', compression='gzip', low_memory=True)"
   ]
  },
  {
   "cell_type": "markdown",
   "metadata": {
    "_cell_guid": "b195b476-a58b-4a6b-9745-f26a86e9c61c",
    "_uuid": "ee053ebca5fbc378cf651939bde5e378e5d0cdae"
   },
   "source": [
    "Check basic dataframe info:"
   ]
  },
  {
   "cell_type": "code",
   "execution_count": 7,
   "metadata": {
    "_cell_guid": "f4a7c9a2-ff89-4219-8ff9-2324bef16bdf",
    "_uuid": "00c703a1943e72a68b83c4ddf46c00310656e22c"
   },
   "outputs": [
    {
     "name": "stdout",
     "output_type": "stream",
     "text": [
      "<class 'pandas.core.frame.DataFrame'>\n",
      "RangeIndex: 2260701 entries, 0 to 2260700\n",
      "Columns: 151 entries, id to settlement_term\n",
      "dtypes: float64(113), object(38)\n",
      "memory usage: 2.5+ GB\n"
     ]
    }
   ],
   "source": [
    "loans.info()"
   ]
  },
  {
   "cell_type": "markdown",
   "metadata": {
    "_cell_guid": "53dad5c0-e147-4a75-9143-263c25aca443",
    "_uuid": "9174c9f401807a208e48aae2553eb69fa807f1cf"
   },
   "source": [
    "There are 2.2 million rows and 150 variables. The size of the dataset is 1.8 GB.\n",
    "\n",
    "Let's peek at 5 randomly selected rows. Each row corresponds to a single loan."
   ]
  },
  {
   "cell_type": "code",
   "execution_count": 8,
   "metadata": {
    "_cell_guid": "ecdf5e79-8e7d-4e10-9d6a-bbed279cf07d",
    "_uuid": "927c3589a9c7ae39e78c2ad42f569101442cbb48",
    "scrolled": true
   },
   "outputs": [
    {
     "data": {
      "text/html": [
       "<div>\n",
       "<style scoped>\n",
       "    .dataframe tbody tr th:only-of-type {\n",
       "        vertical-align: middle;\n",
       "    }\n",
       "\n",
       "    .dataframe tbody tr th {\n",
       "        vertical-align: top;\n",
       "    }\n",
       "\n",
       "    .dataframe thead th {\n",
       "        text-align: right;\n",
       "    }\n",
       "</style>\n",
       "<table border=\"1\" class=\"dataframe\">\n",
       "  <thead>\n",
       "    <tr style=\"text-align: right;\">\n",
       "      <th></th>\n",
       "      <th>id</th>\n",
       "      <th>member_id</th>\n",
       "      <th>loan_amnt</th>\n",
       "      <th>funded_amnt</th>\n",
       "      <th>funded_amnt_inv</th>\n",
       "      <th>term</th>\n",
       "      <th>int_rate</th>\n",
       "      <th>installment</th>\n",
       "      <th>grade</th>\n",
       "      <th>sub_grade</th>\n",
       "      <th>emp_title</th>\n",
       "      <th>emp_length</th>\n",
       "      <th>home_ownership</th>\n",
       "      <th>annual_inc</th>\n",
       "      <th>verification_status</th>\n",
       "      <th>issue_d</th>\n",
       "      <th>loan_status</th>\n",
       "      <th>pymnt_plan</th>\n",
       "      <th>url</th>\n",
       "      <th>desc</th>\n",
       "      <th>purpose</th>\n",
       "      <th>title</th>\n",
       "      <th>zip_code</th>\n",
       "      <th>addr_state</th>\n",
       "      <th>dti</th>\n",
       "      <th>delinq_2yrs</th>\n",
       "      <th>earliest_cr_line</th>\n",
       "      <th>fico_range_low</th>\n",
       "      <th>fico_range_high</th>\n",
       "      <th>inq_last_6mths</th>\n",
       "      <th>mths_since_last_delinq</th>\n",
       "      <th>mths_since_last_record</th>\n",
       "      <th>open_acc</th>\n",
       "      <th>pub_rec</th>\n",
       "      <th>revol_bal</th>\n",
       "      <th>revol_util</th>\n",
       "      <th>total_acc</th>\n",
       "      <th>initial_list_status</th>\n",
       "      <th>out_prncp</th>\n",
       "      <th>out_prncp_inv</th>\n",
       "      <th>total_pymnt</th>\n",
       "      <th>total_pymnt_inv</th>\n",
       "      <th>total_rec_prncp</th>\n",
       "      <th>total_rec_int</th>\n",
       "      <th>total_rec_late_fee</th>\n",
       "      <th>recoveries</th>\n",
       "      <th>collection_recovery_fee</th>\n",
       "      <th>last_pymnt_d</th>\n",
       "      <th>last_pymnt_amnt</th>\n",
       "      <th>next_pymnt_d</th>\n",
       "      <th>last_credit_pull_d</th>\n",
       "      <th>last_fico_range_high</th>\n",
       "      <th>last_fico_range_low</th>\n",
       "      <th>collections_12_mths_ex_med</th>\n",
       "      <th>mths_since_last_major_derog</th>\n",
       "      <th>policy_code</th>\n",
       "      <th>application_type</th>\n",
       "      <th>annual_inc_joint</th>\n",
       "      <th>dti_joint</th>\n",
       "      <th>verification_status_joint</th>\n",
       "      <th>acc_now_delinq</th>\n",
       "      <th>tot_coll_amt</th>\n",
       "      <th>tot_cur_bal</th>\n",
       "      <th>open_acc_6m</th>\n",
       "      <th>open_act_il</th>\n",
       "      <th>open_il_12m</th>\n",
       "      <th>open_il_24m</th>\n",
       "      <th>mths_since_rcnt_il</th>\n",
       "      <th>total_bal_il</th>\n",
       "      <th>il_util</th>\n",
       "      <th>open_rv_12m</th>\n",
       "      <th>open_rv_24m</th>\n",
       "      <th>max_bal_bc</th>\n",
       "      <th>all_util</th>\n",
       "      <th>total_rev_hi_lim</th>\n",
       "      <th>inq_fi</th>\n",
       "      <th>total_cu_tl</th>\n",
       "      <th>inq_last_12m</th>\n",
       "      <th>acc_open_past_24mths</th>\n",
       "      <th>avg_cur_bal</th>\n",
       "      <th>bc_open_to_buy</th>\n",
       "      <th>bc_util</th>\n",
       "      <th>chargeoff_within_12_mths</th>\n",
       "      <th>delinq_amnt</th>\n",
       "      <th>mo_sin_old_il_acct</th>\n",
       "      <th>mo_sin_old_rev_tl_op</th>\n",
       "      <th>mo_sin_rcnt_rev_tl_op</th>\n",
       "      <th>mo_sin_rcnt_tl</th>\n",
       "      <th>mort_acc</th>\n",
       "      <th>mths_since_recent_bc</th>\n",
       "      <th>mths_since_recent_bc_dlq</th>\n",
       "      <th>mths_since_recent_inq</th>\n",
       "      <th>mths_since_recent_revol_delinq</th>\n",
       "      <th>num_accts_ever_120_pd</th>\n",
       "      <th>num_actv_bc_tl</th>\n",
       "      <th>num_actv_rev_tl</th>\n",
       "      <th>num_bc_sats</th>\n",
       "      <th>num_bc_tl</th>\n",
       "      <th>num_il_tl</th>\n",
       "      <th>num_op_rev_tl</th>\n",
       "      <th>num_rev_accts</th>\n",
       "      <th>num_rev_tl_bal_gt_0</th>\n",
       "      <th>num_sats</th>\n",
       "      <th>num_tl_120dpd_2m</th>\n",
       "      <th>num_tl_30dpd</th>\n",
       "      <th>num_tl_90g_dpd_24m</th>\n",
       "      <th>num_tl_op_past_12m</th>\n",
       "      <th>pct_tl_nvr_dlq</th>\n",
       "      <th>percent_bc_gt_75</th>\n",
       "      <th>pub_rec_bankruptcies</th>\n",
       "      <th>tax_liens</th>\n",
       "      <th>tot_hi_cred_lim</th>\n",
       "      <th>total_bal_ex_mort</th>\n",
       "      <th>total_bc_limit</th>\n",
       "      <th>total_il_high_credit_limit</th>\n",
       "      <th>revol_bal_joint</th>\n",
       "      <th>sec_app_fico_range_low</th>\n",
       "      <th>sec_app_fico_range_high</th>\n",
       "      <th>sec_app_earliest_cr_line</th>\n",
       "      <th>sec_app_inq_last_6mths</th>\n",
       "      <th>sec_app_mort_acc</th>\n",
       "      <th>sec_app_open_acc</th>\n",
       "      <th>sec_app_revol_util</th>\n",
       "      <th>sec_app_open_act_il</th>\n",
       "      <th>sec_app_num_rev_accts</th>\n",
       "      <th>sec_app_chargeoff_within_12_mths</th>\n",
       "      <th>sec_app_collections_12_mths_ex_med</th>\n",
       "      <th>sec_app_mths_since_last_major_derog</th>\n",
       "      <th>hardship_flag</th>\n",
       "      <th>hardship_type</th>\n",
       "      <th>hardship_reason</th>\n",
       "      <th>hardship_status</th>\n",
       "      <th>deferral_term</th>\n",
       "      <th>hardship_amount</th>\n",
       "      <th>hardship_start_date</th>\n",
       "      <th>hardship_end_date</th>\n",
       "      <th>payment_plan_start_date</th>\n",
       "      <th>hardship_length</th>\n",
       "      <th>hardship_dpd</th>\n",
       "      <th>hardship_loan_status</th>\n",
       "      <th>orig_projected_additional_accrued_interest</th>\n",
       "      <th>hardship_payoff_balance_amount</th>\n",
       "      <th>hardship_last_payment_amount</th>\n",
       "      <th>disbursement_method</th>\n",
       "      <th>debt_settlement_flag</th>\n",
       "      <th>debt_settlement_flag_date</th>\n",
       "      <th>settlement_status</th>\n",
       "      <th>settlement_date</th>\n",
       "      <th>settlement_amount</th>\n",
       "      <th>settlement_percentage</th>\n",
       "      <th>settlement_term</th>\n",
       "    </tr>\n",
       "  </thead>\n",
       "  <tbody>\n",
       "    <tr>\n",
       "      <th>1881976</th>\n",
       "      <td>3064897</td>\n",
       "      <td>NaN</td>\n",
       "      <td>18000.0</td>\n",
       "      <td>18000.0</td>\n",
       "      <td>18000.0</td>\n",
       "      <td>36 months</td>\n",
       "      <td>13.11</td>\n",
       "      <td>607.45</td>\n",
       "      <td>B</td>\n",
       "      <td>B4</td>\n",
       "      <td>United Technologies</td>\n",
       "      <td>5 years</td>\n",
       "      <td>RENT</td>\n",
       "      <td>84500.0</td>\n",
       "      <td>Not Verified</td>\n",
       "      <td>Jan-2013</td>\n",
       "      <td>Charged Off</td>\n",
       "      <td>n</td>\n",
       "      <td>https://lendingclub.com/browse/loanDetail.action?loan_id=3064897</td>\n",
       "      <td>Borrower added on 01/09/13 &gt; Still has high interest balances and would like to reduce my rate with this loan.&lt;br&gt;</td>\n",
       "      <td>debt_consolidation</td>\n",
       "      <td>2013 Consolidation</td>\n",
       "      <td>061xx</td>\n",
       "      <td>CT</td>\n",
       "      <td>27.64</td>\n",
       "      <td>0.0</td>\n",
       "      <td>Jun-2000</td>\n",
       "      <td>660.0</td>\n",
       "      <td>664.0</td>\n",
       "      <td>0.0</td>\n",
       "      <td>67.0</td>\n",
       "      <td>NaN</td>\n",
       "      <td>13.0</td>\n",
       "      <td>0.0</td>\n",
       "      <td>22826.0</td>\n",
       "      <td>83.9</td>\n",
       "      <td>25.0</td>\n",
       "      <td>f</td>\n",
       "      <td>0.00</td>\n",
       "      <td>0.00</td>\n",
       "      <td>10773.150000</td>\n",
       "      <td>10773.15</td>\n",
       "      <td>2527.43</td>\n",
       "      <td>1896.46</td>\n",
       "      <td>0.00</td>\n",
       "      <td>6349.26</td>\n",
       "      <td>1079.3742</td>\n",
       "      <td>Dec-2013</td>\n",
       "      <td>609.60</td>\n",
       "      <td>NaN</td>\n",
       "      <td>Feb-2019</td>\n",
       "      <td>559.0</td>\n",
       "      <td>555.0</td>\n",
       "      <td>0.0</td>\n",
       "      <td>NaN</td>\n",
       "      <td>1.0</td>\n",
       "      <td>Individual</td>\n",
       "      <td>NaN</td>\n",
       "      <td>NaN</td>\n",
       "      <td>NaN</td>\n",
       "      <td>0.0</td>\n",
       "      <td>0.0</td>\n",
       "      <td>102830.0</td>\n",
       "      <td>NaN</td>\n",
       "      <td>NaN</td>\n",
       "      <td>NaN</td>\n",
       "      <td>NaN</td>\n",
       "      <td>NaN</td>\n",
       "      <td>NaN</td>\n",
       "      <td>NaN</td>\n",
       "      <td>NaN</td>\n",
       "      <td>NaN</td>\n",
       "      <td>NaN</td>\n",
       "      <td>NaN</td>\n",
       "      <td>27200.0</td>\n",
       "      <td>NaN</td>\n",
       "      <td>NaN</td>\n",
       "      <td>NaN</td>\n",
       "      <td>4.0</td>\n",
       "      <td>7910.0</td>\n",
       "      <td>198.0</td>\n",
       "      <td>99.1</td>\n",
       "      <td>0.0</td>\n",
       "      <td>0.0</td>\n",
       "      <td>137.0</td>\n",
       "      <td>153.0</td>\n",
       "      <td>14.0</td>\n",
       "      <td>10.0</td>\n",
       "      <td>0.0</td>\n",
       "      <td>14.0</td>\n",
       "      <td>67.0</td>\n",
       "      <td>14.0</td>\n",
       "      <td>67.0</td>\n",
       "      <td>0.0</td>\n",
       "      <td>6.0</td>\n",
       "      <td>7.0</td>\n",
       "      <td>6.0</td>\n",
       "      <td>12.0</td>\n",
       "      <td>10.0</td>\n",
       "      <td>8.0</td>\n",
       "      <td>15.0</td>\n",
       "      <td>7.0</td>\n",
       "      <td>13.0</td>\n",
       "      <td>0.0</td>\n",
       "      <td>0.0</td>\n",
       "      <td>0.0</td>\n",
       "      <td>1.0</td>\n",
       "      <td>91.0</td>\n",
       "      <td>100.0</td>\n",
       "      <td>0.0</td>\n",
       "      <td>0.0</td>\n",
       "      <td>111133.0</td>\n",
       "      <td>102830.0</td>\n",
       "      <td>22700.0</td>\n",
       "      <td>83933.0</td>\n",
       "      <td>NaN</td>\n",
       "      <td>NaN</td>\n",
       "      <td>NaN</td>\n",
       "      <td>NaN</td>\n",
       "      <td>NaN</td>\n",
       "      <td>NaN</td>\n",
       "      <td>NaN</td>\n",
       "      <td>NaN</td>\n",
       "      <td>NaN</td>\n",
       "      <td>NaN</td>\n",
       "      <td>NaN</td>\n",
       "      <td>NaN</td>\n",
       "      <td>NaN</td>\n",
       "      <td>N</td>\n",
       "      <td>NaN</td>\n",
       "      <td>NaN</td>\n",
       "      <td>NaN</td>\n",
       "      <td>NaN</td>\n",
       "      <td>NaN</td>\n",
       "      <td>NaN</td>\n",
       "      <td>NaN</td>\n",
       "      <td>NaN</td>\n",
       "      <td>NaN</td>\n",
       "      <td>NaN</td>\n",
       "      <td>NaN</td>\n",
       "      <td>NaN</td>\n",
       "      <td>NaN</td>\n",
       "      <td>NaN</td>\n",
       "      <td>Cash</td>\n",
       "      <td>Y</td>\n",
       "      <td>Apr-2014</td>\n",
       "      <td>COMPLETE</td>\n",
       "      <td>Mar-2014</td>\n",
       "      <td>6348.0</td>\n",
       "      <td>40.43</td>\n",
       "      <td>0.0</td>\n",
       "    </tr>\n",
       "    <tr>\n",
       "      <th>723924</th>\n",
       "      <td>76764992</td>\n",
       "      <td>NaN</td>\n",
       "      <td>7500.0</td>\n",
       "      <td>7500.0</td>\n",
       "      <td>7500.0</td>\n",
       "      <td>36 months</td>\n",
       "      <td>23.13</td>\n",
       "      <td>290.84</td>\n",
       "      <td>F</td>\n",
       "      <td>F1</td>\n",
       "      <td>caregiver</td>\n",
       "      <td>4 years</td>\n",
       "      <td>MORTGAGE</td>\n",
       "      <td>25000.0</td>\n",
       "      <td>Source Verified</td>\n",
       "      <td>Apr-2016</td>\n",
       "      <td>Fully Paid</td>\n",
       "      <td>n</td>\n",
       "      <td>https://lendingclub.com/browse/loanDetail.action?loan_id=76764992</td>\n",
       "      <td>NaN</td>\n",
       "      <td>debt_consolidation</td>\n",
       "      <td>Debt consolidation</td>\n",
       "      <td>959xx</td>\n",
       "      <td>CA</td>\n",
       "      <td>15.51</td>\n",
       "      <td>0.0</td>\n",
       "      <td>May-2005</td>\n",
       "      <td>665.0</td>\n",
       "      <td>669.0</td>\n",
       "      <td>1.0</td>\n",
       "      <td>NaN</td>\n",
       "      <td>51.0</td>\n",
       "      <td>9.0</td>\n",
       "      <td>1.0</td>\n",
       "      <td>6959.0</td>\n",
       "      <td>61.0</td>\n",
       "      <td>13.0</td>\n",
       "      <td>f</td>\n",
       "      <td>0.00</td>\n",
       "      <td>0.00</td>\n",
       "      <td>9713.639433</td>\n",
       "      <td>9713.64</td>\n",
       "      <td>7500.00</td>\n",
       "      <td>2213.64</td>\n",
       "      <td>0.00</td>\n",
       "      <td>0.00</td>\n",
       "      <td>0.0000</td>\n",
       "      <td>Dec-2017</td>\n",
       "      <td>4264.79</td>\n",
       "      <td>NaN</td>\n",
       "      <td>Dec-2017</td>\n",
       "      <td>684.0</td>\n",
       "      <td>680.0</td>\n",
       "      <td>0.0</td>\n",
       "      <td>NaN</td>\n",
       "      <td>1.0</td>\n",
       "      <td>Individual</td>\n",
       "      <td>NaN</td>\n",
       "      <td>NaN</td>\n",
       "      <td>NaN</td>\n",
       "      <td>0.0</td>\n",
       "      <td>0.0</td>\n",
       "      <td>137987.0</td>\n",
       "      <td>1.0</td>\n",
       "      <td>0.0</td>\n",
       "      <td>0.0</td>\n",
       "      <td>0.0</td>\n",
       "      <td>122.0</td>\n",
       "      <td>0.0</td>\n",
       "      <td>NaN</td>\n",
       "      <td>3.0</td>\n",
       "      <td>6.0</td>\n",
       "      <td>1039.0</td>\n",
       "      <td>61.0</td>\n",
       "      <td>11400.0</td>\n",
       "      <td>0.0</td>\n",
       "      <td>0.0</td>\n",
       "      <td>3.0</td>\n",
       "      <td>8.0</td>\n",
       "      <td>15332.0</td>\n",
       "      <td>375.0</td>\n",
       "      <td>84.4</td>\n",
       "      <td>0.0</td>\n",
       "      <td>0.0</td>\n",
       "      <td>131.0</td>\n",
       "      <td>107.0</td>\n",
       "      <td>5.0</td>\n",
       "      <td>5.0</td>\n",
       "      <td>3.0</td>\n",
       "      <td>16.0</td>\n",
       "      <td>NaN</td>\n",
       "      <td>5.0</td>\n",
       "      <td>NaN</td>\n",
       "      <td>0.0</td>\n",
       "      <td>2.0</td>\n",
       "      <td>8.0</td>\n",
       "      <td>2.0</td>\n",
       "      <td>2.0</td>\n",
       "      <td>2.0</td>\n",
       "      <td>8.0</td>\n",
       "      <td>8.0</td>\n",
       "      <td>8.0</td>\n",
       "      <td>9.0</td>\n",
       "      <td>0.0</td>\n",
       "      <td>0.0</td>\n",
       "      <td>0.0</td>\n",
       "      <td>4.0</td>\n",
       "      <td>100.0</td>\n",
       "      <td>100.0</td>\n",
       "      <td>0.0</td>\n",
       "      <td>0.0</td>\n",
       "      <td>143889.0</td>\n",
       "      <td>6959.0</td>\n",
       "      <td>2400.0</td>\n",
       "      <td>0.0</td>\n",
       "      <td>NaN</td>\n",
       "      <td>NaN</td>\n",
       "      <td>NaN</td>\n",
       "      <td>NaN</td>\n",
       "      <td>NaN</td>\n",
       "      <td>NaN</td>\n",
       "      <td>NaN</td>\n",
       "      <td>NaN</td>\n",
       "      <td>NaN</td>\n",
       "      <td>NaN</td>\n",
       "      <td>NaN</td>\n",
       "      <td>NaN</td>\n",
       "      <td>NaN</td>\n",
       "      <td>N</td>\n",
       "      <td>NaN</td>\n",
       "      <td>NaN</td>\n",
       "      <td>NaN</td>\n",
       "      <td>NaN</td>\n",
       "      <td>NaN</td>\n",
       "      <td>NaN</td>\n",
       "      <td>NaN</td>\n",
       "      <td>NaN</td>\n",
       "      <td>NaN</td>\n",
       "      <td>NaN</td>\n",
       "      <td>NaN</td>\n",
       "      <td>NaN</td>\n",
       "      <td>NaN</td>\n",
       "      <td>NaN</td>\n",
       "      <td>Cash</td>\n",
       "      <td>N</td>\n",
       "      <td>NaN</td>\n",
       "      <td>NaN</td>\n",
       "      <td>NaN</td>\n",
       "      <td>NaN</td>\n",
       "      <td>NaN</td>\n",
       "      <td>NaN</td>\n",
       "    </tr>\n",
       "    <tr>\n",
       "      <th>661001</th>\n",
       "      <td>83325713</td>\n",
       "      <td>NaN</td>\n",
       "      <td>10500.0</td>\n",
       "      <td>10500.0</td>\n",
       "      <td>10500.0</td>\n",
       "      <td>60 months</td>\n",
       "      <td>11.49</td>\n",
       "      <td>230.87</td>\n",
       "      <td>B</td>\n",
       "      <td>B5</td>\n",
       "      <td>facing</td>\n",
       "      <td>3 years</td>\n",
       "      <td>MORTGAGE</td>\n",
       "      <td>73000.0</td>\n",
       "      <td>Verified</td>\n",
       "      <td>Jun-2016</td>\n",
       "      <td>Current</td>\n",
       "      <td>n</td>\n",
       "      <td>https://lendingclub.com/browse/loanDetail.action?loan_id=83325713</td>\n",
       "      <td>NaN</td>\n",
       "      <td>debt_consolidation</td>\n",
       "      <td>Debt consolidation</td>\n",
       "      <td>959xx</td>\n",
       "      <td>CA</td>\n",
       "      <td>14.13</td>\n",
       "      <td>0.0</td>\n",
       "      <td>Jan-2012</td>\n",
       "      <td>720.0</td>\n",
       "      <td>724.0</td>\n",
       "      <td>0.0</td>\n",
       "      <td>NaN</td>\n",
       "      <td>NaN</td>\n",
       "      <td>9.0</td>\n",
       "      <td>0.0</td>\n",
       "      <td>9707.0</td>\n",
       "      <td>42.6</td>\n",
       "      <td>13.0</td>\n",
       "      <td>w</td>\n",
       "      <td>5469.97</td>\n",
       "      <td>5469.97</td>\n",
       "      <td>7605.310000</td>\n",
       "      <td>7605.31</td>\n",
       "      <td>5030.03</td>\n",
       "      <td>2575.28</td>\n",
       "      <td>0.00</td>\n",
       "      <td>0.00</td>\n",
       "      <td>0.0000</td>\n",
       "      <td>Mar-2019</td>\n",
       "      <td>230.87</td>\n",
       "      <td>Apr-2019</td>\n",
       "      <td>Mar-2019</td>\n",
       "      <td>779.0</td>\n",
       "      <td>775.0</td>\n",
       "      <td>0.0</td>\n",
       "      <td>NaN</td>\n",
       "      <td>1.0</td>\n",
       "      <td>Individual</td>\n",
       "      <td>NaN</td>\n",
       "      <td>NaN</td>\n",
       "      <td>NaN</td>\n",
       "      <td>0.0</td>\n",
       "      <td>0.0</td>\n",
       "      <td>214316.0</td>\n",
       "      <td>1.0</td>\n",
       "      <td>2.0</td>\n",
       "      <td>0.0</td>\n",
       "      <td>0.0</td>\n",
       "      <td>26.0</td>\n",
       "      <td>20963.0</td>\n",
       "      <td>67.0</td>\n",
       "      <td>1.0</td>\n",
       "      <td>3.0</td>\n",
       "      <td>3356.0</td>\n",
       "      <td>57.0</td>\n",
       "      <td>22800.0</td>\n",
       "      <td>1.0</td>\n",
       "      <td>2.0</td>\n",
       "      <td>0.0</td>\n",
       "      <td>4.0</td>\n",
       "      <td>23813.0</td>\n",
       "      <td>13093.0</td>\n",
       "      <td>42.6</td>\n",
       "      <td>0.0</td>\n",
       "      <td>0.0</td>\n",
       "      <td>53.0</td>\n",
       "      <td>41.0</td>\n",
       "      <td>5.0</td>\n",
       "      <td>5.0</td>\n",
       "      <td>1.0</td>\n",
       "      <td>5.0</td>\n",
       "      <td>NaN</td>\n",
       "      <td>15.0</td>\n",
       "      <td>NaN</td>\n",
       "      <td>0.0</td>\n",
       "      <td>6.0</td>\n",
       "      <td>6.0</td>\n",
       "      <td>6.0</td>\n",
       "      <td>8.0</td>\n",
       "      <td>4.0</td>\n",
       "      <td>6.0</td>\n",
       "      <td>8.0</td>\n",
       "      <td>6.0</td>\n",
       "      <td>9.0</td>\n",
       "      <td>0.0</td>\n",
       "      <td>0.0</td>\n",
       "      <td>0.0</td>\n",
       "      <td>2.0</td>\n",
       "      <td>100.0</td>\n",
       "      <td>0.0</td>\n",
       "      <td>0.0</td>\n",
       "      <td>0.0</td>\n",
       "      <td>240655.0</td>\n",
       "      <td>30670.0</td>\n",
       "      <td>22800.0</td>\n",
       "      <td>31297.0</td>\n",
       "      <td>NaN</td>\n",
       "      <td>NaN</td>\n",
       "      <td>NaN</td>\n",
       "      <td>NaN</td>\n",
       "      <td>NaN</td>\n",
       "      <td>NaN</td>\n",
       "      <td>NaN</td>\n",
       "      <td>NaN</td>\n",
       "      <td>NaN</td>\n",
       "      <td>NaN</td>\n",
       "      <td>NaN</td>\n",
       "      <td>NaN</td>\n",
       "      <td>NaN</td>\n",
       "      <td>N</td>\n",
       "      <td>NaN</td>\n",
       "      <td>NaN</td>\n",
       "      <td>NaN</td>\n",
       "      <td>NaN</td>\n",
       "      <td>NaN</td>\n",
       "      <td>NaN</td>\n",
       "      <td>NaN</td>\n",
       "      <td>NaN</td>\n",
       "      <td>NaN</td>\n",
       "      <td>NaN</td>\n",
       "      <td>NaN</td>\n",
       "      <td>NaN</td>\n",
       "      <td>NaN</td>\n",
       "      <td>NaN</td>\n",
       "      <td>Cash</td>\n",
       "      <td>N</td>\n",
       "      <td>NaN</td>\n",
       "      <td>NaN</td>\n",
       "      <td>NaN</td>\n",
       "      <td>NaN</td>\n",
       "      <td>NaN</td>\n",
       "      <td>NaN</td>\n",
       "    </tr>\n",
       "    <tr>\n",
       "      <th>1405478</th>\n",
       "      <td>143689870</td>\n",
       "      <td>NaN</td>\n",
       "      <td>15000.0</td>\n",
       "      <td>15000.0</td>\n",
       "      <td>15000.0</td>\n",
       "      <td>60 months</td>\n",
       "      <td>27.27</td>\n",
       "      <td>460.46</td>\n",
       "      <td>E</td>\n",
       "      <td>E5</td>\n",
       "      <td>Dispatch Manager</td>\n",
       "      <td>3 years</td>\n",
       "      <td>OWN</td>\n",
       "      <td>85000.0</td>\n",
       "      <td>Verified</td>\n",
       "      <td>Nov-2018</td>\n",
       "      <td>In Grace Period</td>\n",
       "      <td>n</td>\n",
       "      <td>https://lendingclub.com/browse/loanDetail.action?loan_id=143689870</td>\n",
       "      <td>NaN</td>\n",
       "      <td>debt_consolidation</td>\n",
       "      <td>Debt consolidation</td>\n",
       "      <td>482xx</td>\n",
       "      <td>MI</td>\n",
       "      <td>0.38</td>\n",
       "      <td>0.0</td>\n",
       "      <td>Jun-2005</td>\n",
       "      <td>660.0</td>\n",
       "      <td>664.0</td>\n",
       "      <td>1.0</td>\n",
       "      <td>47.0</td>\n",
       "      <td>NaN</td>\n",
       "      <td>3.0</td>\n",
       "      <td>0.0</td>\n",
       "      <td>761.0</td>\n",
       "      <td>26.2</td>\n",
       "      <td>9.0</td>\n",
       "      <td>w</td>\n",
       "      <td>14639.03</td>\n",
       "      <td>14639.03</td>\n",
       "      <td>1347.590000</td>\n",
       "      <td>1347.59</td>\n",
       "      <td>360.97</td>\n",
       "      <td>963.60</td>\n",
       "      <td>23.02</td>\n",
       "      <td>0.00</td>\n",
       "      <td>0.0000</td>\n",
       "      <td>Mar-2019</td>\n",
       "      <td>504.40</td>\n",
       "      <td>Apr-2019</td>\n",
       "      <td>Mar-2019</td>\n",
       "      <td>609.0</td>\n",
       "      <td>605.0</td>\n",
       "      <td>0.0</td>\n",
       "      <td>NaN</td>\n",
       "      <td>1.0</td>\n",
       "      <td>Individual</td>\n",
       "      <td>NaN</td>\n",
       "      <td>NaN</td>\n",
       "      <td>NaN</td>\n",
       "      <td>0.0</td>\n",
       "      <td>0.0</td>\n",
       "      <td>761.0</td>\n",
       "      <td>0.0</td>\n",
       "      <td>0.0</td>\n",
       "      <td>0.0</td>\n",
       "      <td>0.0</td>\n",
       "      <td>62.0</td>\n",
       "      <td>0.0</td>\n",
       "      <td>NaN</td>\n",
       "      <td>1.0</td>\n",
       "      <td>1.0</td>\n",
       "      <td>761.0</td>\n",
       "      <td>26.0</td>\n",
       "      <td>2900.0</td>\n",
       "      <td>1.0</td>\n",
       "      <td>1.0</td>\n",
       "      <td>1.0</td>\n",
       "      <td>1.0</td>\n",
       "      <td>254.0</td>\n",
       "      <td>1539.0</td>\n",
       "      <td>33.1</td>\n",
       "      <td>0.0</td>\n",
       "      <td>0.0</td>\n",
       "      <td>141.0</td>\n",
       "      <td>161.0</td>\n",
       "      <td>12.0</td>\n",
       "      <td>12.0</td>\n",
       "      <td>0.0</td>\n",
       "      <td>12.0</td>\n",
       "      <td>NaN</td>\n",
       "      <td>1.0</td>\n",
       "      <td>47.0</td>\n",
       "      <td>0.0</td>\n",
       "      <td>1.0</td>\n",
       "      <td>1.0</td>\n",
       "      <td>2.0</td>\n",
       "      <td>3.0</td>\n",
       "      <td>4.0</td>\n",
       "      <td>3.0</td>\n",
       "      <td>5.0</td>\n",
       "      <td>1.0</td>\n",
       "      <td>3.0</td>\n",
       "      <td>0.0</td>\n",
       "      <td>0.0</td>\n",
       "      <td>0.0</td>\n",
       "      <td>1.0</td>\n",
       "      <td>88.9</td>\n",
       "      <td>0.0</td>\n",
       "      <td>0.0</td>\n",
       "      <td>0.0</td>\n",
       "      <td>2900.0</td>\n",
       "      <td>761.0</td>\n",
       "      <td>2300.0</td>\n",
       "      <td>0.0</td>\n",
       "      <td>NaN</td>\n",
       "      <td>NaN</td>\n",
       "      <td>NaN</td>\n",
       "      <td>NaN</td>\n",
       "      <td>NaN</td>\n",
       "      <td>NaN</td>\n",
       "      <td>NaN</td>\n",
       "      <td>NaN</td>\n",
       "      <td>NaN</td>\n",
       "      <td>NaN</td>\n",
       "      <td>NaN</td>\n",
       "      <td>NaN</td>\n",
       "      <td>NaN</td>\n",
       "      <td>N</td>\n",
       "      <td>NaN</td>\n",
       "      <td>NaN</td>\n",
       "      <td>NaN</td>\n",
       "      <td>NaN</td>\n",
       "      <td>NaN</td>\n",
       "      <td>NaN</td>\n",
       "      <td>NaN</td>\n",
       "      <td>NaN</td>\n",
       "      <td>NaN</td>\n",
       "      <td>NaN</td>\n",
       "      <td>NaN</td>\n",
       "      <td>NaN</td>\n",
       "      <td>NaN</td>\n",
       "      <td>NaN</td>\n",
       "      <td>Cash</td>\n",
       "      <td>N</td>\n",
       "      <td>NaN</td>\n",
       "      <td>NaN</td>\n",
       "      <td>NaN</td>\n",
       "      <td>NaN</td>\n",
       "      <td>NaN</td>\n",
       "      <td>NaN</td>\n",
       "    </tr>\n",
       "    <tr>\n",
       "      <th>909383</th>\n",
       "      <td>110087125</td>\n",
       "      <td>NaN</td>\n",
       "      <td>16800.0</td>\n",
       "      <td>16800.0</td>\n",
       "      <td>16800.0</td>\n",
       "      <td>36 months</td>\n",
       "      <td>7.21</td>\n",
       "      <td>520.35</td>\n",
       "      <td>A</td>\n",
       "      <td>A3</td>\n",
       "      <td>Police Officer</td>\n",
       "      <td>10+ years</td>\n",
       "      <td>MORTGAGE</td>\n",
       "      <td>90000.0</td>\n",
       "      <td>Not Verified</td>\n",
       "      <td>Jun-2017</td>\n",
       "      <td>Fully Paid</td>\n",
       "      <td>n</td>\n",
       "      <td>https://lendingclub.com/browse/loanDetail.action?loan_id=110087125</td>\n",
       "      <td>NaN</td>\n",
       "      <td>home_improvement</td>\n",
       "      <td>Home improvement</td>\n",
       "      <td>775xx</td>\n",
       "      <td>TX</td>\n",
       "      <td>6.80</td>\n",
       "      <td>0.0</td>\n",
       "      <td>Apr-1996</td>\n",
       "      <td>760.0</td>\n",
       "      <td>764.0</td>\n",
       "      <td>0.0</td>\n",
       "      <td>62.0</td>\n",
       "      <td>NaN</td>\n",
       "      <td>7.0</td>\n",
       "      <td>0.0</td>\n",
       "      <td>159.0</td>\n",
       "      <td>0.6</td>\n",
       "      <td>24.0</td>\n",
       "      <td>w</td>\n",
       "      <td>0.00</td>\n",
       "      <td>0.00</td>\n",
       "      <td>18128.602936</td>\n",
       "      <td>18128.60</td>\n",
       "      <td>16800.00</td>\n",
       "      <td>1328.60</td>\n",
       "      <td>0.00</td>\n",
       "      <td>0.00</td>\n",
       "      <td>0.0000</td>\n",
       "      <td>Oct-2018</td>\n",
       "      <td>10330.08</td>\n",
       "      <td>NaN</td>\n",
       "      <td>Oct-2018</td>\n",
       "      <td>809.0</td>\n",
       "      <td>805.0</td>\n",
       "      <td>0.0</td>\n",
       "      <td>NaN</td>\n",
       "      <td>1.0</td>\n",
       "      <td>Individual</td>\n",
       "      <td>NaN</td>\n",
       "      <td>NaN</td>\n",
       "      <td>NaN</td>\n",
       "      <td>0.0</td>\n",
       "      <td>0.0</td>\n",
       "      <td>116175.0</td>\n",
       "      <td>0.0</td>\n",
       "      <td>1.0</td>\n",
       "      <td>1.0</td>\n",
       "      <td>1.0</td>\n",
       "      <td>11.0</td>\n",
       "      <td>9973.0</td>\n",
       "      <td>33.0</td>\n",
       "      <td>0.0</td>\n",
       "      <td>1.0</td>\n",
       "      <td>0.0</td>\n",
       "      <td>18.0</td>\n",
       "      <td>26900.0</td>\n",
       "      <td>1.0</td>\n",
       "      <td>2.0</td>\n",
       "      <td>2.0</td>\n",
       "      <td>3.0</td>\n",
       "      <td>19363.0</td>\n",
       "      <td>24400.0</td>\n",
       "      <td>0.0</td>\n",
       "      <td>0.0</td>\n",
       "      <td>0.0</td>\n",
       "      <td>155.0</td>\n",
       "      <td>253.0</td>\n",
       "      <td>20.0</td>\n",
       "      <td>7.0</td>\n",
       "      <td>3.0</td>\n",
       "      <td>42.0</td>\n",
       "      <td>NaN</td>\n",
       "      <td>8.0</td>\n",
       "      <td>62.0</td>\n",
       "      <td>0.0</td>\n",
       "      <td>0.0</td>\n",
       "      <td>1.0</td>\n",
       "      <td>3.0</td>\n",
       "      <td>5.0</td>\n",
       "      <td>7.0</td>\n",
       "      <td>5.0</td>\n",
       "      <td>14.0</td>\n",
       "      <td>1.0</td>\n",
       "      <td>7.0</td>\n",
       "      <td>0.0</td>\n",
       "      <td>0.0</td>\n",
       "      <td>0.0</td>\n",
       "      <td>2.0</td>\n",
       "      <td>95.8</td>\n",
       "      <td>0.0</td>\n",
       "      <td>0.0</td>\n",
       "      <td>0.0</td>\n",
       "      <td>166867.0</td>\n",
       "      <td>10132.0</td>\n",
       "      <td>24400.0</td>\n",
       "      <td>29967.0</td>\n",
       "      <td>NaN</td>\n",
       "      <td>NaN</td>\n",
       "      <td>NaN</td>\n",
       "      <td>NaN</td>\n",
       "      <td>NaN</td>\n",
       "      <td>NaN</td>\n",
       "      <td>NaN</td>\n",
       "      <td>NaN</td>\n",
       "      <td>NaN</td>\n",
       "      <td>NaN</td>\n",
       "      <td>NaN</td>\n",
       "      <td>NaN</td>\n",
       "      <td>NaN</td>\n",
       "      <td>N</td>\n",
       "      <td>NaN</td>\n",
       "      <td>NaN</td>\n",
       "      <td>NaN</td>\n",
       "      <td>NaN</td>\n",
       "      <td>NaN</td>\n",
       "      <td>NaN</td>\n",
       "      <td>NaN</td>\n",
       "      <td>NaN</td>\n",
       "      <td>NaN</td>\n",
       "      <td>NaN</td>\n",
       "      <td>NaN</td>\n",
       "      <td>NaN</td>\n",
       "      <td>NaN</td>\n",
       "      <td>NaN</td>\n",
       "      <td>Cash</td>\n",
       "      <td>N</td>\n",
       "      <td>NaN</td>\n",
       "      <td>NaN</td>\n",
       "      <td>NaN</td>\n",
       "      <td>NaN</td>\n",
       "      <td>NaN</td>\n",
       "      <td>NaN</td>\n",
       "    </tr>\n",
       "  </tbody>\n",
       "</table>\n",
       "</div>"
      ],
      "text/plain": [
       "                id  member_id  loan_amnt  funded_amnt  funded_amnt_inv  \\\n",
       "1881976    3064897        NaN    18000.0      18000.0          18000.0   \n",
       "723924    76764992        NaN     7500.0       7500.0           7500.0   \n",
       "661001    83325713        NaN    10500.0      10500.0          10500.0   \n",
       "1405478  143689870        NaN    15000.0      15000.0          15000.0   \n",
       "909383   110087125        NaN    16800.0      16800.0          16800.0   \n",
       "\n",
       "               term  int_rate  installment grade sub_grade  \\\n",
       "1881976   36 months     13.11       607.45     B        B4   \n",
       "723924    36 months     23.13       290.84     F        F1   \n",
       "661001    60 months     11.49       230.87     B        B5   \n",
       "1405478   60 months     27.27       460.46     E        E5   \n",
       "909383    36 months      7.21       520.35     A        A3   \n",
       "\n",
       "                   emp_title emp_length home_ownership  annual_inc  \\\n",
       "1881976  United Technologies    5 years           RENT     84500.0   \n",
       "723924             caregiver    4 years       MORTGAGE     25000.0   \n",
       "661001                facing    3 years       MORTGAGE     73000.0   \n",
       "1405478     Dispatch Manager    3 years            OWN     85000.0   \n",
       "909383        Police Officer  10+ years       MORTGAGE     90000.0   \n",
       "\n",
       "        verification_status   issue_d      loan_status pymnt_plan  \\\n",
       "1881976        Not Verified  Jan-2013      Charged Off          n   \n",
       "723924      Source Verified  Apr-2016       Fully Paid          n   \n",
       "661001             Verified  Jun-2016          Current          n   \n",
       "1405478            Verified  Nov-2018  In Grace Period          n   \n",
       "909383         Not Verified  Jun-2017       Fully Paid          n   \n",
       "\n",
       "                                                                        url  \\\n",
       "1881976    https://lendingclub.com/browse/loanDetail.action?loan_id=3064897   \n",
       "723924    https://lendingclub.com/browse/loanDetail.action?loan_id=76764992   \n",
       "661001    https://lendingclub.com/browse/loanDetail.action?loan_id=83325713   \n",
       "1405478  https://lendingclub.com/browse/loanDetail.action?loan_id=143689870   \n",
       "909383   https://lendingclub.com/browse/loanDetail.action?loan_id=110087125   \n",
       "\n",
       "                                                                                                                         desc  \\\n",
       "1881976    Borrower added on 01/09/13 > Still has high interest balances and would like to reduce my rate with this loan.<br>   \n",
       "723924                                                                                                                    NaN   \n",
       "661001                                                                                                                    NaN   \n",
       "1405478                                                                                                                   NaN   \n",
       "909383                                                                                                                    NaN   \n",
       "\n",
       "                    purpose               title zip_code addr_state    dti  \\\n",
       "1881976  debt_consolidation  2013 Consolidation    061xx         CT  27.64   \n",
       "723924   debt_consolidation  Debt consolidation    959xx         CA  15.51   \n",
       "661001   debt_consolidation  Debt consolidation    959xx         CA  14.13   \n",
       "1405478  debt_consolidation  Debt consolidation    482xx         MI   0.38   \n",
       "909383     home_improvement    Home improvement    775xx         TX   6.80   \n",
       "\n",
       "         delinq_2yrs earliest_cr_line  fico_range_low  fico_range_high  \\\n",
       "1881976          0.0         Jun-2000           660.0            664.0   \n",
       "723924           0.0         May-2005           665.0            669.0   \n",
       "661001           0.0         Jan-2012           720.0            724.0   \n",
       "1405478          0.0         Jun-2005           660.0            664.0   \n",
       "909383           0.0         Apr-1996           760.0            764.0   \n",
       "\n",
       "         inq_last_6mths  mths_since_last_delinq  mths_since_last_record  \\\n",
       "1881976             0.0                    67.0                     NaN   \n",
       "723924              1.0                     NaN                    51.0   \n",
       "661001              0.0                     NaN                     NaN   \n",
       "1405478             1.0                    47.0                     NaN   \n",
       "909383              0.0                    62.0                     NaN   \n",
       "\n",
       "         open_acc  pub_rec  revol_bal  revol_util  total_acc  \\\n",
       "1881976      13.0      0.0    22826.0        83.9       25.0   \n",
       "723924        9.0      1.0     6959.0        61.0       13.0   \n",
       "661001        9.0      0.0     9707.0        42.6       13.0   \n",
       "1405478       3.0      0.0      761.0        26.2        9.0   \n",
       "909383        7.0      0.0      159.0         0.6       24.0   \n",
       "\n",
       "        initial_list_status  out_prncp  out_prncp_inv   total_pymnt  \\\n",
       "1881976                   f       0.00           0.00  10773.150000   \n",
       "723924                    f       0.00           0.00   9713.639433   \n",
       "661001                    w    5469.97        5469.97   7605.310000   \n",
       "1405478                   w   14639.03       14639.03   1347.590000   \n",
       "909383                    w       0.00           0.00  18128.602936   \n",
       "\n",
       "         total_pymnt_inv  total_rec_prncp  total_rec_int  total_rec_late_fee  \\\n",
       "1881976         10773.15          2527.43        1896.46                0.00   \n",
       "723924           9713.64          7500.00        2213.64                0.00   \n",
       "661001           7605.31          5030.03        2575.28                0.00   \n",
       "1405478          1347.59           360.97         963.60               23.02   \n",
       "909383          18128.60         16800.00        1328.60                0.00   \n",
       "\n",
       "         recoveries  collection_recovery_fee last_pymnt_d  last_pymnt_amnt  \\\n",
       "1881976     6349.26                1079.3742     Dec-2013           609.60   \n",
       "723924         0.00                   0.0000     Dec-2017          4264.79   \n",
       "661001         0.00                   0.0000     Mar-2019           230.87   \n",
       "1405478        0.00                   0.0000     Mar-2019           504.40   \n",
       "909383         0.00                   0.0000     Oct-2018         10330.08   \n",
       "\n",
       "        next_pymnt_d last_credit_pull_d  last_fico_range_high  \\\n",
       "1881976          NaN           Feb-2019                 559.0   \n",
       "723924           NaN           Dec-2017                 684.0   \n",
       "661001      Apr-2019           Mar-2019                 779.0   \n",
       "1405478     Apr-2019           Mar-2019                 609.0   \n",
       "909383           NaN           Oct-2018                 809.0   \n",
       "\n",
       "         last_fico_range_low  collections_12_mths_ex_med  \\\n",
       "1881976                555.0                         0.0   \n",
       "723924                 680.0                         0.0   \n",
       "661001                 775.0                         0.0   \n",
       "1405478                605.0                         0.0   \n",
       "909383                 805.0                         0.0   \n",
       "\n",
       "         mths_since_last_major_derog  policy_code application_type  \\\n",
       "1881976                          NaN          1.0       Individual   \n",
       "723924                           NaN          1.0       Individual   \n",
       "661001                           NaN          1.0       Individual   \n",
       "1405478                          NaN          1.0       Individual   \n",
       "909383                           NaN          1.0       Individual   \n",
       "\n",
       "         annual_inc_joint  dti_joint verification_status_joint  \\\n",
       "1881976               NaN        NaN                       NaN   \n",
       "723924                NaN        NaN                       NaN   \n",
       "661001                NaN        NaN                       NaN   \n",
       "1405478               NaN        NaN                       NaN   \n",
       "909383                NaN        NaN                       NaN   \n",
       "\n",
       "         acc_now_delinq  tot_coll_amt  tot_cur_bal  open_acc_6m  open_act_il  \\\n",
       "1881976             0.0           0.0     102830.0          NaN          NaN   \n",
       "723924              0.0           0.0     137987.0          1.0          0.0   \n",
       "661001              0.0           0.0     214316.0          1.0          2.0   \n",
       "1405478             0.0           0.0        761.0          0.0          0.0   \n",
       "909383              0.0           0.0     116175.0          0.0          1.0   \n",
       "\n",
       "         open_il_12m  open_il_24m  mths_since_rcnt_il  total_bal_il  il_util  \\\n",
       "1881976          NaN          NaN                 NaN           NaN      NaN   \n",
       "723924           0.0          0.0               122.0           0.0      NaN   \n",
       "661001           0.0          0.0                26.0       20963.0     67.0   \n",
       "1405478          0.0          0.0                62.0           0.0      NaN   \n",
       "909383           1.0          1.0                11.0        9973.0     33.0   \n",
       "\n",
       "         open_rv_12m  open_rv_24m  max_bal_bc  all_util  total_rev_hi_lim  \\\n",
       "1881976          NaN          NaN         NaN       NaN           27200.0   \n",
       "723924           3.0          6.0      1039.0      61.0           11400.0   \n",
       "661001           1.0          3.0      3356.0      57.0           22800.0   \n",
       "1405478          1.0          1.0       761.0      26.0            2900.0   \n",
       "909383           0.0          1.0         0.0      18.0           26900.0   \n",
       "\n",
       "         inq_fi  total_cu_tl  inq_last_12m  acc_open_past_24mths  avg_cur_bal  \\\n",
       "1881976     NaN          NaN           NaN                   4.0       7910.0   \n",
       "723924      0.0          0.0           3.0                   8.0      15332.0   \n",
       "661001      1.0          2.0           0.0                   4.0      23813.0   \n",
       "1405478     1.0          1.0           1.0                   1.0        254.0   \n",
       "909383      1.0          2.0           2.0                   3.0      19363.0   \n",
       "\n",
       "         bc_open_to_buy  bc_util  chargeoff_within_12_mths  delinq_amnt  \\\n",
       "1881976           198.0     99.1                       0.0          0.0   \n",
       "723924            375.0     84.4                       0.0          0.0   \n",
       "661001          13093.0     42.6                       0.0          0.0   \n",
       "1405478          1539.0     33.1                       0.0          0.0   \n",
       "909383          24400.0      0.0                       0.0          0.0   \n",
       "\n",
       "         mo_sin_old_il_acct  mo_sin_old_rev_tl_op  mo_sin_rcnt_rev_tl_op  \\\n",
       "1881976               137.0                 153.0                   14.0   \n",
       "723924                131.0                 107.0                    5.0   \n",
       "661001                 53.0                  41.0                    5.0   \n",
       "1405478               141.0                 161.0                   12.0   \n",
       "909383                155.0                 253.0                   20.0   \n",
       "\n",
       "         mo_sin_rcnt_tl  mort_acc  mths_since_recent_bc  \\\n",
       "1881976            10.0       0.0                  14.0   \n",
       "723924              5.0       3.0                  16.0   \n",
       "661001              5.0       1.0                   5.0   \n",
       "1405478            12.0       0.0                  12.0   \n",
       "909383              7.0       3.0                  42.0   \n",
       "\n",
       "         mths_since_recent_bc_dlq  mths_since_recent_inq  \\\n",
       "1881976                      67.0                   14.0   \n",
       "723924                        NaN                    5.0   \n",
       "661001                        NaN                   15.0   \n",
       "1405478                       NaN                    1.0   \n",
       "909383                        NaN                    8.0   \n",
       "\n",
       "         mths_since_recent_revol_delinq  num_accts_ever_120_pd  \\\n",
       "1881976                            67.0                    0.0   \n",
       "723924                              NaN                    0.0   \n",
       "661001                              NaN                    0.0   \n",
       "1405478                            47.0                    0.0   \n",
       "909383                             62.0                    0.0   \n",
       "\n",
       "         num_actv_bc_tl  num_actv_rev_tl  num_bc_sats  num_bc_tl  num_il_tl  \\\n",
       "1881976             6.0              7.0          6.0       12.0       10.0   \n",
       "723924              2.0              8.0          2.0        2.0        2.0   \n",
       "661001              6.0              6.0          6.0        8.0        4.0   \n",
       "1405478             1.0              1.0          2.0        3.0        4.0   \n",
       "909383              0.0              1.0          3.0        5.0        7.0   \n",
       "\n",
       "         num_op_rev_tl  num_rev_accts  num_rev_tl_bal_gt_0  num_sats  \\\n",
       "1881976            8.0           15.0                  7.0      13.0   \n",
       "723924             8.0            8.0                  8.0       9.0   \n",
       "661001             6.0            8.0                  6.0       9.0   \n",
       "1405478            3.0            5.0                  1.0       3.0   \n",
       "909383             5.0           14.0                  1.0       7.0   \n",
       "\n",
       "         num_tl_120dpd_2m  num_tl_30dpd  num_tl_90g_dpd_24m  \\\n",
       "1881976               0.0           0.0                 0.0   \n",
       "723924                0.0           0.0                 0.0   \n",
       "661001                0.0           0.0                 0.0   \n",
       "1405478               0.0           0.0                 0.0   \n",
       "909383                0.0           0.0                 0.0   \n",
       "\n",
       "         num_tl_op_past_12m  pct_tl_nvr_dlq  percent_bc_gt_75  \\\n",
       "1881976                 1.0            91.0             100.0   \n",
       "723924                  4.0           100.0             100.0   \n",
       "661001                  2.0           100.0               0.0   \n",
       "1405478                 1.0            88.9               0.0   \n",
       "909383                  2.0            95.8               0.0   \n",
       "\n",
       "         pub_rec_bankruptcies  tax_liens  tot_hi_cred_lim  total_bal_ex_mort  \\\n",
       "1881976                   0.0        0.0         111133.0           102830.0   \n",
       "723924                    0.0        0.0         143889.0             6959.0   \n",
       "661001                    0.0        0.0         240655.0            30670.0   \n",
       "1405478                   0.0        0.0           2900.0              761.0   \n",
       "909383                    0.0        0.0         166867.0            10132.0   \n",
       "\n",
       "         total_bc_limit  total_il_high_credit_limit  revol_bal_joint  \\\n",
       "1881976         22700.0                     83933.0              NaN   \n",
       "723924           2400.0                         0.0              NaN   \n",
       "661001          22800.0                     31297.0              NaN   \n",
       "1405478          2300.0                         0.0              NaN   \n",
       "909383          24400.0                     29967.0              NaN   \n",
       "\n",
       "         sec_app_fico_range_low  sec_app_fico_range_high  \\\n",
       "1881976                     NaN                      NaN   \n",
       "723924                      NaN                      NaN   \n",
       "661001                      NaN                      NaN   \n",
       "1405478                     NaN                      NaN   \n",
       "909383                      NaN                      NaN   \n",
       "\n",
       "        sec_app_earliest_cr_line  sec_app_inq_last_6mths  sec_app_mort_acc  \\\n",
       "1881976                      NaN                     NaN               NaN   \n",
       "723924                       NaN                     NaN               NaN   \n",
       "661001                       NaN                     NaN               NaN   \n",
       "1405478                      NaN                     NaN               NaN   \n",
       "909383                       NaN                     NaN               NaN   \n",
       "\n",
       "         sec_app_open_acc  sec_app_revol_util  sec_app_open_act_il  \\\n",
       "1881976               NaN                 NaN                  NaN   \n",
       "723924                NaN                 NaN                  NaN   \n",
       "661001                NaN                 NaN                  NaN   \n",
       "1405478               NaN                 NaN                  NaN   \n",
       "909383                NaN                 NaN                  NaN   \n",
       "\n",
       "         sec_app_num_rev_accts  sec_app_chargeoff_within_12_mths  \\\n",
       "1881976                    NaN                               NaN   \n",
       "723924                     NaN                               NaN   \n",
       "661001                     NaN                               NaN   \n",
       "1405478                    NaN                               NaN   \n",
       "909383                     NaN                               NaN   \n",
       "\n",
       "         sec_app_collections_12_mths_ex_med  \\\n",
       "1881976                                 NaN   \n",
       "723924                                  NaN   \n",
       "661001                                  NaN   \n",
       "1405478                                 NaN   \n",
       "909383                                  NaN   \n",
       "\n",
       "         sec_app_mths_since_last_major_derog hardship_flag hardship_type  \\\n",
       "1881976                                  NaN             N           NaN   \n",
       "723924                                   NaN             N           NaN   \n",
       "661001                                   NaN             N           NaN   \n",
       "1405478                                  NaN             N           NaN   \n",
       "909383                                   NaN             N           NaN   \n",
       "\n",
       "        hardship_reason hardship_status  deferral_term  hardship_amount  \\\n",
       "1881976             NaN             NaN            NaN              NaN   \n",
       "723924              NaN             NaN            NaN              NaN   \n",
       "661001              NaN             NaN            NaN              NaN   \n",
       "1405478             NaN             NaN            NaN              NaN   \n",
       "909383              NaN             NaN            NaN              NaN   \n",
       "\n",
       "        hardship_start_date hardship_end_date payment_plan_start_date  \\\n",
       "1881976                 NaN               NaN                     NaN   \n",
       "723924                  NaN               NaN                     NaN   \n",
       "661001                  NaN               NaN                     NaN   \n",
       "1405478                 NaN               NaN                     NaN   \n",
       "909383                  NaN               NaN                     NaN   \n",
       "\n",
       "         hardship_length  hardship_dpd hardship_loan_status  \\\n",
       "1881976              NaN           NaN                  NaN   \n",
       "723924               NaN           NaN                  NaN   \n",
       "661001               NaN           NaN                  NaN   \n",
       "1405478              NaN           NaN                  NaN   \n",
       "909383               NaN           NaN                  NaN   \n",
       "\n",
       "         orig_projected_additional_accrued_interest  \\\n",
       "1881976                                         NaN   \n",
       "723924                                          NaN   \n",
       "661001                                          NaN   \n",
       "1405478                                         NaN   \n",
       "909383                                          NaN   \n",
       "\n",
       "         hardship_payoff_balance_amount  hardship_last_payment_amount  \\\n",
       "1881976                             NaN                           NaN   \n",
       "723924                              NaN                           NaN   \n",
       "661001                              NaN                           NaN   \n",
       "1405478                             NaN                           NaN   \n",
       "909383                              NaN                           NaN   \n",
       "\n",
       "        disbursement_method debt_settlement_flag debt_settlement_flag_date  \\\n",
       "1881976                Cash                    Y                  Apr-2014   \n",
       "723924                 Cash                    N                       NaN   \n",
       "661001                 Cash                    N                       NaN   \n",
       "1405478                Cash                    N                       NaN   \n",
       "909383                 Cash                    N                       NaN   \n",
       "\n",
       "        settlement_status settlement_date  settlement_amount  \\\n",
       "1881976          COMPLETE        Mar-2014             6348.0   \n",
       "723924                NaN             NaN                NaN   \n",
       "661001                NaN             NaN                NaN   \n",
       "1405478               NaN             NaN                NaN   \n",
       "909383                NaN             NaN                NaN   \n",
       "\n",
       "         settlement_percentage  settlement_term  \n",
       "1881976                  40.43              0.0  \n",
       "723924                     NaN              NaN  \n",
       "661001                     NaN              NaN  \n",
       "1405478                    NaN              NaN  \n",
       "909383                     NaN              NaN  "
      ]
     },
     "execution_count": 8,
     "metadata": {},
     "output_type": "execute_result"
    }
   ],
   "source": [
    "loans.sample(5)"
   ]
  },
  {
   "cell_type": "markdown",
   "metadata": {
    "_cell_guid": "6e847348-5344-4ebb-b820-03a772ad5059",
    "_uuid": "841ca8b2103b35b98730139c2e64b790f2edeb89"
   },
   "source": [
    "# 3. Response Variable\n",
    "<a id=\"3\"></a>"
   ]
  },
  {
   "cell_type": "markdown",
   "metadata": {
    "_cell_guid": "b9e79844-28d9-4b5e-a6d3-c9dbfd17820e",
    "_uuid": "138869442509b04e45df20b0356e7ed91f77f7c2"
   },
   "source": [
    "We're going to try to predict the `loan_status` variable. What are the value counts for this variable?"
   ]
  },
  {
   "cell_type": "code",
   "execution_count": 9,
   "metadata": {
    "_cell_guid": "d5b467af-c5a1-4ae0-a044-3a421252eb78",
    "_uuid": "84e9c41ee08246a83bc6f8ad04a90c83a1bf408e"
   },
   "outputs": [
    {
     "data": {
      "text/plain": [
       "Fully Paid                                             1076751\n",
       "Current                                                 878317\n",
       "Charged Off                                             268559\n",
       "Late (31-120 days)                                       21467\n",
       "In Grace Period                                           8436\n",
       "Late (16-30 days)                                         4349\n",
       "Does not meet the credit policy. Status:Fully Paid        1988\n",
       "Does not meet the credit policy. Status:Charged Off        761\n",
       "Default                                                     40\n",
       "NaN                                                         33\n",
       "Name: loan_status, dtype: int64"
      ]
     },
     "execution_count": 9,
     "metadata": {},
     "output_type": "execute_result"
    }
   ],
   "source": [
    "loans['loan_status'].value_counts(dropna=False)"
   ]
  },
  {
   "cell_type": "markdown",
   "metadata": {
    "_cell_guid": "527520b1-32a4-4b95-ab0a-b24ac47b3cf6",
    "_uuid": "49a92fd5f4aab3a3561edf9929df506c9fd34a9d"
   },
   "source": [
    "We're going to try to learn differences in the features between completed loans that have been fully paid or charged off. We won't consider loans that are current, don't meet the credit policy, defaulted, or have a missing status. So we only keep the loans with status \"Fully Paid\" or \"Charged Off.\""
   ]
  },
  {
   "cell_type": "code",
   "execution_count": 10,
   "metadata": {
    "_cell_guid": "f4f361b5-32f2-4828-8e37-3e43a32c32c0",
    "_uuid": "5c7dc5453d31b32b849bec55fe252c449d8e9557"
   },
   "outputs": [],
   "source": [
    "loans = loans.loc[loans['loan_status'].isin(['Fully Paid', 'Charged Off'])]"
   ]
  },
  {
   "cell_type": "markdown",
   "metadata": {},
   "source": [
    "How many loans remain in the dataset?"
   ]
  },
  {
   "cell_type": "code",
   "execution_count": 11,
   "metadata": {
    "_cell_guid": "be5c5ad3-f002-48f3-9695-3a80a1539c1b",
    "_uuid": "c71ee5ec2f8dc3d8297a7eea7eef441f27c51317"
   },
   "outputs": [
    {
     "data": {
      "text/plain": [
       "(1345310, 151)"
      ]
     },
     "execution_count": 11,
     "metadata": {},
     "output_type": "execute_result"
    }
   ],
   "source": [
    "loans.shape"
   ]
  },
  {
   "cell_type": "markdown",
   "metadata": {},
   "source": [
    "There are 1,345,310 loans remaining. Check that the statuses are as expected:"
   ]
  },
  {
   "cell_type": "code",
   "execution_count": 12,
   "metadata": {
    "_cell_guid": "590a5146-c659-43ed-bfb4-7bea32672932",
    "_uuid": "d70396f915861568607ee204c4ff4574f80d5bdc"
   },
   "outputs": [
    {
     "data": {
      "text/plain": [
       "Fully Paid     1076751\n",
       "Charged Off     268559\n",
       "Name: loan_status, dtype: int64"
      ]
     },
     "execution_count": 12,
     "metadata": {},
     "output_type": "execute_result"
    }
   ],
   "source": [
    "loans['loan_status'].value_counts(dropna=False)"
   ]
  },
  {
   "cell_type": "markdown",
   "metadata": {},
   "source": [
    "Status counts as percentages:"
   ]
  },
  {
   "cell_type": "code",
   "execution_count": 13,
   "metadata": {
    "_cell_guid": "590a5146-c659-43ed-bfb4-7bea32672932",
    "_uuid": "d70396f915861568607ee204c4ff4574f80d5bdc"
   },
   "outputs": [
    {
     "data": {
      "text/plain": [
       "Fully Paid     0.800374\n",
       "Charged Off    0.199626\n",
       "Name: loan_status, dtype: float64"
      ]
     },
     "execution_count": 13,
     "metadata": {},
     "output_type": "execute_result"
    }
   ],
   "source": [
    "loans['loan_status'].value_counts(normalize=True, dropna=False)"
   ]
  },
  {
   "cell_type": "markdown",
   "metadata": {
    "_cell_guid": "c44aa6b1-041a-490e-8f64-81d010b1bf4a",
    "_uuid": "715d0aed4051332c5f32f35142e130e7da555150"
   },
   "source": [
    "About 80% of the remaining loans have been fully paid and 20% have charged off, so we have a somewhat unbalanced classification problem."
   ]
  },
  {
   "cell_type": "markdown",
   "metadata": {
    "_cell_guid": "a6220e50-5df9-427a-a92b-5e6138234fb9",
    "_uuid": "34206dc6425cbf3c744c23006e6b10f522777a9d"
   },
   "source": [
    "# 4. Limit the Feature Space\n",
    "<a id=\"4\"></a>"
   ]
  },
  {
   "cell_type": "markdown",
   "metadata": {
    "_cell_guid": "89f9038c-fb12-46e9-9136-5f5e0a81d2bb",
    "_uuid": "a0a000e470b72a6128fc3ec216e181ab4ccc3809"
   },
   "source": [
    "The full dataset has 150 features for each loan. We'll select features in two steps:\n",
    "\n",
    "1. Drop features with more than 30% of their data missing.\n",
    "2. Of the remaining features, choose only those that would be available to an investor before deciding to fund the loan.\n",
    "\n",
    "Definitions of the features are given in the LendingClub Data Dictionary [available here](https://www.lendingclub.com/info/download-data.action)."
   ]
  },
  {
   "cell_type": "markdown",
   "metadata": {
    "_cell_guid": "033676d1-c042-4af2-a41c-1f49d678d03f",
    "_uuid": "6d374ac8147274a76355bbeca958bbcf6ebb1de4"
   },
   "source": [
    "## 4.1 Drop features missing more than 30% data\n",
    "<a id=\"4.1\"></a>"
   ]
  },
  {
   "cell_type": "markdown",
   "metadata": {},
   "source": [
    "First calculate the percentage of missing data for each feature:"
   ]
  },
  {
   "cell_type": "code",
   "execution_count": 14,
   "metadata": {},
   "outputs": [],
   "source": [
    "missing_fractions = loans.isnull().mean().sort_values(ascending=False)"
   ]
  },
  {
   "cell_type": "markdown",
   "metadata": {},
   "source": [
    "Top 10 features missing the most data:"
   ]
  },
  {
   "cell_type": "code",
   "execution_count": 15,
   "metadata": {},
   "outputs": [
    {
     "data": {
      "text/plain": [
       "member_id                                     1.000000\n",
       "next_pymnt_d                                  1.000000\n",
       "orig_projected_additional_accrued_interest    0.997206\n",
       "hardship_start_date                           0.995723\n",
       "hardship_end_date                             0.995723\n",
       "payment_plan_start_date                       0.995723\n",
       "hardship_length                               0.995723\n",
       "hardship_dpd                                  0.995723\n",
       "hardship_loan_status                          0.995723\n",
       "hardship_last_payment_amount                  0.995723\n",
       "dtype: float64"
      ]
     },
     "execution_count": 15,
     "metadata": {},
     "output_type": "execute_result"
    }
   ],
   "source": [
    "missing_fractions.head(10)"
   ]
  },
  {
   "cell_type": "markdown",
   "metadata": {},
   "source": [
    "Let's visualize the distribution of missing data percentages:"
   ]
  },
  {
   "cell_type": "code",
   "execution_count": 16,
   "metadata": {},
   "outputs": [
    {
     "data": {
      "text/plain": [
       "Text(0, 0.5, 'Feature count')"
      ]
     },
     "execution_count": 16,
     "metadata": {},
     "output_type": "execute_result"
    },
    {
     "data": {
      "image/png": "[encoded data removed]",
      "text/plain": [
       "<Figure size 540x270 with 1 Axes>"
      ]
     },
     "metadata": {},
     "output_type": "display_data"
    }
   ],
   "source": [
    "plt.figure(figsize=(6,3), dpi=90)\n",
    "missing_fractions.plot.hist(bins=20)\n",
    "plt.title('Histogram of Feature Incompleteness')\n",
    "plt.xlabel('Fraction of data missing')\n",
    "plt.ylabel('Feature count')"
   ]
  },
  {
   "cell_type": "markdown",
   "metadata": {},
   "source": [
    "From the above histogram, we see there's a large gap between features missing \"some\" data (&lt;20%) and those missing \"lots\" of data (&gt;40%). Because it's generally very difficult to accurately impute data with more than 30% missing values, we drop such columns. First store all variables missing more than 30% data in an alphabetical list:"
   ]
  },
  {
   "cell_type": "code",
   "execution_count": 17,
   "metadata": {
    "_cell_guid": "b2bccd07-6308-4d83-b45a-de8ade091106",
    "_uuid": "dd01b28cdf204ed38fa2d7123254fe9dd5f62c87"
   },
   "outputs": [
    {
     "name": "stdout",
     "output_type": "stream",
     "text": [
      "['all_util', 'annual_inc_joint', 'debt_settlement_flag_date', 'deferral_term', 'desc', 'dti_joint', 'hardship_amount', 'hardship_dpd', 'hardship_end_date', 'hardship_last_payment_amount', 'hardship_length', 'hardship_loan_status', 'hardship_payoff_balance_amount', 'hardship_reason', 'hardship_start_date', 'hardship_status', 'hardship_type', 'il_util', 'inq_fi', 'inq_last_12m', 'max_bal_bc', 'member_id', 'mths_since_last_delinq', 'mths_since_last_major_derog', 'mths_since_last_record', 'mths_since_rcnt_il', 'mths_since_recent_bc_dlq', 'mths_since_recent_revol_delinq', 'next_pymnt_d', 'open_acc_6m', 'open_act_il', 'open_il_12m', 'open_il_24m', 'open_rv_12m', 'open_rv_24m', 'orig_projected_additional_accrued_interest', 'payment_plan_start_date', 'revol_bal_joint', 'sec_app_chargeoff_within_12_mths', 'sec_app_collections_12_mths_ex_med', 'sec_app_earliest_cr_line', 'sec_app_fico_range_high', 'sec_app_fico_range_low', 'sec_app_inq_last_6mths', 'sec_app_mort_acc', 'sec_app_mths_since_last_major_derog', 'sec_app_num_rev_accts', 'sec_app_open_acc', 'sec_app_open_act_il', 'sec_app_revol_util', 'settlement_amount', 'settlement_date', 'settlement_percentage', 'settlement_status', 'settlement_term', 'total_bal_il', 'total_cu_tl', 'verification_status_joint']\n"
     ]
    }
   ],
   "source": [
    "drop_list = sorted(list(missing_fractions[missing_fractions > 0.3].index))\n",
    "print(drop_list)"
   ]
  },
  {
   "cell_type": "markdown",
   "metadata": {},
   "source": [
    "How many features will be dropped?"
   ]
  },
  {
   "cell_type": "code",
   "execution_count": 18,
   "metadata": {},
   "outputs": [
    {
     "data": {
      "text/plain": [
       "58"
      ]
     },
     "execution_count": 18,
     "metadata": {},
     "output_type": "execute_result"
    }
   ],
   "source": [
    "len(drop_list)"
   ]
  },
  {
   "cell_type": "markdown",
   "metadata": {
    "_cell_guid": "7fcfae32-fdf5-42af-a14a-0b797c17b034",
    "_uuid": "4477765ea99a243a25421550ff4087b68fc6fa1b"
   },
   "source": [
    "Drop these features:"
   ]
  },
  {
   "cell_type": "code",
   "execution_count": 19,
   "metadata": {},
   "outputs": [],
   "source": [
    "loans.drop(labels=drop_list, axis=1, inplace=True)"
   ]
  },
  {
   "cell_type": "code",
   "execution_count": 20,
   "metadata": {},
   "outputs": [
    {
     "data": {
      "text/plain": [
       "(1345310, 93)"
      ]
     },
     "execution_count": 20,
     "metadata": {},
     "output_type": "execute_result"
    }
   ],
   "source": [
    "loans.shape"
   ]
  },
  {
   "cell_type": "markdown",
   "metadata": {
    "_cell_guid": "33b90b6b-0fcd-4657-ae11-0ff2f6a95823",
    "_uuid": "4066be79385b7b0c6b7d4f96533106093304b746"
   },
   "source": [
    "## 4.2 Only keep loan features known to potential investors\n",
    "<a id=\"4.2\"></a>"
   ]
  },
  {
   "cell_type": "markdown",
   "metadata": {},
   "source": [
    "We examine the LendingClub website and Data Dictionary to determine which features would have been available to potential investors. Here's the list of features we currently have, in alphabetical order:"
   ]
  },
  {
   "cell_type": "code",
   "execution_count": 21,
   "metadata": {},
   "outputs": [
    {
     "name": "stdout",
     "output_type": "stream",
     "text": [
      "['acc_now_delinq', 'acc_open_past_24mths', 'addr_state', 'annual_inc', 'application_type', 'avg_cur_bal', 'bc_open_to_buy', 'bc_util', 'chargeoff_within_12_mths', 'collection_recovery_fee', 'collections_12_mths_ex_med', 'debt_settlement_flag', 'delinq_2yrs', 'delinq_amnt', 'disbursement_method', 'dti', 'earliest_cr_line', 'emp_length', 'emp_title', 'fico_range_high', 'fico_range_low', 'funded_amnt', 'funded_amnt_inv', 'grade', 'hardship_flag', 'home_ownership', 'id', 'initial_list_status', 'inq_last_6mths', 'installment', 'int_rate', 'issue_d', 'last_credit_pull_d', 'last_fico_range_high', 'last_fico_range_low', 'last_pymnt_amnt', 'last_pymnt_d', 'loan_amnt', 'loan_status', 'mo_sin_old_il_acct', 'mo_sin_old_rev_tl_op', 'mo_sin_rcnt_rev_tl_op', 'mo_sin_rcnt_tl', 'mort_acc', 'mths_since_recent_bc', 'mths_since_recent_inq', 'num_accts_ever_120_pd', 'num_actv_bc_tl', 'num_actv_rev_tl', 'num_bc_sats', 'num_bc_tl', 'num_il_tl', 'num_op_rev_tl', 'num_rev_accts', 'num_rev_tl_bal_gt_0', 'num_sats', 'num_tl_120dpd_2m', 'num_tl_30dpd', 'num_tl_90g_dpd_24m', 'num_tl_op_past_12m', 'open_acc', 'out_prncp', 'out_prncp_inv', 'pct_tl_nvr_dlq', 'percent_bc_gt_75', 'policy_code', 'pub_rec', 'pub_rec_bankruptcies', 'purpose', 'pymnt_plan', 'recoveries', 'revol_bal', 'revol_util', 'sub_grade', 'tax_liens', 'term', 'title', 'tot_coll_amt', 'tot_cur_bal', 'tot_hi_cred_lim', 'total_acc', 'total_bal_ex_mort', 'total_bc_limit', 'total_il_high_credit_limit', 'total_pymnt', 'total_pymnt_inv', 'total_rec_int', 'total_rec_late_fee', 'total_rec_prncp', 'total_rev_hi_lim', 'url', 'verification_status', 'zip_code']\n"
     ]
    }
   ],
   "source": [
    "print(sorted(loans.columns))"
   ]
  },
  {
   "cell_type": "markdown",
   "metadata": {},
   "source": [
    "For each of these features, we check the description in the Data Dictionary and only keep the features that would have been available to investors considering an investment in the loan. These include features in the loan application, and any features added by LendingClub when the loan listing was accepted, such as the loan grade and interest rate.\n",
    "\n",
    "I'm using my best available knowledge to determine which loan features are known to potential investors. I am not an investor on LendingClub, so my knowledge of the LendingClub investment process is not exact. When in doubt, I err on the side of dropping the feature."
   ]
  },
  {
   "cell_type": "code",
   "execution_count": 22,
   "metadata": {},
   "outputs": [],
   "source": [
    "keep_list = ['addr_state', 'annual_inc', 'application_type', 'dti', 'earliest_cr_line', 'emp_length', 'emp_title', 'fico_range_high', 'fico_range_low', 'grade', 'home_ownership', 'id', 'initial_list_status', 'installment', 'int_rate', 'issue_d', 'loan_amnt', 'loan_status', 'mort_acc', 'open_acc', 'pub_rec', 'pub_rec_bankruptcies', 'purpose', 'revol_bal', 'revol_util', 'sub_grade', 'term', 'title', 'total_acc', 'verification_status', 'zip_code']"
   ]
  },
  {
   "cell_type": "code",
   "execution_count": 23,
   "metadata": {},
   "outputs": [
    {
     "data": {
      "text/plain": [
       "31"
      ]
     },
     "execution_count": 23,
     "metadata": {},
     "output_type": "execute_result"
    }
   ],
   "source": [
    "len(keep_list)"
   ]
  },
  {
   "cell_type": "markdown",
   "metadata": {},
   "source": [
    "The list of features to drop is any feature not in `keep_list`:"
   ]
  },
  {
   "cell_type": "code",
   "execution_count": 24,
   "metadata": {},
   "outputs": [
    {
     "name": "stdout",
     "output_type": "stream",
     "text": [
      "['funded_amnt', 'funded_amnt_inv', 'pymnt_plan', 'url', 'delinq_2yrs', 'inq_last_6mths', 'out_prncp', 'out_prncp_inv', 'total_pymnt', 'total_pymnt_inv', 'total_rec_prncp', 'total_rec_int', 'total_rec_late_fee', 'recoveries', 'collection_recovery_fee', 'last_pymnt_d', 'last_pymnt_amnt', 'last_credit_pull_d', 'last_fico_range_high', 'last_fico_range_low', 'collections_12_mths_ex_med', 'policy_code', 'acc_now_delinq', 'tot_coll_amt', 'tot_cur_bal', 'total_rev_hi_lim', 'acc_open_past_24mths', 'avg_cur_bal', 'bc_open_to_buy', 'bc_util', 'chargeoff_within_12_mths', 'delinq_amnt', 'mo_sin_old_il_acct', 'mo_sin_old_rev_tl_op', 'mo_sin_rcnt_rev_tl_op', 'mo_sin_rcnt_tl', 'mths_since_recent_bc', 'mths_since_recent_inq', 'num_accts_ever_120_pd', 'num_actv_bc_tl', 'num_actv_rev_tl', 'num_bc_sats', 'num_bc_tl', 'num_il_tl', 'num_op_rev_tl', 'num_rev_accts', 'num_rev_tl_bal_gt_0', 'num_sats', 'num_tl_120dpd_2m', 'num_tl_30dpd', 'num_tl_90g_dpd_24m', 'num_tl_op_past_12m', 'pct_tl_nvr_dlq', 'percent_bc_gt_75', 'tax_liens', 'tot_hi_cred_lim', 'total_bal_ex_mort', 'total_bc_limit', 'total_il_high_credit_limit', 'hardship_flag', 'disbursement_method', 'debt_settlement_flag']\n"
     ]
    }
   ],
   "source": [
    "drop_list = [col for col in loans.columns if col not in keep_list]\n",
    "print(drop_list)"
   ]
  },
  {
   "cell_type": "code",
   "execution_count": 25,
   "metadata": {},
   "outputs": [
    {
     "data": {
      "text/plain": [
       "62"
      ]
     },
     "execution_count": 25,
     "metadata": {},
     "output_type": "execute_result"
    }
   ],
   "source": [
    "len(drop_list)"
   ]
  },
  {
   "cell_type": "markdown",
   "metadata": {},
   "source": [
    "Drop these features:"
   ]
  },
  {
   "cell_type": "code",
   "execution_count": 26,
   "metadata": {},
   "outputs": [],
   "source": [
    "loans.drop(labels=drop_list, axis=1, inplace=True)"
   ]
  },
  {
   "cell_type": "code",
   "execution_count": 27,
   "metadata": {},
   "outputs": [
    {
     "data": {
      "text/plain": [
       "(1345310, 31)"
      ]
     },
     "execution_count": 27,
     "metadata": {},
     "output_type": "execute_result"
    }
   ],
   "source": [
    "loans.shape"
   ]
  },
  {
   "cell_type": "markdown",
   "metadata": {},
   "source": [
    "# 5. Pre-processing and Exploratory Analysis\n",
    "<a id=\"5\"></a>"
   ]
  },
  {
   "cell_type": "markdown",
   "metadata": {},
   "source": [
    "We'll inspect each feature individually, and do the following:\n",
    "\n",
    "1. Drop the feature if it is not useful for predicting the loan status.\n",
    "2. View summary statistics and visualize the data, plotting against the loan status.\n",
    "3. Modify the feature to make it useful for modeling, if necessary."
   ]
  },
  {
   "cell_type": "markdown",
   "metadata": {},
   "source": [
    "We define a function for plotting a variable and comparing with the loan status:"
   ]
  },
  {
   "cell_type": "code",
   "execution_count": 28,
   "metadata": {},
   "outputs": [],
   "source": [
    "def plot_var(col_name, full_name, continuous):\n",
    "    \"\"\"\n",
    "    Visualize a variable with and without faceting on the loan status.\n",
    "    - col_name is the variable name in the dataframe\n",
    "    - full_name is the full variable name\n",
    "    - continuous is True if the variable is continuous, False otherwise\n",
    "    \"\"\"\n",
    "    f, (ax1, ax2) = plt.subplots(nrows=1, ncols=2, figsize=(12,3), dpi=90)\n",
    "    \n",
    "    # Plot without loan status\n",
    "    if continuous:\n",
    "        sns.distplot(loans.loc[loans[col_name].notnull(), col_name], kde=False, ax=ax1)\n",
    "    else:\n",
    "        sns.countplot(loans[col_name], order=sorted(loans[col_name].unique()), color='#5975A4', saturation=1, ax=ax1)\n",
    "    ax1.set_xlabel(full_name)\n",
    "    ax1.set_ylabel('Count')\n",
    "    ax1.set_title(full_name)\n",
    "\n",
    "    # Plot with loan status\n",
    "    if continuous:\n",
    "        sns.boxplot(x=col_name, y='loan_status', data=loans, ax=ax2)\n",
    "        ax2.set_ylabel('')\n",
    "        ax2.set_title(full_name + ' by Loan Status')\n",
    "    else:\n",
    "        charge_off_rates = loans.groupby(col_name)['loan_status'].value_counts(normalize=True).loc[:,'Charged Off']\n",
    "        sns.barplot(x=charge_off_rates.index, y=charge_off_rates.values, color='#5975A4', saturation=1, ax=ax2)\n",
    "        ax2.set_ylabel('Fraction of Loans Charged-off')\n",
    "        ax2.set_title('Charge-off Rate by ' + full_name)\n",
    "    ax2.set_xlabel(full_name)\n",
    "    \n",
    "    plt.tight_layout()"
   ]
  },
  {
   "cell_type": "markdown",
   "metadata": {},
   "source": [
    "Print the remaining features for future reference:"
   ]
  },
  {
   "cell_type": "code",
   "execution_count": 29,
   "metadata": {},
   "outputs": [
    {
     "name": "stdout",
     "output_type": "stream",
     "text": [
      "['id', 'loan_amnt', 'term', 'int_rate', 'installment', 'grade', 'sub_grade', 'emp_title', 'emp_length', 'home_ownership', 'annual_inc', 'verification_status', 'issue_d', 'loan_status', 'purpose', 'title', 'zip_code', 'addr_state', 'dti', 'earliest_cr_line', 'fico_range_low', 'fico_range_high', 'open_acc', 'pub_rec', 'revol_bal', 'revol_util', 'total_acc', 'initial_list_status', 'application_type', 'mort_acc', 'pub_rec_bankruptcies']\n"
     ]
    }
   ],
   "source": [
    "print(list(loans.columns))"
   ]
  },
  {
   "cell_type": "markdown",
   "metadata": {},
   "source": [
    "## 5.1 id"
   ]
  },
  {
   "cell_type": "markdown",
   "metadata": {},
   "source": [
    "Data Dictionary: \"A unique [LendingClub] assigned ID for the loan listing.\""
   ]
  },
  {
   "cell_type": "code",
   "execution_count": 30,
   "metadata": {},
   "outputs": [
    {
     "data": {
      "text/plain": [
       "1410531    143736930\n",
       "711715      78328764\n",
       "1836049      5794674\n",
       "1601555    131297037\n",
       "142792      60286592\n",
       "Name: id, dtype: object"
      ]
     },
     "execution_count": 30,
     "metadata": {},
     "output_type": "execute_result"
    }
   ],
   "source": [
    "loans['id'].sample(5)"
   ]
  },
  {
   "cell_type": "markdown",
   "metadata": {},
   "source": [
    "Are all the IDs unique?"
   ]
  },
  {
   "cell_type": "code",
   "execution_count": 31,
   "metadata": {},
   "outputs": [
    {
     "data": {
      "text/plain": [
       "count      1345310\n",
       "unique     1345310\n",
       "top       75358995\n",
       "freq             1\n",
       "Name: id, dtype: object"
      ]
     },
     "execution_count": 31,
     "metadata": {},
     "output_type": "execute_result"
    }
   ],
   "source": [
    "loans['id'].describe()"
   ]
  },
  {
   "cell_type": "markdown",
   "metadata": {},
   "source": [
    "Yes, they are all unique. The ID is not useful for modeling, either as a categorical variable (there are too many distinct values) or as a numerical variable (the IDs vary wildly in magnitude, likely without any significance), so we drop this variable."
   ]
  },
  {
   "cell_type": "code",
   "execution_count": 32,
   "metadata": {},
   "outputs": [],
   "source": [
    "loans.drop('id', axis=1, inplace=True)"
   ]
  },
  {
   "cell_type": "markdown",
   "metadata": {},
   "source": [
    "## 5.2 loan_amnt"
   ]
  },
  {
   "cell_type": "markdown",
   "metadata": {},
   "source": [
    "Data Dictionary: \"The listed amount of the loan applied for by the borrower. If at some point in time, the credit department reduces the loan amount, then it will be reflected in this value.\""
   ]
  },
  {
   "cell_type": "code",
   "execution_count": 36,
   "metadata": {},
   "outputs": [
    {
     "data": {
      "text/plain": [
       "count   1345310.00000\n",
       "mean      14419.97201\n",
       "std        8717.05079\n",
       "min         500.00000\n",
       "25%        8000.00000\n",
       "50%       12000.00000\n",
       "75%       20000.00000\n",
       "max       40000.00000\n",
       "Name: loan_amnt, dtype: float64"
      ]
     },
     "execution_count": 36,
     "metadata": {},
     "output_type": "execute_result"
    }
   ],
   "source": [
    "loans['loan_amnt'].describe()"
   ]
  },
  {
   "cell_type": "markdown",
   "metadata": {},
   "source": [
    "Loan amounts range from \\$500 to \\$40,000, with a median of \\$12,000."
   ]
  },
  {
   "cell_type": "code",
   "execution_count": 37,
   "metadata": {},
   "outputs": [
    {
     "data": {
      "image/png": "[encoded data removed]",
      "text/plain": [
       "<Figure size 1080x270 with 2 Axes>"
      ]
     },
     "metadata": {},
     "output_type": "display_data"
    }
   ],
   "source": [
    "plot_var('loan_amnt', 'Loan Amount', continuous=True)"
   ]
  },
  {
   "cell_type": "markdown",
   "metadata": {},
   "source": [
    "Charged-off loans tend to have higher loan amounts. Let's compare the summary statistics by loan status:"
   ]
  },
  {
   "cell_type": "code",
   "execution_count": 38,
   "metadata": {},
   "outputs": [
    {
     "data": {
      "text/html": [
       "<div>\n",
       "<style scoped>\n",
       "    .dataframe tbody tr th:only-of-type {\n",
       "        vertical-align: middle;\n",
       "    }\n",
       "\n",
       "    .dataframe tbody tr th {\n",
       "        vertical-align: top;\n",
       "    }\n",
       "\n",
       "    .dataframe thead th {\n",
       "        text-align: right;\n",
       "    }\n",
       "</style>\n",
       "<table border=\"1\" class=\"dataframe\">\n",
       "  <thead>\n",
       "    <tr style=\"text-align: right;\">\n",
       "      <th></th>\n",
       "      <th>count</th>\n",
       "      <th>mean</th>\n",
       "      <th>std</th>\n",
       "      <th>min</th>\n",
       "      <th>25%</th>\n",
       "      <th>50%</th>\n",
       "      <th>75%</th>\n",
       "      <th>max</th>\n",
       "    </tr>\n",
       "    <tr>\n",
       "      <th>loan_status</th>\n",
       "      <th></th>\n",
       "      <th></th>\n",
       "      <th></th>\n",
       "      <th></th>\n",
       "      <th></th>\n",
       "      <th></th>\n",
       "      <th></th>\n",
       "      <th></th>\n",
       "    </tr>\n",
       "  </thead>\n",
       "  <tbody>\n",
       "    <tr>\n",
       "      <th>Charged Off</th>\n",
       "      <td>268559.00000</td>\n",
       "      <td>15565.05544</td>\n",
       "      <td>8814.56008</td>\n",
       "      <td>900.00000</td>\n",
       "      <td>9000.00000</td>\n",
       "      <td>14350.00000</td>\n",
       "      <td>20400.00000</td>\n",
       "      <td>40000.00000</td>\n",
       "    </tr>\n",
       "    <tr>\n",
       "      <th>Fully Paid</th>\n",
       "      <td>1076751.00000</td>\n",
       "      <td>14134.36981</td>\n",
       "      <td>8669.02897</td>\n",
       "      <td>500.00000</td>\n",
       "      <td>7500.00000</td>\n",
       "      <td>12000.00000</td>\n",
       "      <td>20000.00000</td>\n",
       "      <td>40000.00000</td>\n",
       "    </tr>\n",
       "  </tbody>\n",
       "</table>\n",
       "</div>"
      ],
      "text/plain": [
       "                    count        mean        std       min        25%  \\\n",
       "loan_status                                                             \n",
       "Charged Off  268559.00000 15565.05544 8814.56008 900.00000 9000.00000   \n",
       "Fully Paid  1076751.00000 14134.36981 8669.02897 500.00000 7500.00000   \n",
       "\n",
       "                    50%         75%         max  \n",
       "loan_status                                      \n",
       "Charged Off 14350.00000 20400.00000 40000.00000  \n",
       "Fully Paid  12000.00000 20000.00000 40000.00000  "
      ]
     },
     "execution_count": 38,
     "metadata": {},
     "output_type": "execute_result"
    }
   ],
   "source": [
    "loans.groupby('loan_status')['loan_amnt'].describe()"
   ]
  },
  {
   "cell_type": "markdown",
   "metadata": {
    "_cell_guid": "8e98e8d9-9c8f-49b4-a123-4a11534454e3",
    "_uuid": "77ae6e4830589e4ee9dd0c815043300017c7fd75"
   },
   "source": [
    "## 5.3 term"
   ]
  },
  {
   "cell_type": "markdown",
   "metadata": {},
   "source": [
    "Data Dictionary: \"The number of payments on the loan. Values are in months and can be either 36 or 60.\""
   ]
  },
  {
   "cell_type": "code",
   "execution_count": 39,
   "metadata": {
    "_cell_guid": "e3559ee4-0c7c-4e29-9952-ef06f302937a",
    "_uuid": "b8fa81ef40fc0928639d94608d126039f73e3f3d"
   },
   "outputs": [
    {
     "data": {
      "text/plain": [
       " 36 months    1020743\n",
       " 60 months     324567\n",
       "Name: term, dtype: int64"
      ]
     },
     "execution_count": 39,
     "metadata": {},
     "output_type": "execute_result"
    }
   ],
   "source": [
    "loans['term'].value_counts(dropna=False)"
   ]
  },
  {
   "cell_type": "markdown",
   "metadata": {
    "_cell_guid": "a0a18d84-ed5f-4d4f-a377-c877a6d1be54",
    "_uuid": "7abe9deb95eb215cc2c8fa6425cc4d81bbf79bef"
   },
   "source": [
    "Convert `term` to integers."
   ]
  },
  {
   "cell_type": "code",
   "execution_count": 40,
   "metadata": {
    "_cell_guid": "dd9462d5-673b-4dce-ae3b-61f427b1abcb",
    "_uuid": "09eed29a2d6f5e30beec07ae5d29088234c99b1c"
   },
   "outputs": [],
   "source": [
    "loans['term'] = loans['term'].apply(lambda s: np.int8(s.split()[0]))"
   ]
  },
  {
   "cell_type": "code",
   "execution_count": 41,
   "metadata": {
    "_cell_guid": "dd9462d5-673b-4dce-ae3b-61f427b1abcb",
    "_uuid": "09eed29a2d6f5e30beec07ae5d29088234c99b1c"
   },
   "outputs": [
    {
     "data": {
      "text/plain": [
       "36   0.75874\n",
       "60   0.24126\n",
       "Name: term, dtype: float64"
      ]
     },
     "execution_count": 41,
     "metadata": {},
     "output_type": "execute_result"
    }
   ],
   "source": [
    "loans['term'].value_counts(normalize=True)"
   ]
  },
  {
   "cell_type": "markdown",
   "metadata": {},
   "source": [
    "Compare the charge-off rate by loan period:"
   ]
  },
  {
   "cell_type": "code",
   "execution_count": 42,
   "metadata": {},
   "outputs": [
    {
     "data": {
      "text/plain": [
       "term\n",
       "36   0.15993\n",
       "60   0.32445\n",
       "Name: loan_status, dtype: float64"
      ]
     },
     "execution_count": 42,
     "metadata": {},
     "output_type": "execute_result"
    }
   ],
   "source": [
    "loans.groupby('term')['loan_status'].value_counts(normalize=True).loc[:,'Charged Off']"
   ]
  },
  {
   "cell_type": "markdown",
   "metadata": {},
   "source": [
    "About 76% of the completed loans have three-year periods, and the rest have five-year periods. Loans with five-year periods are more than twice as likely to charge-off as loans with three-year periods."
   ]
  },
  {
   "cell_type": "markdown",
   "metadata": {},
   "source": [
    "## 5.4 int_rate"
   ]
  },
  {
   "cell_type": "markdown",
   "metadata": {},
   "source": [
    "Data Dictionary: \"Interest Rate on the loan.\""
   ]
  },
  {
   "cell_type": "code",
   "execution_count": 43,
   "metadata": {},
   "outputs": [
    {
     "data": {
      "text/plain": [
       "count   1345310.00000\n",
       "mean         13.23962\n",
       "std           4.76872\n",
       "min           5.31000\n",
       "25%           9.75000\n",
       "50%          12.74000\n",
       "75%          15.99000\n",
       "max          30.99000\n",
       "Name: int_rate, dtype: float64"
      ]
     },
     "execution_count": 43,
     "metadata": {},
     "output_type": "execute_result"
    }
   ],
   "source": [
    "loans['int_rate'].describe()"
   ]
  },
  {
   "cell_type": "markdown",
   "metadata": {},
   "source": [
    "Interest rates range from 5.31% to 30.99% (!) with a median of 12.74%."
   ]
  },
  {
   "cell_type": "code",
   "execution_count": 44,
   "metadata": {},
   "outputs": [
    {
     "data": {
      "image/png": "[encoded data removed]",
      "text/plain": [
       "<Figure size 1080x270 with 2 Axes>"
      ]
     },
     "metadata": {},
     "output_type": "display_data"
    }
   ],
   "source": [
    "plot_var('int_rate', 'Interest Rate', continuous=True)"
   ]
  },
  {
   "cell_type": "markdown",
   "metadata": {
    "_cell_guid": "1fd2a00f-0f95-481c-b9ff-d26526eb5f04",
    "_uuid": "321c4fb18ebd1bcf6689d7a5d3f23f80752bcfb3"
   },
   "source": [
    "Charged-off loans tend to have much higher interest rates. Let's compare the summary statistics by loan status:"
   ]
  },
  {
   "cell_type": "code",
   "execution_count": 45,
   "metadata": {},
   "outputs": [
    {
     "data": {
      "text/html": [
       "<div>\n",
       "<style scoped>\n",
       "    .dataframe tbody tr th:only-of-type {\n",
       "        vertical-align: middle;\n",
       "    }\n",
       "\n",
       "    .dataframe tbody tr th {\n",
       "        vertical-align: top;\n",
       "    }\n",
       "\n",
       "    .dataframe thead th {\n",
       "        text-align: right;\n",
       "    }\n",
       "</style>\n",
       "<table border=\"1\" class=\"dataframe\">\n",
       "  <thead>\n",
       "    <tr style=\"text-align: right;\">\n",
       "      <th></th>\n",
       "      <th>count</th>\n",
       "      <th>mean</th>\n",
       "      <th>std</th>\n",
       "      <th>min</th>\n",
       "      <th>25%</th>\n",
       "      <th>50%</th>\n",
       "      <th>75%</th>\n",
       "      <th>max</th>\n",
       "    </tr>\n",
       "    <tr>\n",
       "      <th>loan_status</th>\n",
       "      <th></th>\n",
       "      <th></th>\n",
       "      <th></th>\n",
       "      <th></th>\n",
       "      <th></th>\n",
       "      <th></th>\n",
       "      <th></th>\n",
       "      <th></th>\n",
       "    </tr>\n",
       "  </thead>\n",
       "  <tbody>\n",
       "    <tr>\n",
       "      <th>Charged Off</th>\n",
       "      <td>268559.00000</td>\n",
       "      <td>15.71071</td>\n",
       "      <td>4.91039</td>\n",
       "      <td>5.31000</td>\n",
       "      <td>12.29000</td>\n",
       "      <td>15.05000</td>\n",
       "      <td>18.55000</td>\n",
       "      <td>30.99000</td>\n",
       "    </tr>\n",
       "    <tr>\n",
       "      <th>Fully Paid</th>\n",
       "      <td>1076751.00000</td>\n",
       "      <td>12.62329</td>\n",
       "      <td>4.52723</td>\n",
       "      <td>5.31000</td>\n",
       "      <td>9.17000</td>\n",
       "      <td>12.23000</td>\n",
       "      <td>15.31000</td>\n",
       "      <td>30.99000</td>\n",
       "    </tr>\n",
       "  </tbody>\n",
       "</table>\n",
       "</div>"
      ],
      "text/plain": [
       "                    count     mean     std     min      25%      50%      75%  \\\n",
       "loan_status                                                                     \n",
       "Charged Off  268559.00000 15.71071 4.91039 5.31000 12.29000 15.05000 18.55000   \n",
       "Fully Paid  1076751.00000 12.62329 4.52723 5.31000  9.17000 12.23000 15.31000   \n",
       "\n",
       "                 max  \n",
       "loan_status           \n",
       "Charged Off 30.99000  \n",
       "Fully Paid  30.99000  "
      ]
     },
     "execution_count": 45,
     "metadata": {},
     "output_type": "execute_result"
    }
   ],
   "source": [
    "loans.groupby('loan_status')['int_rate'].describe()"
   ]
  },
  {
   "cell_type": "markdown",
   "metadata": {},
   "source": [
    "## 5.5 installment"
   ]
  },
  {
   "cell_type": "markdown",
   "metadata": {},
   "source": [
    "Data Dictionary: \"The monthly payment owed by the borrower if the loan originates.\""
   ]
  },
  {
   "cell_type": "code",
   "execution_count": 46,
   "metadata": {},
   "outputs": [
    {
     "data": {
      "text/plain": [
       "count   1345310.00000\n",
       "mean        438.07553\n",
       "std         261.51260\n",
       "min           4.93000\n",
       "25%         248.48000\n",
       "50%         375.43000\n",
       "75%         580.73000\n",
       "max        1719.83000\n",
       "Name: installment, dtype: float64"
      ]
     },
     "execution_count": 46,
     "metadata": {},
     "output_type": "execute_result"
    }
   ],
   "source": [
    "loans['installment'].describe()"
   ]
  },
  {
   "cell_type": "markdown",
   "metadata": {},
   "source": [
    "Installments range from \\$4.93 to \\$1,719, with a median of \\$375."
   ]
  },
  {
   "cell_type": "code",
   "execution_count": 47,
   "metadata": {},
   "outputs": [
    {
     "data": {
      "image/png": "[encoded data removed]",
      "text/plain": [
       "<Figure size 1080x270 with 2 Axes>"
      ]
     },
     "metadata": {},
     "output_type": "display_data"
    }
   ],
   "source": [
    "plot_var('installment', 'Installment', continuous=True)"
   ]
  },
  {
   "cell_type": "markdown",
   "metadata": {
    "_cell_guid": "1fd2a00f-0f95-481c-b9ff-d26526eb5f04",
    "_uuid": "321c4fb18ebd1bcf6689d7a5d3f23f80752bcfb3"
   },
   "source": [
    "Charged-off loans tend to have higher installments. Let's compare the summary statistics by loan status:"
   ]
  },
  {
   "cell_type": "code",
   "execution_count": 48,
   "metadata": {},
   "outputs": [
    {
     "data": {
      "text/html": [
       "<div>\n",
       "<style scoped>\n",
       "    .dataframe tbody tr th:only-of-type {\n",
       "        vertical-align: middle;\n",
       "    }\n",
       "\n",
       "    .dataframe tbody tr th {\n",
       "        vertical-align: top;\n",
       "    }\n",
       "\n",
       "    .dataframe thead th {\n",
       "        text-align: right;\n",
       "    }\n",
       "</style>\n",
       "<table border=\"1\" class=\"dataframe\">\n",
       "  <thead>\n",
       "    <tr style=\"text-align: right;\">\n",
       "      <th></th>\n",
       "      <th>count</th>\n",
       "      <th>mean</th>\n",
       "      <th>std</th>\n",
       "      <th>min</th>\n",
       "      <th>25%</th>\n",
       "      <th>50%</th>\n",
       "      <th>75%</th>\n",
       "      <th>max</th>\n",
       "    </tr>\n",
       "    <tr>\n",
       "      <th>loan_status</th>\n",
       "      <th></th>\n",
       "      <th></th>\n",
       "      <th></th>\n",
       "      <th></th>\n",
       "      <th></th>\n",
       "      <th></th>\n",
       "      <th></th>\n",
       "      <th></th>\n",
       "    </tr>\n",
       "  </thead>\n",
       "  <tbody>\n",
       "    <tr>\n",
       "      <th>Charged Off</th>\n",
       "      <td>268559.00000</td>\n",
       "      <td>465.14799</td>\n",
       "      <td>262.77411</td>\n",
       "      <td>21.62000</td>\n",
       "      <td>275.29000</td>\n",
       "      <td>402.83000</td>\n",
       "      <td>605.31000</td>\n",
       "      <td>1717.63000</td>\n",
       "    </tr>\n",
       "    <tr>\n",
       "      <th>Fully Paid</th>\n",
       "      <td>1076751.00000</td>\n",
       "      <td>431.32323</td>\n",
       "      <td>260.75956</td>\n",
       "      <td>4.93000</td>\n",
       "      <td>240.92000</td>\n",
       "      <td>368.26000</td>\n",
       "      <td>573.06000</td>\n",
       "      <td>1719.83000</td>\n",
       "    </tr>\n",
       "  </tbody>\n",
       "</table>\n",
       "</div>"
      ],
      "text/plain": [
       "                    count      mean       std      min       25%       50%  \\\n",
       "loan_status                                                                  \n",
       "Charged Off  268559.00000 465.14799 262.77411 21.62000 275.29000 402.83000   \n",
       "Fully Paid  1076751.00000 431.32323 260.75956  4.93000 240.92000 368.26000   \n",
       "\n",
       "                  75%        max  \n",
       "loan_status                       \n",
       "Charged Off 605.31000 1717.63000  \n",
       "Fully Paid  573.06000 1719.83000  "
      ]
     },
     "execution_count": 48,
     "metadata": {},
     "output_type": "execute_result"
    }
   ],
   "source": [
    "loans.groupby('loan_status')['installment'].describe()"
   ]
  },
  {
   "cell_type": "markdown",
   "metadata": {},
   "source": [
    "Loans that charge off have \\$30 higher installments on average."
   ]
  },
  {
   "cell_type": "markdown",
   "metadata": {
    "_cell_guid": "1b745ce5-987f-45b9-8e3f-6d5f760e3a7c",
    "_uuid": "687c301f0bd5f40efdeca5307e9d0cb6a1fb6161"
   },
   "source": [
    "## 5.6 grade, sub_grade"
   ]
  },
  {
   "cell_type": "markdown",
   "metadata": {},
   "source": [
    "Data Dictionary for `grade`: \"LendingClub assigned loan grade.\"\n",
    "\n",
    "Data Dictionary for `sub_grade`: \"LendingClub assigned loan subgrade.\"\n",
    "\n",
    "What are the possible values of `grade` and `sub_grade`?"
   ]
  },
  {
   "cell_type": "code",
   "execution_count": 49,
   "metadata": {},
   "outputs": [
    {
     "name": "stdout",
     "output_type": "stream",
     "text": [
      "['A', 'B', 'C', 'D', 'E', 'F', 'G']\n"
     ]
    }
   ],
   "source": [
    "print(sorted(loans['grade'].unique()))"
   ]
  },
  {
   "cell_type": "code",
   "execution_count": 50,
   "metadata": {
    "scrolled": true
   },
   "outputs": [
    {
     "name": "stdout",
     "output_type": "stream",
     "text": [
      "['A1', 'A2', 'A3', 'A4', 'A5', 'B1', 'B2', 'B3', 'B4', 'B5', 'C1', 'C2', 'C3', 'C4', 'C5', 'D1', 'D2', 'D3', 'D4', 'D5', 'E1', 'E2', 'E3', 'E4', 'E5', 'F1', 'F2', 'F3', 'F4', 'F5', 'G1', 'G2', 'G3', 'G4', 'G5']\n"
     ]
    }
   ],
   "source": [
    "print(sorted(loans['sub_grade'].unique()))"
   ]
  },
  {
   "cell_type": "markdown",
   "metadata": {
    "_cell_guid": "b1d34f86-4ffb-4024-ad0f-714bd5cb3f21",
    "_uuid": "efb24fbebc6a4b092a37b79e7fb6f29133d3315a"
   },
   "source": [
    "The grade is implied by the subgrade, so let's drop the grade column."
   ]
  },
  {
   "cell_type": "code",
   "execution_count": 51,
   "metadata": {
    "_cell_guid": "9c00600b-0a58-4648-9448-4e960b705eb6",
    "_uuid": "a46021ef96a484732a847ed2f3cece9d423f73ec"
   },
   "outputs": [],
   "source": [
    "loans.drop('grade', axis=1, inplace=True)"
   ]
  },
  {
   "cell_type": "code",
   "execution_count": 52,
   "metadata": {},
   "outputs": [
    {
     "data": {
      "image/png": "[encoded data removed]",
      "text/plain": [
       "<Figure size 1080x270 with 2 Axes>"
      ]
     },
     "metadata": {},
     "output_type": "display_data"
    }
   ],
   "source": [
    "plot_var('sub_grade', 'Subgrade', continuous=False)"
   ]
  },
  {
   "cell_type": "markdown",
   "metadata": {
    "_cell_guid": "e53dbddd-aff4-4d44-bc8e-a7637e953ab0",
    "_uuid": "cf7685607c32b9857f4fc0cce38c6feea215e2fe"
   },
   "source": [
    "There's a clear trend of higher probability of charge-off as the subgrade worsens."
   ]
  },
  {
   "cell_type": "markdown",
   "metadata": {},
   "source": [
    "## 5.7 emp_title"
   ]
  },
  {
   "cell_type": "markdown",
   "metadata": {},
   "source": [
    "Data Dictionary: \"The job title supplied by the Borrower when applying for the loan.\""
   ]
  },
  {
   "cell_type": "code",
   "execution_count": 53,
   "metadata": {},
   "outputs": [
    {
     "data": {
      "text/plain": [
       "count     1259525\n",
       "unique     378353\n",
       "top       Teacher\n",
       "freq        21268\n",
       "Name: emp_title, dtype: object"
      ]
     },
     "execution_count": 53,
     "metadata": {},
     "output_type": "execute_result"
    }
   ],
   "source": [
    "loans['emp_title'].describe()"
   ]
  },
  {
   "cell_type": "markdown",
   "metadata": {},
   "source": [
    "There are too many different job titles for this feature to be useful, so we drop it."
   ]
  },
  {
   "cell_type": "code",
   "execution_count": 54,
   "metadata": {},
   "outputs": [],
   "source": [
    "loans.drop(labels='emp_title', axis=1, inplace=True)"
   ]
  },
  {
   "cell_type": "markdown",
   "metadata": {
    "_cell_guid": "98efbb15-f5d7-42ef-992a-92bb0860a803",
    "_uuid": "e84911043e002622f7c181e2be71d09ac277dbc8"
   },
   "source": [
    "## 5.8 emp_length"
   ]
  },
  {
   "cell_type": "markdown",
   "metadata": {},
   "source": [
    "Data Dictionary: \"Employment length in years. Possible values are between 0 and 10 where 0 means less than one year and 10 means ten or more years.\" The actual data does not match this description:"
   ]
  },
  {
   "cell_type": "code",
   "execution_count": 55,
   "metadata": {
    "_cell_guid": "a60d507b-dc0d-4e44-912e-0d214b1b85a9",
    "_uuid": "372fd175e1e4458f8a9bc860fd91798d696892be"
   },
   "outputs": [
    {
     "data": {
      "text/plain": [
       "1 year        88494\n",
       "10+ years    442199\n",
       "2 years      121743\n",
       "3 years      107597\n",
       "4 years       80556\n",
       "5 years       84154\n",
       "6 years       62733\n",
       "7 years       59624\n",
       "8 years       60701\n",
       "9 years       50937\n",
       "< 1 year     108061\n",
       "NaN           78511\n",
       "Name: emp_length, dtype: int64"
      ]
     },
     "execution_count": 55,
     "metadata": {},
     "output_type": "execute_result"
    }
   ],
   "source": [
    "loans['emp_length'].value_counts(dropna=False).sort_index()"
   ]
  },
  {
   "cell_type": "markdown",
   "metadata": {},
   "source": [
    "Note there are 78,511 loans without data on the length of employment.\n",
    "\n",
    "Convert `emp_length` to integers:"
   ]
  },
  {
   "cell_type": "code",
   "execution_count": 56,
   "metadata": {},
   "outputs": [],
   "source": [
    "loans['emp_length'].replace(to_replace='10+ years', value='10 years', inplace=True)"
   ]
  },
  {
   "cell_type": "code",
   "execution_count": 57,
   "metadata": {},
   "outputs": [],
   "source": [
    "loans['emp_length'].replace('< 1 year', '0 years', inplace=True)"
   ]
  },
  {
   "cell_type": "code",
   "execution_count": 58,
   "metadata": {
    "_cell_guid": "f5ce8306-8ca3-4a78-8332-7a12fd233f98",
    "_uuid": "fc61f2f288d38767f5fa1e3f7df5b58c7bc52a35"
   },
   "outputs": [],
   "source": [
    "def emp_length_to_int(s):\n",
    "    if pd.isnull(s):\n",
    "        return s\n",
    "    else:\n",
    "        return np.int8(s.split()[0])"
   ]
  },
  {
   "cell_type": "code",
   "execution_count": 59,
   "metadata": {
    "_cell_guid": "f5ce8306-8ca3-4a78-8332-7a12fd233f98",
    "_uuid": "fc61f2f288d38767f5fa1e3f7df5b58c7bc52a35"
   },
   "outputs": [],
   "source": [
    "loans['emp_length'] = loans['emp_length'].apply(emp_length_to_int)"
   ]
  },
  {
   "cell_type": "code",
   "execution_count": 60,
   "metadata": {
    "_cell_guid": "f5ce8306-8ca3-4a78-8332-7a12fd233f98",
    "_uuid": "fc61f2f288d38767f5fa1e3f7df5b58c7bc52a35"
   },
   "outputs": [
    {
     "data": {
      "text/plain": [
       "0.00000     108061\n",
       "1.00000      88494\n",
       "2.00000     121743\n",
       "3.00000     107597\n",
       "4.00000      80556\n",
       "5.00000      84154\n",
       "6.00000      62733\n",
       "7.00000      59624\n",
       "8.00000      60701\n",
       "9.00000      50937\n",
       "10.00000    442199\n",
       "nan          78511\n",
       "Name: emp_length, dtype: int64"
      ]
     },
     "execution_count": 60,
     "metadata": {},
     "output_type": "execute_result"
    }
   ],
   "source": [
    "loans['emp_length'].value_counts(dropna=False).sort_index()"
   ]
  },
  {
   "cell_type": "code",
   "execution_count": 61,
   "metadata": {},
   "outputs": [
    {
     "data": {
      "image/png": "[encoded data removed]",
      "text/plain": [
       "<Figure size 1080x270 with 2 Axes>"
      ]
     },
     "metadata": {},
     "output_type": "display_data"
    }
   ],
   "source": [
    "plot_var('emp_length', 'Employment Length', continuous=False)"
   ]
  },
  {
   "cell_type": "markdown",
   "metadata": {},
   "source": [
    "Loan status does not appear to vary much with employment length on average, except for a small drop in charge-offs for borrowers with over 10 years of employment."
   ]
  },
  {
   "cell_type": "markdown",
   "metadata": {
    "_cell_guid": "e994c5db-880e-4ec0-8cbd-4aacad373993",
    "_uuid": "332158cff90d2e051f5a80bee5983019ada32a30"
   },
   "source": [
    "## 5.9 home_ownership"
   ]
  },
  {
   "cell_type": "markdown",
   "metadata": {},
   "source": [
    "Data Dictionary: \"The home ownership status provided by the borrower during registration or obtained from the credit report. Our values are: RENT, OWN, MORTGAGE, OTHER.\""
   ]
  },
  {
   "cell_type": "code",
   "execution_count": 62,
   "metadata": {
    "_cell_guid": "d574efb7-1a6b-4ec2-a446-827d75d0d9cf",
    "_uuid": "017c6be384f35a700cebfa761dbaee4ec6b73256"
   },
   "outputs": [
    {
     "data": {
      "text/plain": [
       "MORTGAGE    665579\n",
       "RENT        534421\n",
       "OWN         144832\n",
       "ANY            286\n",
       "OTHER          144\n",
       "NONE            48\n",
       "Name: home_ownership, dtype: int64"
      ]
     },
     "execution_count": 62,
     "metadata": {},
     "output_type": "execute_result"
    }
   ],
   "source": [
    "loans['home_ownership'].value_counts(dropna=False)"
   ]
  },
  {
   "cell_type": "markdown",
   "metadata": {},
   "source": [
    "Replace the values `ANY` and `NONE` with `OTHER`:"
   ]
  },
  {
   "cell_type": "code",
   "execution_count": 63,
   "metadata": {},
   "outputs": [],
   "source": [
    "loans['home_ownership'].replace(['NONE', 'ANY'], 'OTHER', inplace=True)"
   ]
  },
  {
   "cell_type": "code",
   "execution_count": 64,
   "metadata": {},
   "outputs": [
    {
     "data": {
      "text/plain": [
       "MORTGAGE    665579\n",
       "RENT        534421\n",
       "OWN         144832\n",
       "OTHER          478\n",
       "Name: home_ownership, dtype: int64"
      ]
     },
     "execution_count": 64,
     "metadata": {},
     "output_type": "execute_result"
    }
   ],
   "source": [
    "loans['home_ownership'].value_counts(dropna=False)"
   ]
  },
  {
   "cell_type": "code",
   "execution_count": 65,
   "metadata": {},
   "outputs": [
    {
     "data": {
      "image/png": "[encoded data removed]",
      "text/plain": [
       "<Figure size 1080x270 with 2 Axes>"
      ]
     },
     "metadata": {},
     "output_type": "display_data"
    }
   ],
   "source": [
    "plot_var('home_ownership', 'Home Ownership', continuous=False)"
   ]
  },
  {
   "cell_type": "markdown",
   "metadata": {},
   "source": [
    "There appear to be large differences in charge-off rates by home ownership status. Renters and homeowners have a higher probability of charge-off. Let's compare the charge-off rates:"
   ]
  },
  {
   "cell_type": "code",
   "execution_count": 66,
   "metadata": {},
   "outputs": [
    {
     "data": {
      "text/plain": [
       "home_ownership\n",
       "MORTGAGE   0.17208\n",
       "OTHER      0.18828\n",
       "OWN        0.20620\n",
       "RENT       0.23217\n",
       "Name: loan_status, dtype: float64"
      ]
     },
     "execution_count": 66,
     "metadata": {},
     "output_type": "execute_result"
    }
   ],
   "source": [
    "loans.groupby('home_ownership')['loan_status'].value_counts(normalize=True).loc[:,'Charged Off']"
   ]
  },
  {
   "cell_type": "markdown",
   "metadata": {},
   "source": [
    "## 5.10 annual_inc"
   ]
  },
  {
   "cell_type": "markdown",
   "metadata": {},
   "source": [
    "Data Dictionary: \"The self-reported annual income provided by the borrower during registration.\""
   ]
  },
  {
   "cell_type": "code",
   "execution_count": 67,
   "metadata": {},
   "outputs": [
    {
     "data": {
      "text/plain": [
       "count    1345310.00000\n",
       "mean       76247.63641\n",
       "std        69925.09843\n",
       "min            0.00000\n",
       "25%        45780.00000\n",
       "50%        65000.00000\n",
       "75%        90000.00000\n",
       "max     10999200.00000\n",
       "Name: annual_inc, dtype: float64"
      ]
     },
     "execution_count": 67,
     "metadata": {},
     "output_type": "execute_result"
    }
   ],
   "source": [
    "loans['annual_inc'].describe()"
   ]
  },
  {
   "cell_type": "markdown",
   "metadata": {},
   "source": [
    "Annual income ranges from \\$0 to \\$10,999,200, with a median of \\$65,000. Because of the large range of incomes, we should take a log transform of the annual income variable."
   ]
  },
  {
   "cell_type": "code",
   "execution_count": 68,
   "metadata": {},
   "outputs": [],
   "source": [
    "loans['log_annual_inc'] = loans['annual_inc'].apply(lambda x: np.log10(x+1))"
   ]
  },
  {
   "cell_type": "code",
   "execution_count": 69,
   "metadata": {},
   "outputs": [],
   "source": [
    "loans.drop('annual_inc', axis=1, inplace=True)"
   ]
  },
  {
   "cell_type": "code",
   "execution_count": 70,
   "metadata": {},
   "outputs": [
    {
     "data": {
      "text/plain": [
       "count   1345310.00000\n",
       "mean          4.81281\n",
       "std           0.24772\n",
       "min           0.00000\n",
       "25%           4.66069\n",
       "50%           4.81292\n",
       "75%           4.95425\n",
       "max           7.04136\n",
       "Name: log_annual_inc, dtype: float64"
      ]
     },
     "execution_count": 70,
     "metadata": {},
     "output_type": "execute_result"
    }
   ],
   "source": [
    "loans['log_annual_inc'].describe()"
   ]
  },
  {
   "cell_type": "code",
   "execution_count": 71,
   "metadata": {},
   "outputs": [
    {
     "data": {
      "image/png": "[encoded data removed]",
      "text/plain": [
       "<Figure size 1080x270 with 2 Axes>"
      ]
     },
     "metadata": {},
     "output_type": "display_data"
    }
   ],
   "source": [
    "plot_var('log_annual_inc', 'Log Annual Income', continuous=True)"
   ]
  },
  {
   "cell_type": "markdown",
   "metadata": {},
   "source": [
    "It appears that individuals with higher income are more likely to pay off their loans. Let's compare the summary statistics by loan status:"
   ]
  },
  {
   "cell_type": "code",
   "execution_count": 72,
   "metadata": {},
   "outputs": [
    {
     "data": {
      "text/html": [
       "<div>\n",
       "<style scoped>\n",
       "    .dataframe tbody tr th:only-of-type {\n",
       "        vertical-align: middle;\n",
       "    }\n",
       "\n",
       "    .dataframe tbody tr th {\n",
       "        vertical-align: top;\n",
       "    }\n",
       "\n",
       "    .dataframe thead th {\n",
       "        text-align: right;\n",
       "    }\n",
       "</style>\n",
       "<table border=\"1\" class=\"dataframe\">\n",
       "  <thead>\n",
       "    <tr style=\"text-align: right;\">\n",
       "      <th></th>\n",
       "      <th>count</th>\n",
       "      <th>mean</th>\n",
       "      <th>std</th>\n",
       "      <th>min</th>\n",
       "      <th>25%</th>\n",
       "      <th>50%</th>\n",
       "      <th>75%</th>\n",
       "      <th>max</th>\n",
       "    </tr>\n",
       "    <tr>\n",
       "      <th>loan_status</th>\n",
       "      <th></th>\n",
       "      <th></th>\n",
       "      <th></th>\n",
       "      <th></th>\n",
       "      <th></th>\n",
       "      <th></th>\n",
       "      <th></th>\n",
       "      <th></th>\n",
       "    </tr>\n",
       "  </thead>\n",
       "  <tbody>\n",
       "    <tr>\n",
       "      <th>Charged Off</th>\n",
       "      <td>268559.00000</td>\n",
       "      <td>4.78176</td>\n",
       "      <td>0.24198</td>\n",
       "      <td>0.00000</td>\n",
       "      <td>4.63348</td>\n",
       "      <td>4.77816</td>\n",
       "      <td>4.92942</td>\n",
       "      <td>6.97772</td>\n",
       "    </tr>\n",
       "    <tr>\n",
       "      <th>Fully Paid</th>\n",
       "      <td>1076751.00000</td>\n",
       "      <td>4.82056</td>\n",
       "      <td>0.24853</td>\n",
       "      <td>0.00000</td>\n",
       "      <td>4.67211</td>\n",
       "      <td>4.81292</td>\n",
       "      <td>4.96849</td>\n",
       "      <td>7.04136</td>\n",
       "    </tr>\n",
       "  </tbody>\n",
       "</table>\n",
       "</div>"
      ],
      "text/plain": [
       "                    count    mean     std     min     25%     50%     75%  \\\n",
       "loan_status                                                                 \n",
       "Charged Off  268559.00000 4.78176 0.24198 0.00000 4.63348 4.77816 4.92942   \n",
       "Fully Paid  1076751.00000 4.82056 0.24853 0.00000 4.67211 4.81292 4.96849   \n",
       "\n",
       "                max  \n",
       "loan_status          \n",
       "Charged Off 6.97772  \n",
       "Fully Paid  7.04136  "
      ]
     },
     "execution_count": 72,
     "metadata": {},
     "output_type": "execute_result"
    }
   ],
   "source": [
    "loans.groupby('loan_status')['log_annual_inc'].describe()"
   ]
  },
  {
   "cell_type": "markdown",
   "metadata": {
    "_cell_guid": "119da036-552d-4a95-a61f-7fdd464bcf5b",
    "_uuid": "840799ab7f984830bf29f0b677f4f14b672d4253"
   },
   "source": [
    "## 5.11 verification_status"
   ]
  },
  {
   "cell_type": "markdown",
   "metadata": {},
   "source": [
    "Data Dictionary: \"Indicates if income was verified by [Lending Club], not verified, or if the income source was verified.\""
   ]
  },
  {
   "cell_type": "code",
   "execution_count": 73,
   "metadata": {},
   "outputs": [
    {
     "data": {
      "image/png": "[encoded data removed]",
      "text/plain": [
       "<Figure size 1080x270 with 2 Axes>"
      ]
     },
     "metadata": {},
     "output_type": "display_data"
    }
   ],
   "source": [
    "plot_var('verification_status', 'Verification Status', continuous=False)"
   ]
  },
  {
   "cell_type": "markdown",
   "metadata": {},
   "source": [
    "## 5.12 issue_d"
   ]
  },
  {
   "cell_type": "markdown",
   "metadata": {},
   "source": [
    "Data Dictionary: \"The month which the loan was funded.\"\n",
    "\n",
    "Because we're only using variables available to investors before the loan was funded, `issue_d` will not be included in the final model. We're keeping it for now just to perform the train/test split later, then we'll drop it."
   ]
  },
  {
   "cell_type": "markdown",
   "metadata": {
    "_cell_guid": "3a91aec4-9bc4-42d6-8c62-e3892a9a2754",
    "_uuid": "87124cd85754a1e6ef201217421ff2f50108cb2a"
   },
   "source": [
    "## 5.13 purpose"
   ]
  },
  {
   "cell_type": "markdown",
   "metadata": {},
   "source": [
    "Data Dictionary: \"A category provided by the borrower for the loan request.\""
   ]
  },
  {
   "cell_type": "code",
   "execution_count": 74,
   "metadata": {
    "_cell_guid": "9de7d1b4-212b-4478-88a2-a3176a03e982",
    "_uuid": "5d4c3c93e59ee2cde87f4fc5487b43c555c33faf"
   },
   "outputs": [
    {
     "data": {
      "text/plain": [
       "debt_consolidation    780321\n",
       "credit_card           295279\n",
       "home_improvement       87504\n",
       "other                  77875\n",
       "major_purchase         29425\n",
       "medical                15554\n",
       "small_business         15416\n",
       "car                    14585\n",
       "moving                  9480\n",
       "vacation                9065\n",
       "house                   7253\n",
       "wedding                 2294\n",
       "renewable_energy         933\n",
       "educational              326\n",
       "Name: purpose, dtype: int64"
      ]
     },
     "execution_count": 74,
     "metadata": {},
     "output_type": "execute_result"
    }
   ],
   "source": [
    "loans['purpose'].value_counts()"
   ]
  },
  {
   "cell_type": "markdown",
   "metadata": {},
   "source": [
    "Calculate the charge-off rates by purpose:"
   ]
  },
  {
   "cell_type": "code",
   "execution_count": 75,
   "metadata": {},
   "outputs": [
    {
     "data": {
      "text/plain": [
       "purpose\n",
       "wedding              0.12162\n",
       "car                  0.14679\n",
       "credit_card          0.16927\n",
       "educational          0.17178\n",
       "home_improvement     0.17716\n",
       "major_purchase       0.18600\n",
       "vacation             0.19173\n",
       "other                0.21040\n",
       "debt_consolidation   0.21147\n",
       "medical              0.21776\n",
       "house                0.21881\n",
       "moving               0.23354\n",
       "renewable_energy     0.23687\n",
       "small_business       0.29709\n",
       "Name: loan_status, dtype: float64"
      ]
     },
     "execution_count": 75,
     "metadata": {},
     "output_type": "execute_result"
    }
   ],
   "source": [
    "loans.groupby('purpose')['loan_status'].value_counts(normalize=True).loc[:,'Charged Off'].sort_values()"
   ]
  },
  {
   "cell_type": "markdown",
   "metadata": {
    "_cell_guid": "240c20e9-6336-47c6-9d92-69cc73433966",
    "_uuid": "fab8e8d284e011c9da9fedfa1a586a409f77ea0b"
   },
   "source": [
    "Notice that only 12% of completed loans for weddings have charged-off, but 30% of completed small business loans have charged-off."
   ]
  },
  {
   "cell_type": "markdown",
   "metadata": {},
   "source": [
    "## 5.14 title"
   ]
  },
  {
   "cell_type": "markdown",
   "metadata": {},
   "source": [
    "Data Dictionary: \"The loan title provided by the borrower.\""
   ]
  },
  {
   "cell_type": "code",
   "execution_count": 76,
   "metadata": {},
   "outputs": [
    {
     "data": {
      "text/plain": [
       "count                1328651\n",
       "unique                 61682\n",
       "top       Debt consolidation\n",
       "freq                  660960\n",
       "Name: title, dtype: object"
      ]
     },
     "execution_count": 76,
     "metadata": {},
     "output_type": "execute_result"
    }
   ],
   "source": [
    "loans['title'].describe()"
   ]
  },
  {
   "cell_type": "markdown",
   "metadata": {},
   "source": [
    "View the top 10 loan titles, and their frequencies:"
   ]
  },
  {
   "cell_type": "code",
   "execution_count": 77,
   "metadata": {},
   "outputs": [
    {
     "data": {
      "text/plain": [
       "Debt consolidation         660960\n",
       "Credit card refinancing    249910\n",
       "Home improvement            75073\n",
       "Other                       66778\n",
       "Major purchase              24045\n",
       "Debt Consolidation          15695\n",
       "Medical expenses            13576\n",
       "Business                    11750\n",
       "Car financing               11220\n",
       "Vacation                     8046\n",
       "Name: title, dtype: int64"
      ]
     },
     "execution_count": 77,
     "metadata": {},
     "output_type": "execute_result"
    }
   ],
   "source": [
    "loans['title'].value_counts().head(10)"
   ]
  },
  {
   "cell_type": "markdown",
   "metadata": {},
   "source": [
    "There are 61,682 different titles in the dataset, and based on the top 10 titles, the `purpose` variable appears to already contain this information. So we drop the `title` variable."
   ]
  },
  {
   "cell_type": "code",
   "execution_count": 78,
   "metadata": {},
   "outputs": [],
   "source": [
    "loans.drop('title', axis=1, inplace=True)"
   ]
  },
  {
   "cell_type": "markdown",
   "metadata": {
    "_cell_guid": "b6908ad9-66be-4a38-8e45-bacde206e987",
    "_uuid": "f68d4795cca9861dd340a2c155c0b956ae9f53fa"
   },
   "source": [
    "## 5.15 zip_code, addr_state"
   ]
  },
  {
   "cell_type": "markdown",
   "metadata": {},
   "source": [
    "Data Dictionary for `zip_code`: \"The first 3 numbers of the zip code provided by the borrower in the loan application.\"\n",
    "\n",
    "Data Dictionary for `addr_state`: \"The state provided by the borrower in the loan application.\""
   ]
  },
  {
   "cell_type": "code",
   "execution_count": 79,
   "metadata": {},
   "outputs": [
    {
     "data": {
      "text/plain": [
       "292231     125xx\n",
       "1319869    551xx\n",
       "1232882    490xx\n",
       "2220693    086xx\n",
       "1079160    775xx\n",
       "Name: zip_code, dtype: object"
      ]
     },
     "execution_count": 79,
     "metadata": {},
     "output_type": "execute_result"
    }
   ],
   "source": [
    "loans['zip_code'].sample(5)"
   ]
  },
  {
   "cell_type": "code",
   "execution_count": 80,
   "metadata": {},
   "outputs": [
    {
     "data": {
      "text/plain": [
       "943"
      ]
     },
     "execution_count": 80,
     "metadata": {},
     "output_type": "execute_result"
    }
   ],
   "source": [
    "loans['zip_code'].nunique()"
   ]
  },
  {
   "cell_type": "code",
   "execution_count": 81,
   "metadata": {},
   "outputs": [
    {
     "data": {
      "text/plain": [
       "204522     PA\n",
       "2027529    NY\n",
       "2183045    OH\n",
       "1156673    CO\n",
       "1331642    CA\n",
       "Name: addr_state, dtype: object"
      ]
     },
     "execution_count": 81,
     "metadata": {},
     "output_type": "execute_result"
    }
   ],
   "source": [
    "loans['addr_state'].sample(5)"
   ]
  },
  {
   "cell_type": "code",
   "execution_count": 82,
   "metadata": {},
   "outputs": [
    {
     "data": {
      "text/plain": [
       "51"
      ]
     },
     "execution_count": 82,
     "metadata": {},
     "output_type": "execute_result"
    }
   ],
   "source": [
    "loans['addr_state'].nunique()"
   ]
  },
  {
   "cell_type": "markdown",
   "metadata": {
    "_cell_guid": "a2485d09-8385-427d-9bcb-7c47b8034e53",
    "_uuid": "69aa28976c0826de8e461d39c5e3b5bfdf49e61c"
   },
   "source": [
    "There are a lot of different zip codes, so let's just keep the state column."
   ]
  },
  {
   "cell_type": "code",
   "execution_count": 83,
   "metadata": {
    "_cell_guid": "aef7a94f-613c-4137-86f2-d0591ea3a4bc",
    "_uuid": "d6d4c635eb86b895acda91d0cc1fa38327a96e7d"
   },
   "outputs": [],
   "source": [
    "loans.drop(labels='zip_code', axis=1, inplace=True)"
   ]
  },
  {
   "cell_type": "markdown",
   "metadata": {},
   "source": [
    "Calculate the charge-off rates by address state:"
   ]
  },
  {
   "cell_type": "code",
   "execution_count": 84,
   "metadata": {
    "scrolled": true
   },
   "outputs": [
    {
     "data": {
      "text/plain": [
       "addr_state\n",
       "DC   0.13209\n",
       "ME   0.13842\n",
       "VT   0.13952\n",
       "IA   0.14286\n",
       "OR   0.14385\n",
       "NH   0.14576\n",
       "WV   0.15519\n",
       "CO   0.15527\n",
       "WA   0.15756\n",
       "SC   0.16277\n",
       "KS   0.16744\n",
       "WY   0.16769\n",
       "MT   0.16872\n",
       "UT   0.17059\n",
       "CT   0.17376\n",
       "RI   0.17867\n",
       "IL   0.18097\n",
       "WI   0.18351\n",
       "GA   0.18393\n",
       "ID   0.18828\n",
       "MA   0.19053\n",
       "CA   0.19610\n",
       "AZ   0.19630\n",
       "AK   0.19655\n",
       "MN   0.19743\n",
       "DE   0.19746\n",
       "TX   0.19822\n",
       "VA   0.19942\n",
       "HI   0.20201\n",
       "MI   0.20296\n",
       "ND   0.20474\n",
       "OH   0.20528\n",
       "NC   0.20784\n",
       "PA   0.20792\n",
       "KY   0.20983\n",
       "NJ   0.21121\n",
       "MO   0.21294\n",
       "MD   0.21308\n",
       "SD   0.21323\n",
       "NM   0.21366\n",
       "TN   0.21408\n",
       "IN   0.21408\n",
       "FL   0.21475\n",
       "NV   0.21922\n",
       "NY   0.22043\n",
       "LA   0.23182\n",
       "OK   0.23475\n",
       "AL   0.23632\n",
       "AR   0.24087\n",
       "NE   0.25181\n",
       "MS   0.26078\n",
       "Name: loan_status, dtype: float64"
      ]
     },
     "execution_count": 84,
     "metadata": {},
     "output_type": "execute_result"
    }
   ],
   "source": [
    "loans.groupby('addr_state')['loan_status'].value_counts(normalize=True).loc[:,'Charged Off'].sort_values()"
   ]
  },
  {
   "cell_type": "markdown",
   "metadata": {},
   "source": [
    "The charge-off rate ranges from 13.0% in Washington, DC to 26% in Mississippi."
   ]
  },
  {
   "cell_type": "markdown",
   "metadata": {},
   "source": [
    "## 5.16 dti"
   ]
  },
  {
   "cell_type": "markdown",
   "metadata": {},
   "source": [
    "Data Dictionary: \"A ratio calculated using the borrower’s total monthly debt payments on the total debt obligations, excluding mortgage and the requested LC loan, divided by the borrower’s self-reported monthly income.\""
   ]
  },
  {
   "cell_type": "code",
   "execution_count": 85,
   "metadata": {},
   "outputs": [
    {
     "data": {
      "text/plain": [
       "count   1344936.00000\n",
       "mean         18.28267\n",
       "std          11.16045\n",
       "min          -1.00000\n",
       "25%          11.79000\n",
       "50%          17.61000\n",
       "75%          24.06000\n",
       "max         999.00000\n",
       "Name: dti, dtype: float64"
      ]
     },
     "execution_count": 85,
     "metadata": {},
     "output_type": "execute_result"
    }
   ],
   "source": [
    "loans['dti'].describe()"
   ]
  },
  {
   "cell_type": "markdown",
   "metadata": {},
   "source": [
    "Note sure if the values of -1 and 999 make sense...\n",
    "\n",
    "There are several outliers that mess up our default plots. Plot a histogram for `dti` less than 60:"
   ]
  },
  {
   "cell_type": "code",
   "execution_count": 86,
   "metadata": {},
   "outputs": [
    {
     "data": {
      "text/plain": [
       "Text(0.5, 1.0, 'Debt-to-income Ratio')"
      ]
     },
     "execution_count": 86,
     "metadata": {},
     "output_type": "execute_result"
    },
    {
     "data": {
      "image/png": "[encoded data removed]",
      "text/plain": [
       "<Figure size 720x270 with 1 Axes>"
      ]
     },
     "metadata": {},
     "output_type": "display_data"
    }
   ],
   "source": [
    "plt.figure(figsize=(8,3), dpi=90)\n",
    "sns.distplot(loans.loc[loans['dti'].notnull() & (loans['dti']<60), 'dti'], kde=False)\n",
    "plt.xlabel('Debt-to-income Ratio')\n",
    "plt.ylabel('Count')\n",
    "plt.title('Debt-to-income Ratio')"
   ]
  },
  {
   "cell_type": "markdown",
   "metadata": {},
   "source": [
    "How many of the `dti` values are \"outliers\" (above 60)?"
   ]
  },
  {
   "cell_type": "code",
   "execution_count": 87,
   "metadata": {},
   "outputs": [
    {
     "data": {
      "text/plain": [
       "1715"
      ]
     },
     "execution_count": 87,
     "metadata": {},
     "output_type": "execute_result"
    }
   ],
   "source": [
    "(loans['dti']>=60).sum()"
   ]
  },
  {
   "cell_type": "markdown",
   "metadata": {},
   "source": [
    "Very few. Compare the summary statistics by loan status:"
   ]
  },
  {
   "cell_type": "code",
   "execution_count": 88,
   "metadata": {},
   "outputs": [
    {
     "data": {
      "text/html": [
       "<div>\n",
       "<style scoped>\n",
       "    .dataframe tbody tr th:only-of-type {\n",
       "        vertical-align: middle;\n",
       "    }\n",
       "\n",
       "    .dataframe tbody tr th {\n",
       "        vertical-align: top;\n",
       "    }\n",
       "\n",
       "    .dataframe thead th {\n",
       "        text-align: right;\n",
       "    }\n",
       "</style>\n",
       "<table border=\"1\" class=\"dataframe\">\n",
       "  <thead>\n",
       "    <tr style=\"text-align: right;\">\n",
       "      <th></th>\n",
       "      <th>count</th>\n",
       "      <th>mean</th>\n",
       "      <th>std</th>\n",
       "      <th>min</th>\n",
       "      <th>25%</th>\n",
       "      <th>50%</th>\n",
       "      <th>75%</th>\n",
       "      <th>max</th>\n",
       "    </tr>\n",
       "    <tr>\n",
       "      <th>loan_status</th>\n",
       "      <th></th>\n",
       "      <th></th>\n",
       "      <th></th>\n",
       "      <th></th>\n",
       "      <th></th>\n",
       "      <th></th>\n",
       "      <th></th>\n",
       "      <th></th>\n",
       "    </tr>\n",
       "  </thead>\n",
       "  <tbody>\n",
       "    <tr>\n",
       "      <th>Charged Off</th>\n",
       "      <td>268488.00000</td>\n",
       "      <td>20.17120</td>\n",
       "      <td>11.83175</td>\n",
       "      <td>0.00000</td>\n",
       "      <td>13.55000</td>\n",
       "      <td>19.76000</td>\n",
       "      <td>26.31000</td>\n",
       "      <td>999.00000</td>\n",
       "    </tr>\n",
       "    <tr>\n",
       "      <th>Fully Paid</th>\n",
       "      <td>1076448.00000</td>\n",
       "      <td>17.81163</td>\n",
       "      <td>10.93593</td>\n",
       "      <td>-1.00000</td>\n",
       "      <td>11.43000</td>\n",
       "      <td>17.11000</td>\n",
       "      <td>23.44000</td>\n",
       "      <td>999.00000</td>\n",
       "    </tr>\n",
       "  </tbody>\n",
       "</table>\n",
       "</div>"
      ],
      "text/plain": [
       "                    count     mean      std      min      25%      50%  \\\n",
       "loan_status                                                              \n",
       "Charged Off  268488.00000 20.17120 11.83175  0.00000 13.55000 19.76000   \n",
       "Fully Paid  1076448.00000 17.81163 10.93593 -1.00000 11.43000 17.11000   \n",
       "\n",
       "                 75%       max  \n",
       "loan_status                     \n",
       "Charged Off 26.31000 999.00000  \n",
       "Fully Paid  23.44000 999.00000  "
      ]
     },
     "execution_count": 88,
     "metadata": {},
     "output_type": "execute_result"
    }
   ],
   "source": [
    "loans.groupby('loan_status')['dti'].describe()"
   ]
  },
  {
   "cell_type": "markdown",
   "metadata": {},
   "source": [
    "Completed loans that are charged off tend to have higher debt-to-income ratios."
   ]
  },
  {
   "cell_type": "markdown",
   "metadata": {},
   "source": [
    "## 5.17 earliest_cr_line"
   ]
  },
  {
   "cell_type": "markdown",
   "metadata": {},
   "source": [
    "Data Dictionary: \"The month the borrower's earliest reported credit line was opened.\""
   ]
  },
  {
   "cell_type": "code",
   "execution_count": 89,
   "metadata": {},
   "outputs": [
    {
     "data": {
      "text/plain": [
       "926118     Jun-1998\n",
       "1256465    Jun-1990\n",
       "253368     Mar-1999\n",
       "736333     May-1996\n",
       "2193304    Aug-2002\n",
       "Name: earliest_cr_line, dtype: object"
      ]
     },
     "execution_count": 89,
     "metadata": {},
     "output_type": "execute_result"
    }
   ],
   "source": [
    "loans['earliest_cr_line'].sample(5)"
   ]
  },
  {
   "cell_type": "code",
   "execution_count": 90,
   "metadata": {},
   "outputs": [
    {
     "data": {
      "text/plain": [
       "False"
      ]
     },
     "execution_count": 90,
     "metadata": {},
     "output_type": "execute_result"
    }
   ],
   "source": [
    "loans['earliest_cr_line'].isnull().any()"
   ]
  },
  {
   "cell_type": "markdown",
   "metadata": {},
   "source": [
    "Let's just retain the year for simplicity:"
   ]
  },
  {
   "cell_type": "code",
   "execution_count": 91,
   "metadata": {},
   "outputs": [],
   "source": [
    "loans['earliest_cr_line'] = loans['earliest_cr_line'].apply(lambda s: int(s[-4:]))"
   ]
  },
  {
   "cell_type": "code",
   "execution_count": 92,
   "metadata": {},
   "outputs": [
    {
     "data": {
      "text/plain": [
       "count   1345310.00000\n",
       "mean       1998.69256\n",
       "std           7.60826\n",
       "min        1934.00000\n",
       "25%        1995.00000\n",
       "50%        2000.00000\n",
       "75%        2004.00000\n",
       "max        2015.00000\n",
       "Name: earliest_cr_line, dtype: float64"
      ]
     },
     "execution_count": 92,
     "metadata": {},
     "output_type": "execute_result"
    }
   ],
   "source": [
    "loans['earliest_cr_line'].describe()"
   ]
  },
  {
   "cell_type": "code",
   "execution_count": 93,
   "metadata": {},
   "outputs": [
    {
     "data": {
      "image/png": "[encoded data removed]",
      "text/plain": [
       "<Figure size 1080x270 with 2 Axes>"
      ]
     },
     "metadata": {},
     "output_type": "display_data"
    }
   ],
   "source": [
    "plot_var('earliest_cr_line', 'Year of Earliest Credit Line', continuous=True)"
   ]
  },
  {
   "cell_type": "markdown",
   "metadata": {},
   "source": [
    "Borrowers who are charged-off tend to have shorter lines of credit."
   ]
  },
  {
   "cell_type": "markdown",
   "metadata": {},
   "source": [
    "## 5.18 fico_range_low, fico_range_high"
   ]
  },
  {
   "cell_type": "markdown",
   "metadata": {},
   "source": [
    "Data Dictionary for `fico_range_low`: \"The lower boundary range the borrower’s FICO at loan origination belongs to.\"\n",
    "\n",
    "Data Dictionary for `fico_range_high`: \"The upper boundary range the borrower’s FICO at loan origination belongs to.\""
   ]
  },
  {
   "cell_type": "code",
   "execution_count": 94,
   "metadata": {},
   "outputs": [
    {
     "data": {
      "text/html": [
       "<div>\n",
       "<style scoped>\n",
       "    .dataframe tbody tr th:only-of-type {\n",
       "        vertical-align: middle;\n",
       "    }\n",
       "\n",
       "    .dataframe tbody tr th {\n",
       "        vertical-align: top;\n",
       "    }\n",
       "\n",
       "    .dataframe thead th {\n",
       "        text-align: right;\n",
       "    }\n",
       "</style>\n",
       "<table border=\"1\" class=\"dataframe\">\n",
       "  <thead>\n",
       "    <tr style=\"text-align: right;\">\n",
       "      <th></th>\n",
       "      <th>fico_range_low</th>\n",
       "      <th>fico_range_high</th>\n",
       "    </tr>\n",
       "  </thead>\n",
       "  <tbody>\n",
       "    <tr>\n",
       "      <th>count</th>\n",
       "      <td>1345310.00000</td>\n",
       "      <td>1345310.00000</td>\n",
       "    </tr>\n",
       "    <tr>\n",
       "      <th>mean</th>\n",
       "      <td>696.18504</td>\n",
       "      <td>700.18518</td>\n",
       "    </tr>\n",
       "    <tr>\n",
       "      <th>std</th>\n",
       "      <td>31.85251</td>\n",
       "      <td>31.85316</td>\n",
       "    </tr>\n",
       "    <tr>\n",
       "      <th>min</th>\n",
       "      <td>625.00000</td>\n",
       "      <td>629.00000</td>\n",
       "    </tr>\n",
       "    <tr>\n",
       "      <th>25%</th>\n",
       "      <td>670.00000</td>\n",
       "      <td>674.00000</td>\n",
       "    </tr>\n",
       "    <tr>\n",
       "      <th>50%</th>\n",
       "      <td>690.00000</td>\n",
       "      <td>694.00000</td>\n",
       "    </tr>\n",
       "    <tr>\n",
       "      <th>75%</th>\n",
       "      <td>710.00000</td>\n",
       "      <td>714.00000</td>\n",
       "    </tr>\n",
       "    <tr>\n",
       "      <th>max</th>\n",
       "      <td>845.00000</td>\n",
       "      <td>850.00000</td>\n",
       "    </tr>\n",
       "  </tbody>\n",
       "</table>\n",
       "</div>"
      ],
      "text/plain": [
       "       fico_range_low  fico_range_high\n",
       "count   1345310.00000    1345310.00000\n",
       "mean        696.18504        700.18518\n",
       "std          31.85251         31.85316\n",
       "min         625.00000        629.00000\n",
       "25%         670.00000        674.00000\n",
       "50%         690.00000        694.00000\n",
       "75%         710.00000        714.00000\n",
       "max         845.00000        850.00000"
      ]
     },
     "execution_count": 94,
     "metadata": {},
     "output_type": "execute_result"
    }
   ],
   "source": [
    "loans[['fico_range_low', 'fico_range_high']].describe()"
   ]
  },
  {
   "cell_type": "markdown",
   "metadata": {},
   "source": [
    "Check the Pearson correlation between these values:"
   ]
  },
  {
   "cell_type": "code",
   "execution_count": 95,
   "metadata": {},
   "outputs": [
    {
     "data": {
      "text/html": [
       "<div>\n",
       "<style scoped>\n",
       "    .dataframe tbody tr th:only-of-type {\n",
       "        vertical-align: middle;\n",
       "    }\n",
       "\n",
       "    .dataframe tbody tr th {\n",
       "        vertical-align: top;\n",
       "    }\n",
       "\n",
       "    .dataframe thead th {\n",
       "        text-align: right;\n",
       "    }\n",
       "</style>\n",
       "<table border=\"1\" class=\"dataframe\">\n",
       "  <thead>\n",
       "    <tr style=\"text-align: right;\">\n",
       "      <th></th>\n",
       "      <th>fico_range_low</th>\n",
       "      <th>fico_range_high</th>\n",
       "    </tr>\n",
       "  </thead>\n",
       "  <tbody>\n",
       "    <tr>\n",
       "      <th>fico_range_low</th>\n",
       "      <td>1.00000</td>\n",
       "      <td>1.00000</td>\n",
       "    </tr>\n",
       "    <tr>\n",
       "      <th>fico_range_high</th>\n",
       "      <td>1.00000</td>\n",
       "      <td>1.00000</td>\n",
       "    </tr>\n",
       "  </tbody>\n",
       "</table>\n",
       "</div>"
      ],
      "text/plain": [
       "                 fico_range_low  fico_range_high\n",
       "fico_range_low          1.00000          1.00000\n",
       "fico_range_high         1.00000          1.00000"
      ]
     },
     "execution_count": 95,
     "metadata": {},
     "output_type": "execute_result"
    }
   ],
   "source": [
    "loans[['fico_range_low','fico_range_high']].corr()"
   ]
  },
  {
   "cell_type": "markdown",
   "metadata": {},
   "source": [
    "We only need to keep one of the FICO scores. We'll take the average of the two and call it `fico_score`:"
   ]
  },
  {
   "cell_type": "code",
   "execution_count": 96,
   "metadata": {},
   "outputs": [],
   "source": [
    "loans['fico_score'] = 0.5*loans['fico_range_low'] + 0.5*loans['fico_range_high']"
   ]
  },
  {
   "cell_type": "code",
   "execution_count": 97,
   "metadata": {},
   "outputs": [],
   "source": [
    "loans.drop(['fico_range_high', 'fico_range_low'], axis=1, inplace=True)"
   ]
  },
  {
   "cell_type": "code",
   "execution_count": 98,
   "metadata": {},
   "outputs": [
    {
     "data": {
      "image/png": "[encoded data removed]",
      "text/plain": [
       "<Figure size 1080x270 with 2 Axes>"
      ]
     },
     "metadata": {},
     "output_type": "display_data"
    }
   ],
   "source": [
    "plot_var('fico_score', 'FICO Score', continuous=True)"
   ]
  },
  {
   "cell_type": "markdown",
   "metadata": {},
   "source": [
    "There is a noticeable difference in FICO scores between fully paid and charged-off loans. Compare the summary statistics:"
   ]
  },
  {
   "cell_type": "code",
   "execution_count": 99,
   "metadata": {},
   "outputs": [
    {
     "data": {
      "text/html": [
       "<div>\n",
       "<style scoped>\n",
       "    .dataframe tbody tr th:only-of-type {\n",
       "        vertical-align: middle;\n",
       "    }\n",
       "\n",
       "    .dataframe tbody tr th {\n",
       "        vertical-align: top;\n",
       "    }\n",
       "\n",
       "    .dataframe thead th {\n",
       "        text-align: right;\n",
       "    }\n",
       "</style>\n",
       "<table border=\"1\" class=\"dataframe\">\n",
       "  <thead>\n",
       "    <tr style=\"text-align: right;\">\n",
       "      <th></th>\n",
       "      <th>count</th>\n",
       "      <th>mean</th>\n",
       "      <th>std</th>\n",
       "      <th>min</th>\n",
       "      <th>25%</th>\n",
       "      <th>50%</th>\n",
       "      <th>75%</th>\n",
       "      <th>max</th>\n",
       "    </tr>\n",
       "    <tr>\n",
       "      <th>loan_status</th>\n",
       "      <th></th>\n",
       "      <th></th>\n",
       "      <th></th>\n",
       "      <th></th>\n",
       "      <th></th>\n",
       "      <th></th>\n",
       "      <th></th>\n",
       "      <th></th>\n",
       "    </tr>\n",
       "  </thead>\n",
       "  <tbody>\n",
       "    <tr>\n",
       "      <th>Charged Off</th>\n",
       "      <td>268559.00000</td>\n",
       "      <td>689.85014</td>\n",
       "      <td>25.94874</td>\n",
       "      <td>662.00000</td>\n",
       "      <td>672.00000</td>\n",
       "      <td>682.00000</td>\n",
       "      <td>702.00000</td>\n",
       "      <td>847.50000</td>\n",
       "    </tr>\n",
       "    <tr>\n",
       "      <th>Fully Paid</th>\n",
       "      <td>1076751.00000</td>\n",
       "      <td>700.26398</td>\n",
       "      <td>32.83401</td>\n",
       "      <td>627.00000</td>\n",
       "      <td>677.00000</td>\n",
       "      <td>692.00000</td>\n",
       "      <td>717.00000</td>\n",
       "      <td>847.50000</td>\n",
       "    </tr>\n",
       "  </tbody>\n",
       "</table>\n",
       "</div>"
      ],
      "text/plain": [
       "                    count      mean      std       min       25%       50%  \\\n",
       "loan_status                                                                  \n",
       "Charged Off  268559.00000 689.85014 25.94874 662.00000 672.00000 682.00000   \n",
       "Fully Paid  1076751.00000 700.26398 32.83401 627.00000 677.00000 692.00000   \n",
       "\n",
       "                  75%       max  \n",
       "loan_status                      \n",
       "Charged Off 702.00000 847.50000  \n",
       "Fully Paid  717.00000 847.50000  "
      ]
     },
     "execution_count": 99,
     "metadata": {},
     "output_type": "execute_result"
    }
   ],
   "source": [
    "loans.groupby('loan_status')['fico_score'].describe()"
   ]
  },
  {
   "cell_type": "markdown",
   "metadata": {},
   "source": [
    "Loans that charge off have a FICO score 10 points lower on average."
   ]
  },
  {
   "cell_type": "markdown",
   "metadata": {},
   "source": [
    "## 5.19 open_acc"
   ]
  },
  {
   "cell_type": "markdown",
   "metadata": {},
   "source": [
    "Data Dictionary: \"The number of open credit lines in the borrower's credit file.\""
   ]
  },
  {
   "cell_type": "code",
   "execution_count": 100,
   "metadata": {},
   "outputs": [
    {
     "data": {
      "text/plain": [
       "Text(0.5, 1.0, 'Number of Open Credit Lines')"
      ]
     },
     "execution_count": 100,
     "metadata": {},
     "output_type": "execute_result"
    },
    {
     "data": {
      "image/png": "[encoded data removed]",
      "text/plain": [
       "<Figure size 900x270 with 1 Axes>"
      ]
     },
     "metadata": {},
     "output_type": "display_data"
    }
   ],
   "source": [
    "plt.figure(figsize=(10,3), dpi=90)\n",
    "sns.countplot(loans['open_acc'], order=sorted(loans['open_acc'].unique()), color='#5975A4', saturation=1)\n",
    "_, _ = plt.xticks(np.arange(0, 90, 5), np.arange(0, 90, 5))\n",
    "plt.title('Number of Open Credit Lines')"
   ]
  },
  {
   "cell_type": "markdown",
   "metadata": {},
   "source": [
    "Is there a difference in number of credit lines between fully paid loans and charged-off loans?"
   ]
  },
  {
   "cell_type": "code",
   "execution_count": 101,
   "metadata": {},
   "outputs": [
    {
     "data": {
      "text/html": [
       "<div>\n",
       "<style scoped>\n",
       "    .dataframe tbody tr th:only-of-type {\n",
       "        vertical-align: middle;\n",
       "    }\n",
       "\n",
       "    .dataframe tbody tr th {\n",
       "        vertical-align: top;\n",
       "    }\n",
       "\n",
       "    .dataframe thead th {\n",
       "        text-align: right;\n",
       "    }\n",
       "</style>\n",
       "<table border=\"1\" class=\"dataframe\">\n",
       "  <thead>\n",
       "    <tr style=\"text-align: right;\">\n",
       "      <th></th>\n",
       "      <th>count</th>\n",
       "      <th>mean</th>\n",
       "      <th>std</th>\n",
       "      <th>min</th>\n",
       "      <th>25%</th>\n",
       "      <th>50%</th>\n",
       "      <th>75%</th>\n",
       "      <th>max</th>\n",
       "    </tr>\n",
       "    <tr>\n",
       "      <th>loan_status</th>\n",
       "      <th></th>\n",
       "      <th></th>\n",
       "      <th></th>\n",
       "      <th></th>\n",
       "      <th></th>\n",
       "      <th></th>\n",
       "      <th></th>\n",
       "      <th></th>\n",
       "    </tr>\n",
       "  </thead>\n",
       "  <tbody>\n",
       "    <tr>\n",
       "      <th>Charged Off</th>\n",
       "      <td>268559.00000</td>\n",
       "      <td>11.90127</td>\n",
       "      <td>5.63796</td>\n",
       "      <td>0.00000</td>\n",
       "      <td>8.00000</td>\n",
       "      <td>11.00000</td>\n",
       "      <td>15.00000</td>\n",
       "      <td>76.00000</td>\n",
       "    </tr>\n",
       "    <tr>\n",
       "      <th>Fully Paid</th>\n",
       "      <td>1076751.00000</td>\n",
       "      <td>11.51676</td>\n",
       "      <td>5.42935</td>\n",
       "      <td>0.00000</td>\n",
       "      <td>8.00000</td>\n",
       "      <td>11.00000</td>\n",
       "      <td>14.00000</td>\n",
       "      <td>90.00000</td>\n",
       "    </tr>\n",
       "  </tbody>\n",
       "</table>\n",
       "</div>"
      ],
      "text/plain": [
       "                    count     mean     std     min     25%      50%      75%  \\\n",
       "loan_status                                                                    \n",
       "Charged Off  268559.00000 11.90127 5.63796 0.00000 8.00000 11.00000 15.00000   \n",
       "Fully Paid  1076751.00000 11.51676 5.42935 0.00000 8.00000 11.00000 14.00000   \n",
       "\n",
       "                 max  \n",
       "loan_status           \n",
       "Charged Off 76.00000  \n",
       "Fully Paid  90.00000  "
      ]
     },
     "execution_count": 101,
     "metadata": {},
     "output_type": "execute_result"
    }
   ],
   "source": [
    "loans.groupby('loan_status')['open_acc'].describe()"
   ]
  },
  {
   "cell_type": "markdown",
   "metadata": {},
   "source": [
    "There's does not appear to be a significant difference."
   ]
  },
  {
   "cell_type": "markdown",
   "metadata": {},
   "source": [
    "## 5.20 pub_rec"
   ]
  },
  {
   "cell_type": "markdown",
   "metadata": {},
   "source": [
    "Data Dictionary: \"Number of derogatory public records.\""
   ]
  },
  {
   "cell_type": "code",
   "execution_count": 102,
   "metadata": {
    "scrolled": false
   },
   "outputs": [
    {
     "data": {
      "text/plain": [
       "0.00000     1117425\n",
       "1.00000      190789\n",
       "2.00000       24435\n",
       "3.00000        7399\n",
       "4.00000        2630\n",
       "5.00000        1266\n",
       "6.00000         636\n",
       "7.00000         283\n",
       "8.00000         160\n",
       "9.00000          83\n",
       "10.00000         57\n",
       "11.00000         40\n",
       "12.00000         27\n",
       "13.00000         18\n",
       "14.00000          5\n",
       "15.00000          9\n",
       "16.00000          5\n",
       "17.00000          3\n",
       "18.00000          6\n",
       "19.00000          5\n",
       "20.00000          3\n",
       "21.00000          6\n",
       "22.00000          2\n",
       "23.00000          1\n",
       "24.00000          2\n",
       "25.00000          1\n",
       "28.00000          3\n",
       "34.00000          1\n",
       "37.00000          1\n",
       "40.00000          1\n",
       "46.00000          1\n",
       "47.00000          1\n",
       "49.00000          2\n",
       "54.00000          1\n",
       "61.00000          1\n",
       "63.00000          1\n",
       "86.00000          1\n",
       "Name: pub_rec, dtype: int64"
      ]
     },
     "execution_count": 102,
     "metadata": {},
     "output_type": "execute_result"
    }
   ],
   "source": [
    "loans['pub_rec'].value_counts().sort_index()"
   ]
  },
  {
   "cell_type": "markdown",
   "metadata": {},
   "source": [
    "Is there a difference in average public records between fully paid loans and charged-off loans?"
   ]
  },
  {
   "cell_type": "code",
   "execution_count": 104,
   "metadata": {},
   "outputs": [
    {
     "data": {
      "text/html": [
       "<div>\n",
       "<style scoped>\n",
       "    .dataframe tbody tr th:only-of-type {\n",
       "        vertical-align: middle;\n",
       "    }\n",
       "\n",
       "    .dataframe tbody tr th {\n",
       "        vertical-align: top;\n",
       "    }\n",
       "\n",
       "    .dataframe thead th {\n",
       "        text-align: right;\n",
       "    }\n",
       "</style>\n",
       "<table border=\"1\" class=\"dataframe\">\n",
       "  <thead>\n",
       "    <tr style=\"text-align: right;\">\n",
       "      <th></th>\n",
       "      <th>count</th>\n",
       "      <th>mean</th>\n",
       "      <th>std</th>\n",
       "      <th>min</th>\n",
       "      <th>25%</th>\n",
       "      <th>50%</th>\n",
       "      <th>75%</th>\n",
       "      <th>max</th>\n",
       "    </tr>\n",
       "    <tr>\n",
       "      <th>loan_status</th>\n",
       "      <th></th>\n",
       "      <th></th>\n",
       "      <th></th>\n",
       "      <th></th>\n",
       "      <th></th>\n",
       "      <th></th>\n",
       "      <th></th>\n",
       "      <th></th>\n",
       "    </tr>\n",
       "  </thead>\n",
       "  <tbody>\n",
       "    <tr>\n",
       "      <th>Charged Off</th>\n",
       "      <td>268559.000</td>\n",
       "      <td>0.247</td>\n",
       "      <td>0.657</td>\n",
       "      <td>0.000</td>\n",
       "      <td>0.000</td>\n",
       "      <td>0.000</td>\n",
       "      <td>0.000</td>\n",
       "      <td>86.000</td>\n",
       "    </tr>\n",
       "    <tr>\n",
       "      <th>Fully Paid</th>\n",
       "      <td>1076751.000</td>\n",
       "      <td>0.207</td>\n",
       "      <td>0.587</td>\n",
       "      <td>0.000</td>\n",
       "      <td>0.000</td>\n",
       "      <td>0.000</td>\n",
       "      <td>0.000</td>\n",
       "      <td>63.000</td>\n",
       "    </tr>\n",
       "  </tbody>\n",
       "</table>\n",
       "</div>"
      ],
      "text/plain": [
       "                  count  mean   std   min   25%   50%   75%    max\n",
       "loan_status                                                       \n",
       "Charged Off  268559.000 0.247 0.657 0.000 0.000 0.000 0.000 86.000\n",
       "Fully Paid  1076751.000 0.207 0.587 0.000 0.000 0.000 0.000 63.000"
      ]
     },
     "execution_count": 104,
     "metadata": {},
     "output_type": "execute_result"
    }
   ],
   "source": [
    "loans.groupby('loan_status')['pub_rec'].describe()"
   ]
  },
  {
   "cell_type": "markdown",
   "metadata": {},
   "source": [
    "## 5.21 revol_bal"
   ]
  },
  {
   "cell_type": "markdown",
   "metadata": {},
   "source": [
    "Data Dictionary: \"Total credit revolving balance.\""
   ]
  },
  {
   "cell_type": "code",
   "execution_count": 105,
   "metadata": {},
   "outputs": [
    {
     "data": {
      "text/plain": [
       "count   1345310.000\n",
       "mean      16248.115\n",
       "std       22328.169\n",
       "min           0.000\n",
       "25%        5943.000\n",
       "50%       11134.000\n",
       "75%       19755.750\n",
       "max     2904836.000\n",
       "Name: revol_bal, dtype: float64"
      ]
     },
     "execution_count": 105,
     "metadata": {},
     "output_type": "execute_result"
    }
   ],
   "source": [
    "loans['revol_bal'].describe()"
   ]
  },
  {
   "cell_type": "markdown",
   "metadata": {},
   "source": [
    "Do a log transform:"
   ]
  },
  {
   "cell_type": "code",
   "execution_count": 106,
   "metadata": {},
   "outputs": [],
   "source": [
    "loans['log_revol_bal'] = loans['revol_bal'].apply(lambda x: np.log10(x+1))"
   ]
  },
  {
   "cell_type": "code",
   "execution_count": 107,
   "metadata": {},
   "outputs": [],
   "source": [
    "loans.drop('revol_bal', axis=1, inplace=True)"
   ]
  },
  {
   "cell_type": "code",
   "execution_count": 108,
   "metadata": {},
   "outputs": [
    {
     "data": {
      "image/png": "[encoded data removed]",
      "text/plain": [
       "<Figure size 1080x270 with 2 Axes>"
      ]
     },
     "metadata": {},
     "output_type": "display_data"
    }
   ],
   "source": [
    "plot_var('log_revol_bal', 'Log Revolving Credit Balance', continuous=True)"
   ]
  },
  {
   "cell_type": "code",
   "execution_count": 109,
   "metadata": {},
   "outputs": [
    {
     "data": {
      "text/html": [
       "<div>\n",
       "<style scoped>\n",
       "    .dataframe tbody tr th:only-of-type {\n",
       "        vertical-align: middle;\n",
       "    }\n",
       "\n",
       "    .dataframe tbody tr th {\n",
       "        vertical-align: top;\n",
       "    }\n",
       "\n",
       "    .dataframe thead th {\n",
       "        text-align: right;\n",
       "    }\n",
       "</style>\n",
       "<table border=\"1\" class=\"dataframe\">\n",
       "  <thead>\n",
       "    <tr style=\"text-align: right;\">\n",
       "      <th></th>\n",
       "      <th>count</th>\n",
       "      <th>mean</th>\n",
       "      <th>std</th>\n",
       "      <th>min</th>\n",
       "      <th>25%</th>\n",
       "      <th>50%</th>\n",
       "      <th>75%</th>\n",
       "      <th>max</th>\n",
       "    </tr>\n",
       "    <tr>\n",
       "      <th>loan_status</th>\n",
       "      <th></th>\n",
       "      <th></th>\n",
       "      <th></th>\n",
       "      <th></th>\n",
       "      <th></th>\n",
       "      <th></th>\n",
       "      <th></th>\n",
       "      <th></th>\n",
       "    </tr>\n",
       "  </thead>\n",
       "  <tbody>\n",
       "    <tr>\n",
       "      <th>Charged Off</th>\n",
       "      <td>268559.000</td>\n",
       "      <td>3.986</td>\n",
       "      <td>0.515</td>\n",
       "      <td>0.000</td>\n",
       "      <td>3.777</td>\n",
       "      <td>4.044</td>\n",
       "      <td>4.281</td>\n",
       "      <td>6.242</td>\n",
       "    </tr>\n",
       "    <tr>\n",
       "      <th>Fully Paid</th>\n",
       "      <td>1076751.000</td>\n",
       "      <td>3.994</td>\n",
       "      <td>0.536</td>\n",
       "      <td>0.000</td>\n",
       "      <td>3.773</td>\n",
       "      <td>4.047</td>\n",
       "      <td>4.299</td>\n",
       "      <td>6.463</td>\n",
       "    </tr>\n",
       "  </tbody>\n",
       "</table>\n",
       "</div>"
      ],
      "text/plain": [
       "                  count  mean   std   min   25%   50%   75%   max\n",
       "loan_status                                                      \n",
       "Charged Off  268559.000 3.986 0.515 0.000 3.777 4.044 4.281 6.242\n",
       "Fully Paid  1076751.000 3.994 0.536 0.000 3.773 4.047 4.299 6.463"
      ]
     },
     "execution_count": 109,
     "metadata": {},
     "output_type": "execute_result"
    }
   ],
   "source": [
    "loans.groupby('loan_status')['log_revol_bal'].describe()"
   ]
  },
  {
   "cell_type": "markdown",
   "metadata": {},
   "source": [
    "There isn't a large difference in the means."
   ]
  },
  {
   "cell_type": "markdown",
   "metadata": {},
   "source": [
    "## 5.22 revol_util"
   ]
  },
  {
   "cell_type": "markdown",
   "metadata": {},
   "source": [
    "Data Dictionary: \"Revolving line utilization rate, or the amount of credit the borrower is using relative to all available revolving credit.\""
   ]
  },
  {
   "cell_type": "code",
   "execution_count": 110,
   "metadata": {},
   "outputs": [
    {
     "data": {
      "text/plain": [
       "count   1344453.000\n",
       "mean         51.810\n",
       "std          24.521\n",
       "min           0.000\n",
       "25%          33.400\n",
       "50%          52.200\n",
       "75%          70.700\n",
       "max         892.300\n",
       "Name: revol_util, dtype: float64"
      ]
     },
     "execution_count": 110,
     "metadata": {},
     "output_type": "execute_result"
    }
   ],
   "source": [
    "loans['revol_util'].describe()"
   ]
  },
  {
   "cell_type": "code",
   "execution_count": 111,
   "metadata": {},
   "outputs": [
    {
     "data": {
      "image/png": "[encoded data removed]",
      "text/plain": [
       "<Figure size 1080x270 with 2 Axes>"
      ]
     },
     "metadata": {},
     "output_type": "display_data"
    }
   ],
   "source": [
    "plot_var('revol_util', 'Revolving Line Utilization', continuous=True)"
   ]
  },
  {
   "cell_type": "code",
   "execution_count": 112,
   "metadata": {},
   "outputs": [
    {
     "data": {
      "text/html": [
       "<div>\n",
       "<style scoped>\n",
       "    .dataframe tbody tr th:only-of-type {\n",
       "        vertical-align: middle;\n",
       "    }\n",
       "\n",
       "    .dataframe tbody tr th {\n",
       "        vertical-align: top;\n",
       "    }\n",
       "\n",
       "    .dataframe thead th {\n",
       "        text-align: right;\n",
       "    }\n",
       "</style>\n",
       "<table border=\"1\" class=\"dataframe\">\n",
       "  <thead>\n",
       "    <tr style=\"text-align: right;\">\n",
       "      <th></th>\n",
       "      <th>count</th>\n",
       "      <th>mean</th>\n",
       "      <th>std</th>\n",
       "      <th>min</th>\n",
       "      <th>25%</th>\n",
       "      <th>50%</th>\n",
       "      <th>75%</th>\n",
       "      <th>max</th>\n",
       "    </tr>\n",
       "    <tr>\n",
       "      <th>loan_status</th>\n",
       "      <th></th>\n",
       "      <th></th>\n",
       "      <th></th>\n",
       "      <th></th>\n",
       "      <th></th>\n",
       "      <th></th>\n",
       "      <th></th>\n",
       "      <th></th>\n",
       "    </tr>\n",
       "  </thead>\n",
       "  <tbody>\n",
       "    <tr>\n",
       "      <th>Charged Off</th>\n",
       "      <td>268379.000</td>\n",
       "      <td>54.758</td>\n",
       "      <td>23.866</td>\n",
       "      <td>0.000</td>\n",
       "      <td>37.400</td>\n",
       "      <td>55.500</td>\n",
       "      <td>73.100</td>\n",
       "      <td>366.600</td>\n",
       "    </tr>\n",
       "    <tr>\n",
       "      <th>Fully Paid</th>\n",
       "      <td>1076074.000</td>\n",
       "      <td>51.075</td>\n",
       "      <td>24.627</td>\n",
       "      <td>0.000</td>\n",
       "      <td>32.500</td>\n",
       "      <td>51.300</td>\n",
       "      <td>70.100</td>\n",
       "      <td>892.300</td>\n",
       "    </tr>\n",
       "  </tbody>\n",
       "</table>\n",
       "</div>"
      ],
      "text/plain": [
       "                  count   mean    std   min    25%    50%    75%     max\n",
       "loan_status                                                             \n",
       "Charged Off  268379.000 54.758 23.866 0.000 37.400 55.500 73.100 366.600\n",
       "Fully Paid  1076074.000 51.075 24.627 0.000 32.500 51.300 70.100 892.300"
      ]
     },
     "execution_count": 112,
     "metadata": {},
     "output_type": "execute_result"
    }
   ],
   "source": [
    "loans.groupby('loan_status')['revol_util'].describe()"
   ]
  },
  {
   "cell_type": "markdown",
   "metadata": {},
   "source": [
    "## 5.23 total_acc"
   ]
  },
  {
   "cell_type": "markdown",
   "metadata": {},
   "source": [
    "Data Dictionary: \"The total number of credit lines currently in the borrower's credit file.\""
   ]
  },
  {
   "cell_type": "code",
   "execution_count": 113,
   "metadata": {},
   "outputs": [
    {
     "data": {
      "text/plain": [
       "Text(0.5, 1.0, 'Total Number of Credit Lines')"
      ]
     },
     "execution_count": 113,
     "metadata": {},
     "output_type": "execute_result"
    },
    {
     "data": {
      "image/png": "[encoded data removed]",
      "text/plain": [
       "<Figure size 1080x270 with 1 Axes>"
      ]
     },
     "metadata": {},
     "output_type": "display_data"
    }
   ],
   "source": [
    "plt.figure(figsize=(12,3), dpi=90)\n",
    "sns.countplot(loans['total_acc'], order=sorted(loans['total_acc'].unique()), color='#5975A4', saturation=1)\n",
    "_, _ = plt.xticks(np.arange(0, 176, 10), np.arange(0, 176, 10))\n",
    "plt.title('Total Number of Credit Lines')"
   ]
  },
  {
   "cell_type": "code",
   "execution_count": 114,
   "metadata": {},
   "outputs": [
    {
     "data": {
      "text/html": [
       "<div>\n",
       "<style scoped>\n",
       "    .dataframe tbody tr th:only-of-type {\n",
       "        vertical-align: middle;\n",
       "    }\n",
       "\n",
       "    .dataframe tbody tr th {\n",
       "        vertical-align: top;\n",
       "    }\n",
       "\n",
       "    .dataframe thead th {\n",
       "        text-align: right;\n",
       "    }\n",
       "</style>\n",
       "<table border=\"1\" class=\"dataframe\">\n",
       "  <thead>\n",
       "    <tr style=\"text-align: right;\">\n",
       "      <th></th>\n",
       "      <th>count</th>\n",
       "      <th>mean</th>\n",
       "      <th>std</th>\n",
       "      <th>min</th>\n",
       "      <th>25%</th>\n",
       "      <th>50%</th>\n",
       "      <th>75%</th>\n",
       "      <th>max</th>\n",
       "    </tr>\n",
       "    <tr>\n",
       "      <th>loan_status</th>\n",
       "      <th></th>\n",
       "      <th></th>\n",
       "      <th></th>\n",
       "      <th></th>\n",
       "      <th></th>\n",
       "      <th></th>\n",
       "      <th></th>\n",
       "      <th></th>\n",
       "    </tr>\n",
       "  </thead>\n",
       "  <tbody>\n",
       "    <tr>\n",
       "      <th>Charged Off</th>\n",
       "      <td>268559.000</td>\n",
       "      <td>24.709</td>\n",
       "      <td>12.117</td>\n",
       "      <td>2.000</td>\n",
       "      <td>16.000</td>\n",
       "      <td>23.000</td>\n",
       "      <td>31.000</td>\n",
       "      <td>176.000</td>\n",
       "    </tr>\n",
       "    <tr>\n",
       "      <th>Fully Paid</th>\n",
       "      <td>1076751.000</td>\n",
       "      <td>25.049</td>\n",
       "      <td>11.968</td>\n",
       "      <td>2.000</td>\n",
       "      <td>16.000</td>\n",
       "      <td>23.000</td>\n",
       "      <td>32.000</td>\n",
       "      <td>162.000</td>\n",
       "    </tr>\n",
       "  </tbody>\n",
       "</table>\n",
       "</div>"
      ],
      "text/plain": [
       "                  count   mean    std   min    25%    50%    75%     max\n",
       "loan_status                                                             \n",
       "Charged Off  268559.000 24.709 12.117 2.000 16.000 23.000 31.000 176.000\n",
       "Fully Paid  1076751.000 25.049 11.968 2.000 16.000 23.000 32.000 162.000"
      ]
     },
     "execution_count": 114,
     "metadata": {},
     "output_type": "execute_result"
    }
   ],
   "source": [
    "loans.groupby('loan_status')['total_acc'].describe()"
   ]
  },
  {
   "cell_type": "markdown",
   "metadata": {},
   "source": [
    "No large differences here."
   ]
  },
  {
   "cell_type": "markdown",
   "metadata": {
    "_cell_guid": "57408b52-70fd-4a45-b5bb-12f0c2612190",
    "_uuid": "2a671f42515e7c4727430a48e6163c6f77801275"
   },
   "source": [
    "## 5.24 initial_list_status"
   ]
  },
  {
   "cell_type": "markdown",
   "metadata": {},
   "source": [
    "Data Dictionary: \"The initial listing status of the loan. Possible values are – W, F.\" I'm not sure what this means."
   ]
  },
  {
   "cell_type": "code",
   "execution_count": 115,
   "metadata": {},
   "outputs": [
    {
     "data": {
      "image/png": "[encoded data removed]",
      "text/plain": [
       "<Figure size 1080x270 with 2 Axes>"
      ]
     },
     "metadata": {},
     "output_type": "display_data"
    }
   ],
   "source": [
    "plot_var('initial_list_status', 'Initial List Status', continuous=False)"
   ]
  },
  {
   "cell_type": "markdown",
   "metadata": {
    "_cell_guid": "b34ab6cc-0a3f-4780-a234-743b9d406dca",
    "_uuid": "77b5eba4a13bd157c68f522ab8002094bb8b456d"
   },
   "source": [
    "## 5.25 application_type"
   ]
  },
  {
   "cell_type": "markdown",
   "metadata": {},
   "source": [
    "Data Dictionary: \"Indicates whether the loan is an individual application or a joint application with two co-borrowers.\""
   ]
  },
  {
   "cell_type": "code",
   "execution_count": 116,
   "metadata": {
    "_cell_guid": "0fc4f079-695a-49e9-abac-05bf841bd9e5",
    "_uuid": "afc3918d6aa0db8f5ddeab49d17359155db1376d"
   },
   "outputs": [
    {
     "data": {
      "text/plain": [
       "Individual    1319510\n",
       "Joint App       25800\n",
       "Name: application_type, dtype: int64"
      ]
     },
     "execution_count": 116,
     "metadata": {},
     "output_type": "execute_result"
    }
   ],
   "source": [
    "loans['application_type'].value_counts()"
   ]
  },
  {
   "cell_type": "markdown",
   "metadata": {},
   "source": [
    "Let's just compare the charge-off rates by application type:"
   ]
  },
  {
   "cell_type": "code",
   "execution_count": 117,
   "metadata": {},
   "outputs": [
    {
     "data": {
      "text/plain": [
       "application_type\n",
       "Individual   0.199\n",
       "Joint App    0.246\n",
       "Name: loan_status, dtype: float64"
      ]
     },
     "execution_count": 117,
     "metadata": {},
     "output_type": "execute_result"
    }
   ],
   "source": [
    "loans.groupby('application_type')['loan_status'].value_counts(normalize=True).loc[:,'Charged Off']"
   ]
  },
  {
   "cell_type": "markdown",
   "metadata": {},
   "source": [
    "Joint loans are slightly less likely to be charged-off."
   ]
  },
  {
   "cell_type": "markdown",
   "metadata": {},
   "source": [
    "## 5.26 mort_acc"
   ]
  },
  {
   "cell_type": "markdown",
   "metadata": {},
   "source": [
    "Data Dictionary: \"Number of mortgage accounts.\""
   ]
  },
  {
   "cell_type": "code",
   "execution_count": 118,
   "metadata": {},
   "outputs": [
    {
     "data": {
      "text/plain": [
       "count   1298029.000\n",
       "mean          1.671\n",
       "std           2.000\n",
       "min           0.000\n",
       "25%           0.000\n",
       "50%           1.000\n",
       "75%           3.000\n",
       "max          51.000\n",
       "Name: mort_acc, dtype: float64"
      ]
     },
     "execution_count": 118,
     "metadata": {},
     "output_type": "execute_result"
    }
   ],
   "source": [
    "loans['mort_acc'].describe()"
   ]
  },
  {
   "cell_type": "markdown",
   "metadata": {},
   "source": [
    "Not sure how someone can have 51 mortgage accounts...but apparently they do. Check the top 10 values:"
   ]
  },
  {
   "cell_type": "code",
   "execution_count": 119,
   "metadata": {},
   "outputs": [
    {
     "data": {
      "text/plain": [
       "0.000    523837\n",
       "1.000    226135\n",
       "2.000    188941\n",
       "3.000    139381\n",
       "4.000     94920\n",
       "5.000     57632\n",
       "6.000     32539\n",
       "7.000     16850\n",
       "8.000      8378\n",
       "9.000      4285\n",
       "Name: mort_acc, dtype: int64"
      ]
     },
     "execution_count": 119,
     "metadata": {},
     "output_type": "execute_result"
    }
   ],
   "source": [
    "loans['mort_acc'].value_counts().head(10)"
   ]
  },
  {
   "cell_type": "markdown",
   "metadata": {},
   "source": [
    "Compare the summary statistics by loan status:"
   ]
  },
  {
   "cell_type": "code",
   "execution_count": 120,
   "metadata": {},
   "outputs": [
    {
     "data": {
      "text/html": [
       "<div>\n",
       "<style scoped>\n",
       "    .dataframe tbody tr th:only-of-type {\n",
       "        vertical-align: middle;\n",
       "    }\n",
       "\n",
       "    .dataframe tbody tr th {\n",
       "        vertical-align: top;\n",
       "    }\n",
       "\n",
       "    .dataframe thead th {\n",
       "        text-align: right;\n",
       "    }\n",
       "</style>\n",
       "<table border=\"1\" class=\"dataframe\">\n",
       "  <thead>\n",
       "    <tr style=\"text-align: right;\">\n",
       "      <th></th>\n",
       "      <th>count</th>\n",
       "      <th>mean</th>\n",
       "      <th>std</th>\n",
       "      <th>min</th>\n",
       "      <th>25%</th>\n",
       "      <th>50%</th>\n",
       "      <th>75%</th>\n",
       "      <th>max</th>\n",
       "    </tr>\n",
       "    <tr>\n",
       "      <th>loan_status</th>\n",
       "      <th></th>\n",
       "      <th></th>\n",
       "      <th></th>\n",
       "      <th></th>\n",
       "      <th></th>\n",
       "      <th></th>\n",
       "      <th></th>\n",
       "      <th></th>\n",
       "    </tr>\n",
       "  </thead>\n",
       "  <tbody>\n",
       "    <tr>\n",
       "      <th>Charged Off</th>\n",
       "      <td>261673.000</td>\n",
       "      <td>1.371</td>\n",
       "      <td>1.826</td>\n",
       "      <td>0.000</td>\n",
       "      <td>0.000</td>\n",
       "      <td>1.000</td>\n",
       "      <td>2.000</td>\n",
       "      <td>29.000</td>\n",
       "    </tr>\n",
       "    <tr>\n",
       "      <th>Fully Paid</th>\n",
       "      <td>1036356.000</td>\n",
       "      <td>1.746</td>\n",
       "      <td>2.035</td>\n",
       "      <td>0.000</td>\n",
       "      <td>0.000</td>\n",
       "      <td>1.000</td>\n",
       "      <td>3.000</td>\n",
       "      <td>51.000</td>\n",
       "    </tr>\n",
       "  </tbody>\n",
       "</table>\n",
       "</div>"
      ],
      "text/plain": [
       "                  count  mean   std   min   25%   50%   75%    max\n",
       "loan_status                                                       \n",
       "Charged Off  261673.000 1.371 1.826 0.000 0.000 1.000 2.000 29.000\n",
       "Fully Paid  1036356.000 1.746 2.035 0.000 0.000 1.000 3.000 51.000"
      ]
     },
     "execution_count": 120,
     "metadata": {},
     "output_type": "execute_result"
    }
   ],
   "source": [
    "loans.groupby('loan_status')['mort_acc'].describe()"
   ]
  },
  {
   "cell_type": "markdown",
   "metadata": {},
   "source": [
    "Individuals who pay off their loans are more likely to have several mortgage accounts."
   ]
  },
  {
   "cell_type": "markdown",
   "metadata": {},
   "source": [
    "## 5.27 pub_rec_bankruptcies"
   ]
  },
  {
   "cell_type": "markdown",
   "metadata": {},
   "source": [
    "Data Dictionary: \"Number of public record bankruptcies.\""
   ]
  },
  {
   "cell_type": "code",
   "execution_count": 121,
   "metadata": {},
   "outputs": [
    {
     "data": {
      "text/plain": [
       "0.000     1176953\n",
       "1.000      157696\n",
       "2.000        7769\n",
       "3.000        1583\n",
       "4.000         396\n",
       "5.000         141\n",
       "6.000          46\n",
       "7.000          15\n",
       "8.000           9\n",
       "9.000           3\n",
       "11.000          1\n",
       "12.000          1\n",
       "Name: pub_rec_bankruptcies, dtype: int64"
      ]
     },
     "execution_count": 121,
     "metadata": {},
     "output_type": "execute_result"
    }
   ],
   "source": [
    "loans['pub_rec_bankruptcies'].value_counts().sort_index()"
   ]
  },
  {
   "cell_type": "code",
   "execution_count": 122,
   "metadata": {},
   "outputs": [
    {
     "data": {
      "image/png": "[encoded data removed]",
      "text/plain": [
       "<Figure size 1080x270 with 2 Axes>"
      ]
     },
     "metadata": {},
     "output_type": "display_data"
    }
   ],
   "source": [
    "plot_var('pub_rec_bankruptcies', 'Public Record Bankruptcies', continuous=False)"
   ]
  },
  {
   "cell_type": "markdown",
   "metadata": {},
   "source": [
    "# 6. More Pre-processing\n",
    "<a id=\"6\"></a>"
   ]
  },
  {
   "cell_type": "markdown",
   "metadata": {},
   "source": [
    "## 6.1 Convert loan status to 0/1 charge-off indicator\n",
    "<a id=\"6.1\"></a>"
   ]
  },
  {
   "cell_type": "markdown",
   "metadata": {},
   "source": [
    "Change the response variable `loan_status` to a 0/1 variable, where 0 indicates fully paid and 1 indicates charge-off:"
   ]
  },
  {
   "cell_type": "code",
   "execution_count": 123,
   "metadata": {},
   "outputs": [],
   "source": [
    "loans['charged_off'] = (loans['loan_status'] == 'Charged Off').apply(np.uint8)\n",
    "loans.drop('loan_status', axis=1, inplace=True)"
   ]
  },
  {
   "cell_type": "markdown",
   "metadata": {},
   "source": [
    "## 6.2 Create dummy variables\n",
    "<a id=\"6.2\"></a>"
   ]
  },
  {
   "cell_type": "markdown",
   "metadata": {},
   "source": [
    "How many variables do we currently have?"
   ]
  },
  {
   "cell_type": "code",
   "execution_count": 124,
   "metadata": {},
   "outputs": [
    {
     "data": {
      "text/plain": [
       "(1345310, 25)"
      ]
     },
     "execution_count": 124,
     "metadata": {},
     "output_type": "execute_result"
    }
   ],
   "source": [
    "loans.shape"
   ]
  },
  {
   "cell_type": "markdown",
   "metadata": {},
   "source": [
    "If any categorical variables have missing values, we'll need to create NaN dummy variables for those. So first check which variables have missing data:"
   ]
  },
  {
   "cell_type": "code",
   "execution_count": 125,
   "metadata": {},
   "outputs": [],
   "source": [
    "missing_fractions = loans.isnull().mean().sort_values(ascending=False) # Fraction of data missing for each variable"
   ]
  },
  {
   "cell_type": "code",
   "execution_count": 126,
   "metadata": {},
   "outputs": [
    {
     "name": "stdout",
     "output_type": "stream",
     "text": [
      "emp_length             0.058\n",
      "mort_acc               0.035\n",
      "revol_util             0.001\n",
      "pub_rec_bankruptcies   0.001\n",
      "dti                    0.000\n",
      "dtype: float64\n"
     ]
    }
   ],
   "source": [
    "print(missing_fractions[missing_fractions > 0]) # Print variables that are missing data"
   ]
  },
  {
   "cell_type": "markdown",
   "metadata": {},
   "source": [
    "There are no categorical variables with missing values, and therefore we don't need any `NaN` dummy variables.\n",
    "\n",
    "Create dummy variables for the categorical variables:"
   ]
  },
  {
   "cell_type": "code",
   "execution_count": 127,
   "metadata": {},
   "outputs": [
    {
     "name": "stdout",
     "output_type": "stream",
     "text": [
      "Index(['loan_amnt', 'term', 'int_rate', 'installment', 'sub_grade',\n",
      "       'emp_length', 'home_ownership', 'verification_status', 'issue_d',\n",
      "       'purpose', 'addr_state', 'dti', 'earliest_cr_line', 'open_acc',\n",
      "       'pub_rec', 'revol_util', 'total_acc', 'initial_list_status',\n",
      "       'application_type', 'mort_acc', 'pub_rec_bankruptcies',\n",
      "       'log_annual_inc', 'fico_score', 'log_revol_bal', 'charged_off'],\n",
      "      dtype='object')\n"
     ]
    }
   ],
   "source": [
    "print(loans.columns)"
   ]
  },
  {
   "cell_type": "code",
   "execution_count": 128,
   "metadata": {},
   "outputs": [],
   "source": [
    "loans = pd.get_dummies(loans, columns=['sub_grade', 'home_ownership', 'verification_status', 'purpose', 'addr_state', 'initial_list_status', 'application_type'], drop_first=True)"
   ]
  },
  {
   "cell_type": "markdown",
   "metadata": {},
   "source": [
    "How many variables are there now?"
   ]
  },
  {
   "cell_type": "code",
   "execution_count": 129,
   "metadata": {},
   "outputs": [
    {
     "data": {
      "text/plain": [
       "(1345310, 122)"
      ]
     },
     "execution_count": 129,
     "metadata": {},
     "output_type": "execute_result"
    }
   ],
   "source": [
    "loans.shape"
   ]
  },
  {
   "cell_type": "markdown",
   "metadata": {},
   "source": [
    "Check our data with the new dummy variables:"
   ]
  },
  {
   "cell_type": "code",
   "execution_count": 130,
   "metadata": {},
   "outputs": [
    {
     "data": {
      "text/html": [
       "<div>\n",
       "<style scoped>\n",
       "    .dataframe tbody tr th:only-of-type {\n",
       "        vertical-align: middle;\n",
       "    }\n",
       "\n",
       "    .dataframe tbody tr th {\n",
       "        vertical-align: top;\n",
       "    }\n",
       "\n",
       "    .dataframe thead th {\n",
       "        text-align: right;\n",
       "    }\n",
       "</style>\n",
       "<table border=\"1\" class=\"dataframe\">\n",
       "  <thead>\n",
       "    <tr style=\"text-align: right;\">\n",
       "      <th></th>\n",
       "      <th>loan_amnt</th>\n",
       "      <th>term</th>\n",
       "      <th>int_rate</th>\n",
       "      <th>installment</th>\n",
       "      <th>emp_length</th>\n",
       "      <th>issue_d</th>\n",
       "      <th>dti</th>\n",
       "      <th>earliest_cr_line</th>\n",
       "      <th>open_acc</th>\n",
       "      <th>pub_rec</th>\n",
       "      <th>revol_util</th>\n",
       "      <th>total_acc</th>\n",
       "      <th>mort_acc</th>\n",
       "      <th>pub_rec_bankruptcies</th>\n",
       "      <th>log_annual_inc</th>\n",
       "      <th>fico_score</th>\n",
       "      <th>log_revol_bal</th>\n",
       "      <th>charged_off</th>\n",
       "      <th>sub_grade_A2</th>\n",
       "      <th>sub_grade_A3</th>\n",
       "      <th>sub_grade_A4</th>\n",
       "      <th>sub_grade_A5</th>\n",
       "      <th>sub_grade_B1</th>\n",
       "      <th>sub_grade_B2</th>\n",
       "      <th>sub_grade_B3</th>\n",
       "      <th>sub_grade_B4</th>\n",
       "      <th>sub_grade_B5</th>\n",
       "      <th>sub_grade_C1</th>\n",
       "      <th>sub_grade_C2</th>\n",
       "      <th>sub_grade_C3</th>\n",
       "      <th>sub_grade_C4</th>\n",
       "      <th>sub_grade_C5</th>\n",
       "      <th>sub_grade_D1</th>\n",
       "      <th>sub_grade_D2</th>\n",
       "      <th>sub_grade_D3</th>\n",
       "      <th>sub_grade_D4</th>\n",
       "      <th>sub_grade_D5</th>\n",
       "      <th>sub_grade_E1</th>\n",
       "      <th>sub_grade_E2</th>\n",
       "      <th>sub_grade_E3</th>\n",
       "      <th>sub_grade_E4</th>\n",
       "      <th>sub_grade_E5</th>\n",
       "      <th>sub_grade_F1</th>\n",
       "      <th>sub_grade_F2</th>\n",
       "      <th>sub_grade_F3</th>\n",
       "      <th>sub_grade_F4</th>\n",
       "      <th>sub_grade_F5</th>\n",
       "      <th>sub_grade_G1</th>\n",
       "      <th>sub_grade_G2</th>\n",
       "      <th>sub_grade_G3</th>\n",
       "      <th>sub_grade_G4</th>\n",
       "      <th>sub_grade_G5</th>\n",
       "      <th>home_ownership_OTHER</th>\n",
       "      <th>home_ownership_OWN</th>\n",
       "      <th>home_ownership_RENT</th>\n",
       "      <th>verification_status_Source Verified</th>\n",
       "      <th>verification_status_Verified</th>\n",
       "      <th>purpose_credit_card</th>\n",
       "      <th>purpose_debt_consolidation</th>\n",
       "      <th>purpose_educational</th>\n",
       "      <th>purpose_home_improvement</th>\n",
       "      <th>purpose_house</th>\n",
       "      <th>purpose_major_purchase</th>\n",
       "      <th>purpose_medical</th>\n",
       "      <th>purpose_moving</th>\n",
       "      <th>purpose_other</th>\n",
       "      <th>purpose_renewable_energy</th>\n",
       "      <th>purpose_small_business</th>\n",
       "      <th>purpose_vacation</th>\n",
       "      <th>purpose_wedding</th>\n",
       "      <th>addr_state_AL</th>\n",
       "      <th>addr_state_AR</th>\n",
       "      <th>addr_state_AZ</th>\n",
       "      <th>addr_state_CA</th>\n",
       "      <th>addr_state_CO</th>\n",
       "      <th>addr_state_CT</th>\n",
       "      <th>addr_state_DC</th>\n",
       "      <th>addr_state_DE</th>\n",
       "      <th>addr_state_FL</th>\n",
       "      <th>addr_state_GA</th>\n",
       "      <th>addr_state_HI</th>\n",
       "      <th>addr_state_IA</th>\n",
       "      <th>addr_state_ID</th>\n",
       "      <th>addr_state_IL</th>\n",
       "      <th>addr_state_IN</th>\n",
       "      <th>addr_state_KS</th>\n",
       "      <th>addr_state_KY</th>\n",
       "      <th>addr_state_LA</th>\n",
       "      <th>addr_state_MA</th>\n",
       "      <th>addr_state_MD</th>\n",
       "      <th>addr_state_ME</th>\n",
       "      <th>addr_state_MI</th>\n",
       "      <th>addr_state_MN</th>\n",
       "      <th>addr_state_MO</th>\n",
       "      <th>addr_state_MS</th>\n",
       "      <th>addr_state_MT</th>\n",
       "      <th>addr_state_NC</th>\n",
       "      <th>addr_state_ND</th>\n",
       "      <th>addr_state_NE</th>\n",
       "      <th>addr_state_NH</th>\n",
       "      <th>addr_state_NJ</th>\n",
       "      <th>addr_state_NM</th>\n",
       "      <th>addr_state_NV</th>\n",
       "      <th>addr_state_NY</th>\n",
       "      <th>addr_state_OH</th>\n",
       "      <th>addr_state_OK</th>\n",
       "      <th>addr_state_OR</th>\n",
       "      <th>addr_state_PA</th>\n",
       "      <th>addr_state_RI</th>\n",
       "      <th>addr_state_SC</th>\n",
       "      <th>addr_state_SD</th>\n",
       "      <th>addr_state_TN</th>\n",
       "      <th>addr_state_TX</th>\n",
       "      <th>addr_state_UT</th>\n",
       "      <th>addr_state_VA</th>\n",
       "      <th>addr_state_VT</th>\n",
       "      <th>addr_state_WA</th>\n",
       "      <th>addr_state_WI</th>\n",
       "      <th>addr_state_WV</th>\n",
       "      <th>addr_state_WY</th>\n",
       "      <th>initial_list_status_w</th>\n",
       "      <th>application_type_Joint App</th>\n",
       "    </tr>\n",
       "  </thead>\n",
       "  <tbody>\n",
       "    <tr>\n",
       "      <th>1266159</th>\n",
       "      <td>9125.000</td>\n",
       "      <td>36</td>\n",
       "      <td>14.990</td>\n",
       "      <td>316.280</td>\n",
       "      <td>1.000</td>\n",
       "      <td>Jun-2014</td>\n",
       "      <td>27.440</td>\n",
       "      <td>2003</td>\n",
       "      <td>31.000</td>\n",
       "      <td>0.000</td>\n",
       "      <td>75.000</td>\n",
       "      <td>51.000</td>\n",
       "      <td>0.000</td>\n",
       "      <td>0.000</td>\n",
       "      <td>4.477</td>\n",
       "      <td>662.000</td>\n",
       "      <td>4.098</td>\n",
       "      <td>0</td>\n",
       "      <td>0</td>\n",
       "      <td>0</td>\n",
       "      <td>0</td>\n",
       "      <td>0</td>\n",
       "      <td>0</td>\n",
       "      <td>0</td>\n",
       "      <td>0</td>\n",
       "      <td>0</td>\n",
       "      <td>0</td>\n",
       "      <td>0</td>\n",
       "      <td>0</td>\n",
       "      <td>0</td>\n",
       "      <td>0</td>\n",
       "      <td>1</td>\n",
       "      <td>0</td>\n",
       "      <td>0</td>\n",
       "      <td>0</td>\n",
       "      <td>0</td>\n",
       "      <td>0</td>\n",
       "      <td>0</td>\n",
       "      <td>0</td>\n",
       "      <td>0</td>\n",
       "      <td>0</td>\n",
       "      <td>0</td>\n",
       "      <td>0</td>\n",
       "      <td>0</td>\n",
       "      <td>0</td>\n",
       "      <td>0</td>\n",
       "      <td>0</td>\n",
       "      <td>0</td>\n",
       "      <td>0</td>\n",
       "      <td>0</td>\n",
       "      <td>0</td>\n",
       "      <td>0</td>\n",
       "      <td>0</td>\n",
       "      <td>0</td>\n",
       "      <td>1</td>\n",
       "      <td>1</td>\n",
       "      <td>0</td>\n",
       "      <td>1</td>\n",
       "      <td>0</td>\n",
       "      <td>0</td>\n",
       "      <td>0</td>\n",
       "      <td>0</td>\n",
       "      <td>0</td>\n",
       "      <td>0</td>\n",
       "      <td>0</td>\n",
       "      <td>0</td>\n",
       "      <td>0</td>\n",
       "      <td>0</td>\n",
       "      <td>0</td>\n",
       "      <td>0</td>\n",
       "      <td>0</td>\n",
       "      <td>0</td>\n",
       "      <td>0</td>\n",
       "      <td>0</td>\n",
       "      <td>0</td>\n",
       "      <td>0</td>\n",
       "      <td>0</td>\n",
       "      <td>0</td>\n",
       "      <td>0</td>\n",
       "      <td>0</td>\n",
       "      <td>0</td>\n",
       "      <td>0</td>\n",
       "      <td>0</td>\n",
       "      <td>0</td>\n",
       "      <td>0</td>\n",
       "      <td>0</td>\n",
       "      <td>0</td>\n",
       "      <td>0</td>\n",
       "      <td>0</td>\n",
       "      <td>0</td>\n",
       "      <td>0</td>\n",
       "      <td>0</td>\n",
       "      <td>0</td>\n",
       "      <td>0</td>\n",
       "      <td>0</td>\n",
       "      <td>0</td>\n",
       "      <td>0</td>\n",
       "      <td>0</td>\n",
       "      <td>0</td>\n",
       "      <td>0</td>\n",
       "      <td>0</td>\n",
       "      <td>0</td>\n",
       "      <td>0</td>\n",
       "      <td>0</td>\n",
       "      <td>0</td>\n",
       "      <td>0</td>\n",
       "      <td>0</td>\n",
       "      <td>0</td>\n",
       "      <td>0</td>\n",
       "      <td>0</td>\n",
       "      <td>0</td>\n",
       "      <td>0</td>\n",
       "      <td>1</td>\n",
       "      <td>0</td>\n",
       "      <td>0</td>\n",
       "      <td>0</td>\n",
       "      <td>0</td>\n",
       "      <td>0</td>\n",
       "      <td>0</td>\n",
       "      <td>0</td>\n",
       "      <td>1</td>\n",
       "      <td>0</td>\n",
       "    </tr>\n",
       "    <tr>\n",
       "      <th>2123681</th>\n",
       "      <td>10000.000</td>\n",
       "      <td>36</td>\n",
       "      <td>20.000</td>\n",
       "      <td>371.640</td>\n",
       "      <td>0.000</td>\n",
       "      <td>Oct-2017</td>\n",
       "      <td>21.060</td>\n",
       "      <td>2006</td>\n",
       "      <td>9.000</td>\n",
       "      <td>0.000</td>\n",
       "      <td>65.400</td>\n",
       "      <td>41.000</td>\n",
       "      <td>1.000</td>\n",
       "      <td>0.000</td>\n",
       "      <td>4.740</td>\n",
       "      <td>677.000</td>\n",
       "      <td>3.930</td>\n",
       "      <td>0</td>\n",
       "      <td>0</td>\n",
       "      <td>0</td>\n",
       "      <td>0</td>\n",
       "      <td>0</td>\n",
       "      <td>0</td>\n",
       "      <td>0</td>\n",
       "      <td>0</td>\n",
       "      <td>0</td>\n",
       "      <td>0</td>\n",
       "      <td>0</td>\n",
       "      <td>0</td>\n",
       "      <td>0</td>\n",
       "      <td>0</td>\n",
       "      <td>0</td>\n",
       "      <td>0</td>\n",
       "      <td>0</td>\n",
       "      <td>0</td>\n",
       "      <td>1</td>\n",
       "      <td>0</td>\n",
       "      <td>0</td>\n",
       "      <td>0</td>\n",
       "      <td>0</td>\n",
       "      <td>0</td>\n",
       "      <td>0</td>\n",
       "      <td>0</td>\n",
       "      <td>0</td>\n",
       "      <td>0</td>\n",
       "      <td>0</td>\n",
       "      <td>0</td>\n",
       "      <td>0</td>\n",
       "      <td>0</td>\n",
       "      <td>0</td>\n",
       "      <td>0</td>\n",
       "      <td>0</td>\n",
       "      <td>0</td>\n",
       "      <td>0</td>\n",
       "      <td>0</td>\n",
       "      <td>0</td>\n",
       "      <td>0</td>\n",
       "      <td>0</td>\n",
       "      <td>1</td>\n",
       "      <td>0</td>\n",
       "      <td>0</td>\n",
       "      <td>0</td>\n",
       "      <td>0</td>\n",
       "      <td>0</td>\n",
       "      <td>0</td>\n",
       "      <td>0</td>\n",
       "      <td>0</td>\n",
       "      <td>0</td>\n",
       "      <td>0</td>\n",
       "      <td>0</td>\n",
       "      <td>0</td>\n",
       "      <td>0</td>\n",
       "      <td>0</td>\n",
       "      <td>0</td>\n",
       "      <td>0</td>\n",
       "      <td>0</td>\n",
       "      <td>0</td>\n",
       "      <td>0</td>\n",
       "      <td>0</td>\n",
       "      <td>0</td>\n",
       "      <td>0</td>\n",
       "      <td>0</td>\n",
       "      <td>0</td>\n",
       "      <td>1</td>\n",
       "      <td>0</td>\n",
       "      <td>0</td>\n",
       "      <td>0</td>\n",
       "      <td>0</td>\n",
       "      <td>0</td>\n",
       "      <td>0</td>\n",
       "      <td>0</td>\n",
       "      <td>0</td>\n",
       "      <td>0</td>\n",
       "      <td>0</td>\n",
       "      <td>0</td>\n",
       "      <td>0</td>\n",
       "      <td>0</td>\n",
       "      <td>0</td>\n",
       "      <td>0</td>\n",
       "      <td>0</td>\n",
       "      <td>0</td>\n",
       "      <td>0</td>\n",
       "      <td>0</td>\n",
       "      <td>0</td>\n",
       "      <td>0</td>\n",
       "      <td>0</td>\n",
       "      <td>0</td>\n",
       "      <td>0</td>\n",
       "      <td>0</td>\n",
       "      <td>0</td>\n",
       "      <td>0</td>\n",
       "      <td>0</td>\n",
       "      <td>0</td>\n",
       "      <td>0</td>\n",
       "      <td>0</td>\n",
       "      <td>0</td>\n",
       "      <td>0</td>\n",
       "      <td>0</td>\n",
       "      <td>0</td>\n",
       "      <td>0</td>\n",
       "      <td>1</td>\n",
       "      <td>0</td>\n",
       "    </tr>\n",
       "    <tr>\n",
       "      <th>668006</th>\n",
       "      <td>16000.000</td>\n",
       "      <td>60</td>\n",
       "      <td>13.990</td>\n",
       "      <td>372.210</td>\n",
       "      <td>10.000</td>\n",
       "      <td>Jun-2016</td>\n",
       "      <td>14.200</td>\n",
       "      <td>2002</td>\n",
       "      <td>7.000</td>\n",
       "      <td>1.000</td>\n",
       "      <td>56.700</td>\n",
       "      <td>28.000</td>\n",
       "      <td>3.000</td>\n",
       "      <td>1.000</td>\n",
       "      <td>4.732</td>\n",
       "      <td>662.000</td>\n",
       "      <td>4.138</td>\n",
       "      <td>0</td>\n",
       "      <td>0</td>\n",
       "      <td>0</td>\n",
       "      <td>0</td>\n",
       "      <td>0</td>\n",
       "      <td>0</td>\n",
       "      <td>0</td>\n",
       "      <td>0</td>\n",
       "      <td>0</td>\n",
       "      <td>0</td>\n",
       "      <td>0</td>\n",
       "      <td>0</td>\n",
       "      <td>1</td>\n",
       "      <td>0</td>\n",
       "      <td>0</td>\n",
       "      <td>0</td>\n",
       "      <td>0</td>\n",
       "      <td>0</td>\n",
       "      <td>0</td>\n",
       "      <td>0</td>\n",
       "      <td>0</td>\n",
       "      <td>0</td>\n",
       "      <td>0</td>\n",
       "      <td>0</td>\n",
       "      <td>0</td>\n",
       "      <td>0</td>\n",
       "      <td>0</td>\n",
       "      <td>0</td>\n",
       "      <td>0</td>\n",
       "      <td>0</td>\n",
       "      <td>0</td>\n",
       "      <td>0</td>\n",
       "      <td>0</td>\n",
       "      <td>0</td>\n",
       "      <td>0</td>\n",
       "      <td>0</td>\n",
       "      <td>0</td>\n",
       "      <td>0</td>\n",
       "      <td>0</td>\n",
       "      <td>1</td>\n",
       "      <td>1</td>\n",
       "      <td>0</td>\n",
       "      <td>0</td>\n",
       "      <td>0</td>\n",
       "      <td>0</td>\n",
       "      <td>0</td>\n",
       "      <td>0</td>\n",
       "      <td>0</td>\n",
       "      <td>0</td>\n",
       "      <td>0</td>\n",
       "      <td>0</td>\n",
       "      <td>0</td>\n",
       "      <td>0</td>\n",
       "      <td>1</td>\n",
       "      <td>0</td>\n",
       "      <td>0</td>\n",
       "      <td>0</td>\n",
       "      <td>0</td>\n",
       "      <td>0</td>\n",
       "      <td>0</td>\n",
       "      <td>0</td>\n",
       "      <td>0</td>\n",
       "      <td>0</td>\n",
       "      <td>0</td>\n",
       "      <td>0</td>\n",
       "      <td>0</td>\n",
       "      <td>0</td>\n",
       "      <td>0</td>\n",
       "      <td>0</td>\n",
       "      <td>0</td>\n",
       "      <td>0</td>\n",
       "      <td>0</td>\n",
       "      <td>0</td>\n",
       "      <td>0</td>\n",
       "      <td>0</td>\n",
       "      <td>0</td>\n",
       "      <td>0</td>\n",
       "      <td>0</td>\n",
       "      <td>0</td>\n",
       "      <td>0</td>\n",
       "      <td>0</td>\n",
       "      <td>0</td>\n",
       "      <td>0</td>\n",
       "      <td>0</td>\n",
       "      <td>0</td>\n",
       "      <td>0</td>\n",
       "      <td>0</td>\n",
       "      <td>0</td>\n",
       "      <td>0</td>\n",
       "      <td>0</td>\n",
       "      <td>0</td>\n",
       "      <td>0</td>\n",
       "      <td>0</td>\n",
       "      <td>0</td>\n",
       "      <td>0</td>\n",
       "      <td>0</td>\n",
       "      <td>0</td>\n",
       "      <td>0</td>\n",
       "      <td>0</td>\n",
       "      <td>0</td>\n",
       "      <td>0</td>\n",
       "      <td>0</td>\n",
       "      <td>0</td>\n",
       "      <td>1</td>\n",
       "      <td>0</td>\n",
       "    </tr>\n",
       "    <tr>\n",
       "      <th>788992</th>\n",
       "      <td>13000.000</td>\n",
       "      <td>36</td>\n",
       "      <td>11.550</td>\n",
       "      <td>429.000</td>\n",
       "      <td>10.000</td>\n",
       "      <td>Aug-2018</td>\n",
       "      <td>15.890</td>\n",
       "      <td>2001</td>\n",
       "      <td>9.000</td>\n",
       "      <td>0.000</td>\n",
       "      <td>66.100</td>\n",
       "      <td>14.000</td>\n",
       "      <td>0.000</td>\n",
       "      <td>0.000</td>\n",
       "      <td>4.881</td>\n",
       "      <td>712.000</td>\n",
       "      <td>4.466</td>\n",
       "      <td>0</td>\n",
       "      <td>0</td>\n",
       "      <td>0</td>\n",
       "      <td>0</td>\n",
       "      <td>0</td>\n",
       "      <td>0</td>\n",
       "      <td>0</td>\n",
       "      <td>0</td>\n",
       "      <td>1</td>\n",
       "      <td>0</td>\n",
       "      <td>0</td>\n",
       "      <td>0</td>\n",
       "      <td>0</td>\n",
       "      <td>0</td>\n",
       "      <td>0</td>\n",
       "      <td>0</td>\n",
       "      <td>0</td>\n",
       "      <td>0</td>\n",
       "      <td>0</td>\n",
       "      <td>0</td>\n",
       "      <td>0</td>\n",
       "      <td>0</td>\n",
       "      <td>0</td>\n",
       "      <td>0</td>\n",
       "      <td>0</td>\n",
       "      <td>0</td>\n",
       "      <td>0</td>\n",
       "      <td>0</td>\n",
       "      <td>0</td>\n",
       "      <td>0</td>\n",
       "      <td>0</td>\n",
       "      <td>0</td>\n",
       "      <td>0</td>\n",
       "      <td>0</td>\n",
       "      <td>0</td>\n",
       "      <td>0</td>\n",
       "      <td>0</td>\n",
       "      <td>1</td>\n",
       "      <td>1</td>\n",
       "      <td>0</td>\n",
       "      <td>0</td>\n",
       "      <td>1</td>\n",
       "      <td>0</td>\n",
       "      <td>0</td>\n",
       "      <td>0</td>\n",
       "      <td>0</td>\n",
       "      <td>0</td>\n",
       "      <td>0</td>\n",
       "      <td>0</td>\n",
       "      <td>0</td>\n",
       "      <td>0</td>\n",
       "      <td>0</td>\n",
       "      <td>0</td>\n",
       "      <td>0</td>\n",
       "      <td>0</td>\n",
       "      <td>0</td>\n",
       "      <td>1</td>\n",
       "      <td>0</td>\n",
       "      <td>0</td>\n",
       "      <td>0</td>\n",
       "      <td>0</td>\n",
       "      <td>0</td>\n",
       "      <td>0</td>\n",
       "      <td>0</td>\n",
       "      <td>0</td>\n",
       "      <td>0</td>\n",
       "      <td>0</td>\n",
       "      <td>0</td>\n",
       "      <td>0</td>\n",
       "      <td>0</td>\n",
       "      <td>0</td>\n",
       "      <td>0</td>\n",
       "      <td>0</td>\n",
       "      <td>0</td>\n",
       "      <td>0</td>\n",
       "      <td>0</td>\n",
       "      <td>0</td>\n",
       "      <td>0</td>\n",
       "      <td>0</td>\n",
       "      <td>0</td>\n",
       "      <td>0</td>\n",
       "      <td>0</td>\n",
       "      <td>0</td>\n",
       "      <td>0</td>\n",
       "      <td>0</td>\n",
       "      <td>0</td>\n",
       "      <td>0</td>\n",
       "      <td>0</td>\n",
       "      <td>0</td>\n",
       "      <td>0</td>\n",
       "      <td>0</td>\n",
       "      <td>0</td>\n",
       "      <td>0</td>\n",
       "      <td>0</td>\n",
       "      <td>0</td>\n",
       "      <td>0</td>\n",
       "      <td>0</td>\n",
       "      <td>0</td>\n",
       "      <td>0</td>\n",
       "      <td>0</td>\n",
       "      <td>0</td>\n",
       "      <td>0</td>\n",
       "      <td>0</td>\n",
       "      <td>1</td>\n",
       "      <td>0</td>\n",
       "    </tr>\n",
       "    <tr>\n",
       "      <th>371802</th>\n",
       "      <td>15000.000</td>\n",
       "      <td>60</td>\n",
       "      <td>16.990</td>\n",
       "      <td>372.710</td>\n",
       "      <td>8.000</td>\n",
       "      <td>Feb-2015</td>\n",
       "      <td>21.790</td>\n",
       "      <td>2000</td>\n",
       "      <td>9.000</td>\n",
       "      <td>1.000</td>\n",
       "      <td>59.600</td>\n",
       "      <td>27.000</td>\n",
       "      <td>1.000</td>\n",
       "      <td>1.000</td>\n",
       "      <td>4.653</td>\n",
       "      <td>687.000</td>\n",
       "      <td>3.355</td>\n",
       "      <td>0</td>\n",
       "      <td>0</td>\n",
       "      <td>0</td>\n",
       "      <td>0</td>\n",
       "      <td>0</td>\n",
       "      <td>0</td>\n",
       "      <td>0</td>\n",
       "      <td>0</td>\n",
       "      <td>0</td>\n",
       "      <td>0</td>\n",
       "      <td>0</td>\n",
       "      <td>0</td>\n",
       "      <td>0</td>\n",
       "      <td>0</td>\n",
       "      <td>0</td>\n",
       "      <td>0</td>\n",
       "      <td>0</td>\n",
       "      <td>1</td>\n",
       "      <td>0</td>\n",
       "      <td>0</td>\n",
       "      <td>0</td>\n",
       "      <td>0</td>\n",
       "      <td>0</td>\n",
       "      <td>0</td>\n",
       "      <td>0</td>\n",
       "      <td>0</td>\n",
       "      <td>0</td>\n",
       "      <td>0</td>\n",
       "      <td>0</td>\n",
       "      <td>0</td>\n",
       "      <td>0</td>\n",
       "      <td>0</td>\n",
       "      <td>0</td>\n",
       "      <td>0</td>\n",
       "      <td>0</td>\n",
       "      <td>0</td>\n",
       "      <td>0</td>\n",
       "      <td>0</td>\n",
       "      <td>1</td>\n",
       "      <td>0</td>\n",
       "      <td>0</td>\n",
       "      <td>0</td>\n",
       "      <td>0</td>\n",
       "      <td>1</td>\n",
       "      <td>0</td>\n",
       "      <td>0</td>\n",
       "      <td>0</td>\n",
       "      <td>0</td>\n",
       "      <td>0</td>\n",
       "      <td>0</td>\n",
       "      <td>0</td>\n",
       "      <td>0</td>\n",
       "      <td>0</td>\n",
       "      <td>0</td>\n",
       "      <td>0</td>\n",
       "      <td>0</td>\n",
       "      <td>1</td>\n",
       "      <td>0</td>\n",
       "      <td>0</td>\n",
       "      <td>0</td>\n",
       "      <td>0</td>\n",
       "      <td>0</td>\n",
       "      <td>0</td>\n",
       "      <td>0</td>\n",
       "      <td>0</td>\n",
       "      <td>0</td>\n",
       "      <td>0</td>\n",
       "      <td>0</td>\n",
       "      <td>0</td>\n",
       "      <td>0</td>\n",
       "      <td>0</td>\n",
       "      <td>0</td>\n",
       "      <td>0</td>\n",
       "      <td>0</td>\n",
       "      <td>0</td>\n",
       "      <td>0</td>\n",
       "      <td>0</td>\n",
       "      <td>0</td>\n",
       "      <td>0</td>\n",
       "      <td>0</td>\n",
       "      <td>0</td>\n",
       "      <td>0</td>\n",
       "      <td>0</td>\n",
       "      <td>0</td>\n",
       "      <td>0</td>\n",
       "      <td>0</td>\n",
       "      <td>0</td>\n",
       "      <td>0</td>\n",
       "      <td>0</td>\n",
       "      <td>0</td>\n",
       "      <td>0</td>\n",
       "      <td>0</td>\n",
       "      <td>0</td>\n",
       "      <td>0</td>\n",
       "      <td>0</td>\n",
       "      <td>0</td>\n",
       "      <td>0</td>\n",
       "      <td>0</td>\n",
       "      <td>0</td>\n",
       "      <td>0</td>\n",
       "      <td>0</td>\n",
       "      <td>0</td>\n",
       "      <td>0</td>\n",
       "      <td>1</td>\n",
       "      <td>0</td>\n",
       "    </tr>\n",
       "  </tbody>\n",
       "</table>\n",
       "</div>"
      ],
      "text/plain": [
       "         loan_amnt  term  int_rate  installment  emp_length   issue_d    dti  \\\n",
       "1266159   9125.000    36    14.990      316.280       1.000  Jun-2014 27.440   \n",
       "2123681  10000.000    36    20.000      371.640       0.000  Oct-2017 21.060   \n",
       "668006   16000.000    60    13.990      372.210      10.000  Jun-2016 14.200   \n",
       "788992   13000.000    36    11.550      429.000      10.000  Aug-2018 15.890   \n",
       "371802   15000.000    60    16.990      372.710       8.000  Feb-2015 21.790   \n",
       "\n",
       "         earliest_cr_line  open_acc  pub_rec  revol_util  total_acc  mort_acc  \\\n",
       "1266159              2003    31.000    0.000      75.000     51.000     0.000   \n",
       "2123681              2006     9.000    0.000      65.400     41.000     1.000   \n",
       "668006               2002     7.000    1.000      56.700     28.000     3.000   \n",
       "788992               2001     9.000    0.000      66.100     14.000     0.000   \n",
       "371802               2000     9.000    1.000      59.600     27.000     1.000   \n",
       "\n",
       "         pub_rec_bankruptcies  log_annual_inc  fico_score  log_revol_bal  \\\n",
       "1266159                 0.000           4.477     662.000          4.098   \n",
       "2123681                 0.000           4.740     677.000          3.930   \n",
       "668006                  1.000           4.732     662.000          4.138   \n",
       "788992                  0.000           4.881     712.000          4.466   \n",
       "371802                  1.000           4.653     687.000          3.355   \n",
       "\n",
       "         charged_off  sub_grade_A2  sub_grade_A3  sub_grade_A4  sub_grade_A5  \\\n",
       "1266159            0             0             0             0             0   \n",
       "2123681            0             0             0             0             0   \n",
       "668006             0             0             0             0             0   \n",
       "788992             0             0             0             0             0   \n",
       "371802             0             0             0             0             0   \n",
       "\n",
       "         sub_grade_B1  sub_grade_B2  sub_grade_B3  sub_grade_B4  sub_grade_B5  \\\n",
       "1266159             0             0             0             0             0   \n",
       "2123681             0             0             0             0             0   \n",
       "668006              0             0             0             0             0   \n",
       "788992              0             0             0             1             0   \n",
       "371802              0             0             0             0             0   \n",
       "\n",
       "         sub_grade_C1  sub_grade_C2  sub_grade_C3  sub_grade_C4  sub_grade_C5  \\\n",
       "1266159             0             0             0             0             1   \n",
       "2123681             0             0             0             0             0   \n",
       "668006              0             0             1             0             0   \n",
       "788992              0             0             0             0             0   \n",
       "371802              0             0             0             0             0   \n",
       "\n",
       "         sub_grade_D1  sub_grade_D2  sub_grade_D3  sub_grade_D4  sub_grade_D5  \\\n",
       "1266159             0             0             0             0             0   \n",
       "2123681             0             0             0             1             0   \n",
       "668006              0             0             0             0             0   \n",
       "788992              0             0             0             0             0   \n",
       "371802              0             0             1             0             0   \n",
       "\n",
       "         sub_grade_E1  sub_grade_E2  sub_grade_E3  sub_grade_E4  sub_grade_E5  \\\n",
       "1266159             0             0             0             0             0   \n",
       "2123681             0             0             0             0             0   \n",
       "668006              0             0             0             0             0   \n",
       "788992              0             0             0             0             0   \n",
       "371802              0             0             0             0             0   \n",
       "\n",
       "         sub_grade_F1  sub_grade_F2  sub_grade_F3  sub_grade_F4  sub_grade_F5  \\\n",
       "1266159             0             0             0             0             0   \n",
       "2123681             0             0             0             0             0   \n",
       "668006              0             0             0             0             0   \n",
       "788992              0             0             0             0             0   \n",
       "371802              0             0             0             0             0   \n",
       "\n",
       "         sub_grade_G1  sub_grade_G2  sub_grade_G3  sub_grade_G4  sub_grade_G5  \\\n",
       "1266159             0             0             0             0             0   \n",
       "2123681             0             0             0             0             0   \n",
       "668006              0             0             0             0             0   \n",
       "788992              0             0             0             0             0   \n",
       "371802              0             0             0             0             0   \n",
       "\n",
       "         home_ownership_OTHER  home_ownership_OWN  home_ownership_RENT  \\\n",
       "1266159                     0                   0                    1   \n",
       "2123681                     0                   0                    0   \n",
       "668006                      0                   0                    0   \n",
       "788992                      0                   0                    1   \n",
       "371802                      0                   0                    0   \n",
       "\n",
       "         verification_status_Source Verified  verification_status_Verified  \\\n",
       "1266159                                    1                             0   \n",
       "2123681                                    0                             0   \n",
       "668006                                     0                             1   \n",
       "788992                                     1                             0   \n",
       "371802                                     1                             0   \n",
       "\n",
       "         purpose_credit_card  purpose_debt_consolidation  purpose_educational  \\\n",
       "1266159                    1                           0                    0   \n",
       "2123681                    0                           1                    0   \n",
       "668006                     1                           0                    0   \n",
       "788992                     0                           1                    0   \n",
       "371802                     0                           0                    0   \n",
       "\n",
       "         purpose_home_improvement  purpose_house  purpose_major_purchase  \\\n",
       "1266159                         0              0                       0   \n",
       "2123681                         0              0                       0   \n",
       "668006                          0              0                       0   \n",
       "788992                          0              0                       0   \n",
       "371802                          1              0                       0   \n",
       "\n",
       "         purpose_medical  purpose_moving  purpose_other  \\\n",
       "1266159                0               0              0   \n",
       "2123681                0               0              0   \n",
       "668006                 0               0              0   \n",
       "788992                 0               0              0   \n",
       "371802                 0               0              0   \n",
       "\n",
       "         purpose_renewable_energy  purpose_small_business  purpose_vacation  \\\n",
       "1266159                         0                       0                 0   \n",
       "2123681                         0                       0                 0   \n",
       "668006                          0                       0                 0   \n",
       "788992                          0                       0                 0   \n",
       "371802                          0                       0                 0   \n",
       "\n",
       "         purpose_wedding  addr_state_AL  addr_state_AR  addr_state_AZ  \\\n",
       "1266159                0              0              0              0   \n",
       "2123681                0              0              0              0   \n",
       "668006                 0              1              0              0   \n",
       "788992                 0              0              0              0   \n",
       "371802                 0              0              0              0   \n",
       "\n",
       "         addr_state_CA  addr_state_CO  addr_state_CT  addr_state_DC  \\\n",
       "1266159              0              0              0              0   \n",
       "2123681              0              0              0              0   \n",
       "668006               0              0              0              0   \n",
       "788992               1              0              0              0   \n",
       "371802               1              0              0              0   \n",
       "\n",
       "         addr_state_DE  addr_state_FL  addr_state_GA  addr_state_HI  \\\n",
       "1266159              0              0              0              0   \n",
       "2123681              0              0              0              0   \n",
       "668006               0              0              0              0   \n",
       "788992               0              0              0              0   \n",
       "371802               0              0              0              0   \n",
       "\n",
       "         addr_state_IA  addr_state_ID  addr_state_IL  addr_state_IN  \\\n",
       "1266159              0              0              0              0   \n",
       "2123681              0              0              1              0   \n",
       "668006               0              0              0              0   \n",
       "788992               0              0              0              0   \n",
       "371802               0              0              0              0   \n",
       "\n",
       "         addr_state_KS  addr_state_KY  addr_state_LA  addr_state_MA  \\\n",
       "1266159              0              0              0              0   \n",
       "2123681              0              0              0              0   \n",
       "668006               0              0              0              0   \n",
       "788992               0              0              0              0   \n",
       "371802               0              0              0              0   \n",
       "\n",
       "         addr_state_MD  addr_state_ME  addr_state_MI  addr_state_MN  \\\n",
       "1266159              0              0              0              0   \n",
       "2123681              0              0              0              0   \n",
       "668006               0              0              0              0   \n",
       "788992               0              0              0              0   \n",
       "371802               0              0              0              0   \n",
       "\n",
       "         addr_state_MO  addr_state_MS  addr_state_MT  addr_state_NC  \\\n",
       "1266159              0              0              0              0   \n",
       "2123681              0              0              0              0   \n",
       "668006               0              0              0              0   \n",
       "788992               0              0              0              0   \n",
       "371802               0              0              0              0   \n",
       "\n",
       "         addr_state_ND  addr_state_NE  addr_state_NH  addr_state_NJ  \\\n",
       "1266159              0              0              0              0   \n",
       "2123681              0              0              0              0   \n",
       "668006               0              0              0              0   \n",
       "788992               0              0              0              0   \n",
       "371802               0              0              0              0   \n",
       "\n",
       "         addr_state_NM  addr_state_NV  addr_state_NY  addr_state_OH  \\\n",
       "1266159              0              0              0              0   \n",
       "2123681              0              0              0              0   \n",
       "668006               0              0              0              0   \n",
       "788992               0              0              0              0   \n",
       "371802               0              0              0              0   \n",
       "\n",
       "         addr_state_OK  addr_state_OR  addr_state_PA  addr_state_RI  \\\n",
       "1266159              0              0              0              0   \n",
       "2123681              0              0              0              0   \n",
       "668006               0              0              0              0   \n",
       "788992               0              0              0              0   \n",
       "371802               0              0              0              0   \n",
       "\n",
       "         addr_state_SC  addr_state_SD  addr_state_TN  addr_state_TX  \\\n",
       "1266159              0              0              0              1   \n",
       "2123681              0              0              0              0   \n",
       "668006               0              0              0              0   \n",
       "788992               0              0              0              0   \n",
       "371802               0              0              0              0   \n",
       "\n",
       "         addr_state_UT  addr_state_VA  addr_state_VT  addr_state_WA  \\\n",
       "1266159              0              0              0              0   \n",
       "2123681              0              0              0              0   \n",
       "668006               0              0              0              0   \n",
       "788992               0              0              0              0   \n",
       "371802               0              0              0              0   \n",
       "\n",
       "         addr_state_WI  addr_state_WV  addr_state_WY  initial_list_status_w  \\\n",
       "1266159              0              0              0                      1   \n",
       "2123681              0              0              0                      1   \n",
       "668006               0              0              0                      1   \n",
       "788992               0              0              0                      1   \n",
       "371802               0              0              0                      1   \n",
       "\n",
       "         application_type_Joint App  \n",
       "1266159                           0  \n",
       "2123681                           0  \n",
       "668006                            0  \n",
       "788992                            0  \n",
       "371802                            0  "
      ]
     },
     "execution_count": 130,
     "metadata": {},
     "output_type": "execute_result"
    }
   ],
   "source": [
    "loans.sample(5)"
   ]
  },
  {
   "cell_type": "markdown",
   "metadata": {},
   "source": [
    "## 6.3 Train/test split\n",
    "<a id=\"6.3\"></a>"
   ]
  },
  {
   "cell_type": "markdown",
   "metadata": {},
   "source": [
    "We'll make our modeling problem more realistic by performing the train/test split based on the month that the loan was funded. That is, we'll use loans funded on earlier dates to predict whether future loans will charge-off. The variable `issue_d` includes the month and year that the loan was funded."
   ]
  },
  {
   "cell_type": "code",
   "execution_count": 131,
   "metadata": {},
   "outputs": [
    {
     "data": {
      "text/plain": [
       "639123     Jul-2017\n",
       "1280709    May-2014\n",
       "1186168    Oct-2014\n",
       "116620     Oct-2015\n",
       "1168530    Oct-2014\n",
       "Name: issue_d, dtype: object"
      ]
     },
     "execution_count": 131,
     "metadata": {},
     "output_type": "execute_result"
    }
   ],
   "source": [
    "loans['issue_d'].sample(5)"
   ]
  },
  {
   "cell_type": "markdown",
   "metadata": {},
   "source": [
    "Are there any missing values?"
   ]
  },
  {
   "cell_type": "code",
   "execution_count": 132,
   "metadata": {},
   "outputs": [
    {
     "data": {
      "text/plain": [
       "False"
      ]
     },
     "execution_count": 132,
     "metadata": {},
     "output_type": "execute_result"
    }
   ],
   "source": [
    "loans['issue_d'].isnull().any()"
   ]
  },
  {
   "cell_type": "markdown",
   "metadata": {},
   "source": [
    "No. Let's convert the issue dates to datetime objects:"
   ]
  },
  {
   "cell_type": "code",
   "execution_count": 133,
   "metadata": {},
   "outputs": [],
   "source": [
    "loans['issue_d'] = pd.to_datetime(loans['issue_d'])"
   ]
  },
  {
   "cell_type": "code",
   "execution_count": 134,
   "metadata": {},
   "outputs": [
    {
     "data": {
      "text/plain": [
       "1906891   2012-09-01\n",
       "1730768   2017-01-01\n",
       "1708216   2017-02-01\n",
       "1090871   2016-01-01\n",
       "88068     2015-11-01\n",
       "Name: issue_d, dtype: datetime64[ns]"
      ]
     },
     "execution_count": 134,
     "metadata": {},
     "output_type": "execute_result"
    }
   ],
   "source": [
    "loans['issue_d'].sample(5)"
   ]
  },
  {
   "cell_type": "markdown",
   "metadata": {},
   "source": [
    "The new datetime values are all on the first day of the month. Check the summary statistics of the issue dates:"
   ]
  },
  {
   "cell_type": "code",
   "execution_count": 135,
   "metadata": {},
   "outputs": [
    {
     "data": {
      "text/plain": [
       "count                 1345310\n",
       "unique                    139\n",
       "top       2016-03-01 00:00:00\n",
       "freq                    48937\n",
       "first     2007-06-01 00:00:00\n",
       "last      2018-12-01 00:00:00\n",
       "Name: issue_d, dtype: object"
      ]
     },
     "execution_count": 135,
     "metadata": {},
     "output_type": "execute_result"
    }
   ],
   "source": [
    "loans['issue_d'].describe()"
   ]
  },
  {
   "cell_type": "markdown",
   "metadata": {},
   "source": [
    "There are only 139 unique issue dates over the 11-year period because we only have month/year information. In this particular dataset, the first loans were issued in June 2007, and the most recent loans were issued in December 2018. The busiest month was March 2016 with 48,937 loans funded in that month. What is the distribution of loans funded in each year?"
   ]
  },
  {
   "cell_type": "code",
   "execution_count": 136,
   "metadata": {},
   "outputs": [
    {
     "data": {
      "text/plain": [
       "Text(0.5, 1.0, 'Loans Funded per Year')"
      ]
     },
     "execution_count": 136,
     "metadata": {},
     "output_type": "execute_result"
    },
    {
     "data": {
      "image/png": "[encoded data removed]",
      "text/plain": [
       "<Figure size 540x270 with 1 Axes>"
      ]
     },
     "metadata": {},
     "output_type": "display_data"
    }
   ],
   "source": [
    "plt.figure(figsize=(6,3), dpi=90)\n",
    "loans['issue_d'].dt.year.value_counts().sort_index().plot.bar(color='darkblue')\n",
    "plt.xlabel('Year')\n",
    "plt.ylabel('Number of Loans Funded')\n",
    "plt.title('Loans Funded per Year')"
   ]
  },
  {
   "cell_type": "markdown",
   "metadata": {},
   "source": [
    "We'll form the test set from the most recent 10% of the loans."
   ]
  },
  {
   "cell_type": "code",
   "execution_count": 137,
   "metadata": {},
   "outputs": [],
   "source": [
    "loans_train = loans.loc[loans['issue_d'] <  loans['issue_d'].quantile(0.9)]\n",
    "loans_test =  loans.loc[loans['issue_d'] >= loans['issue_d'].quantile(0.9)]"
   ]
  },
  {
   "cell_type": "markdown",
   "metadata": {},
   "source": [
    "Check that we properly partitioned the loans:"
   ]
  },
  {
   "cell_type": "code",
   "execution_count": 138,
   "metadata": {},
   "outputs": [
    {
     "name": "stdout",
     "output_type": "stream",
     "text": [
      "Number of loans in the partition:    1345310\n",
      "Number of loans in the full dataset: 1345310\n"
     ]
    }
   ],
   "source": [
    "print('Number of loans in the partition:   ', loans_train.shape[0] + loans_test.shape[0])\n",
    "print('Number of loans in the full dataset:', loans.shape[0])"
   ]
  },
  {
   "cell_type": "markdown",
   "metadata": {},
   "source": [
    "What is the test size?"
   ]
  },
  {
   "cell_type": "code",
   "execution_count": 139,
   "metadata": {},
   "outputs": [
    {
     "data": {
      "text/plain": [
       "0.11111639696426846"
      ]
     },
     "execution_count": 139,
     "metadata": {},
     "output_type": "execute_result"
    }
   ],
   "source": [
    "loans_test.shape[0] / loans.shape[0]"
   ]
  },
  {
   "cell_type": "markdown",
   "metadata": {},
   "source": [
    "About 11.11%. The partition looks good, so we can delete the original `loans` dataframe:"
   ]
  },
  {
   "cell_type": "code",
   "execution_count": 140,
   "metadata": {},
   "outputs": [],
   "source": [
    "del loans"
   ]
  },
  {
   "cell_type": "markdown",
   "metadata": {},
   "source": [
    "Let's look at the summary statistics of the issue dates in the train and test sets:"
   ]
  },
  {
   "cell_type": "code",
   "execution_count": 141,
   "metadata": {},
   "outputs": [
    {
     "data": {
      "text/plain": [
       "count                 1195824\n",
       "unique                    120\n",
       "top       2016-03-01 00:00:00\n",
       "freq                    48937\n",
       "first     2007-06-01 00:00:00\n",
       "last      2017-05-01 00:00:00\n",
       "Name: issue_d, dtype: object"
      ]
     },
     "execution_count": 141,
     "metadata": {},
     "output_type": "execute_result"
    }
   ],
   "source": [
    "loans_train['issue_d'].describe()"
   ]
  },
  {
   "cell_type": "code",
   "execution_count": 142,
   "metadata": {},
   "outputs": [
    {
     "data": {
      "text/plain": [
       "count                  149486\n",
       "unique                     19\n",
       "top       2017-08-01 00:00:00\n",
       "freq                    15488\n",
       "first     2017-06-01 00:00:00\n",
       "last      2018-12-01 00:00:00\n",
       "Name: issue_d, dtype: object"
      ]
     },
     "execution_count": 142,
     "metadata": {},
     "output_type": "execute_result"
    }
   ],
   "source": [
    "loans_test['issue_d'].describe()"
   ]
  },
  {
   "cell_type": "markdown",
   "metadata": {},
   "source": [
    "The training set includes loans from June 2007 to May 2017. The test set includes loans from July 2016 to December 2018.\n",
    "\n",
    "Now we need to delete the `issue_d` variable, because it was not available before the loan was funded."
   ]
  },
  {
   "cell_type": "code",
   "execution_count": 143,
   "metadata": {},
   "outputs": [],
   "source": [
    "loans_train.drop('issue_d', axis=1, inplace=True)\n",
    "loans_test.drop('issue_d', axis=1, inplace=True)"
   ]
  },
  {
   "cell_type": "markdown",
   "metadata": {},
   "source": [
    "Now separate the predictor variables from the response variable:"
   ]
  },
  {
   "cell_type": "code",
   "execution_count": 144,
   "metadata": {},
   "outputs": [],
   "source": [
    "y_train = loans_train['charged_off']\n",
    "y_test = loans_test['charged_off']"
   ]
  },
  {
   "cell_type": "code",
   "execution_count": 145,
   "metadata": {},
   "outputs": [],
   "source": [
    "X_train = loans_train.drop('charged_off', axis=1)\n",
    "X_test = loans_test.drop('charged_off', axis=1)"
   ]
  },
  {
   "cell_type": "code",
   "execution_count": 146,
   "metadata": {},
   "outputs": [],
   "source": [
    "del loans_train, loans_test"
   ]
  },
  {
   "cell_type": "markdown",
   "metadata": {},
   "source": [
    "# 7. Linear Dependence of Charge-off on the Predictors\n",
    "<a id=\"7\"></a>"
   ]
  },
  {
   "cell_type": "markdown",
   "metadata": {},
   "source": [
    "On the training set, we compute the Pearson correlation, $F$-statistic, and $p$ value of each predictor with the response variable `charged_off`."
   ]
  },
  {
   "cell_type": "code",
   "execution_count": 147,
   "metadata": {},
   "outputs": [],
   "source": [
    "linear_dep = pd.DataFrame()"
   ]
  },
  {
   "cell_type": "markdown",
   "metadata": {},
   "source": [
    "Pearson correlations:"
   ]
  },
  {
   "cell_type": "code",
   "execution_count": 148,
   "metadata": {},
   "outputs": [],
   "source": [
    "for col in X_train.columns:\n",
    "    linear_dep.loc[col, 'pearson_corr'] = X_train[col].corr(y_train)\n",
    "linear_dep['abs_pearson_corr'] = abs(linear_dep['pearson_corr'])"
   ]
  },
  {
   "cell_type": "markdown",
   "metadata": {},
   "source": [
    "$F$-statistics:"
   ]
  },
  {
   "cell_type": "code",
   "execution_count": 149,
   "metadata": {},
   "outputs": [],
   "source": [
    "from sklearn.feature_selection import f_classif\n",
    "for col in X_train.columns:\n",
    "    mask = X_train[col].notnull()\n",
    "    (linear_dep.loc[col, 'F'], linear_dep.loc[col, 'p_value']) = f_classif(pd.DataFrame(X_train.loc[mask, col]), y_train.loc[mask])"
   ]
  },
  {
   "cell_type": "markdown",
   "metadata": {},
   "source": [
    "Sort the results by the absolute value of the Pearson correlation:"
   ]
  },
  {
   "cell_type": "code",
   "execution_count": 150,
   "metadata": {},
   "outputs": [],
   "source": [
    "linear_dep.sort_values('abs_pearson_corr', ascending=False, inplace=True)\n",
    "linear_dep.drop('abs_pearson_corr', axis=1, inplace=True)"
   ]
  },
  {
   "cell_type": "markdown",
   "metadata": {},
   "source": [
    "Reset the index:"
   ]
  },
  {
   "cell_type": "code",
   "execution_count": 151,
   "metadata": {},
   "outputs": [],
   "source": [
    "linear_dep.reset_index(inplace=True)\n",
    "linear_dep.rename(columns={'index':'variable'}, inplace=True)"
   ]
  },
  {
   "cell_type": "markdown",
   "metadata": {},
   "source": [
    "View the results for the top 20 predictors most correlated with `charged_off`:"
   ]
  },
  {
   "cell_type": "code",
   "execution_count": 152,
   "metadata": {},
   "outputs": [
    {
     "data": {
      "text/html": [
       "<div>\n",
       "<style scoped>\n",
       "    .dataframe tbody tr th:only-of-type {\n",
       "        vertical-align: middle;\n",
       "    }\n",
       "\n",
       "    .dataframe tbody tr th {\n",
       "        vertical-align: top;\n",
       "    }\n",
       "\n",
       "    .dataframe thead th {\n",
       "        text-align: right;\n",
       "    }\n",
       "</style>\n",
       "<table border=\"1\" class=\"dataframe\">\n",
       "  <thead>\n",
       "    <tr style=\"text-align: right;\">\n",
       "      <th></th>\n",
       "      <th>variable</th>\n",
       "      <th>pearson_corr</th>\n",
       "      <th>F</th>\n",
       "      <th>p_value</th>\n",
       "    </tr>\n",
       "  </thead>\n",
       "  <tbody>\n",
       "    <tr>\n",
       "      <th>0</th>\n",
       "      <td>int_rate</td>\n",
       "      <td>0.261</td>\n",
       "      <td>87219.489</td>\n",
       "      <td>0.000</td>\n",
       "    </tr>\n",
       "    <tr>\n",
       "      <th>1</th>\n",
       "      <td>term</td>\n",
       "      <td>0.182</td>\n",
       "      <td>41137.035</td>\n",
       "      <td>0.000</td>\n",
       "    </tr>\n",
       "    <tr>\n",
       "      <th>2</th>\n",
       "      <td>fico_score</td>\n",
       "      <td>-0.131</td>\n",
       "      <td>21007.091</td>\n",
       "      <td>0.000</td>\n",
       "    </tr>\n",
       "    <tr>\n",
       "      <th>3</th>\n",
       "      <td>dti</td>\n",
       "      <td>0.101</td>\n",
       "      <td>12261.190</td>\n",
       "      <td>0.000</td>\n",
       "    </tr>\n",
       "    <tr>\n",
       "      <th>4</th>\n",
       "      <td>mort_acc</td>\n",
       "      <td>-0.072</td>\n",
       "      <td>6054.501</td>\n",
       "      <td>0.000</td>\n",
       "    </tr>\n",
       "    <tr>\n",
       "      <th>5</th>\n",
       "      <td>sub_grade_A4</td>\n",
       "      <td>-0.066</td>\n",
       "      <td>5176.670</td>\n",
       "      <td>0.000</td>\n",
       "    </tr>\n",
       "    <tr>\n",
       "      <th>6</th>\n",
       "      <td>log_annual_inc</td>\n",
       "      <td>-0.065</td>\n",
       "      <td>5124.653</td>\n",
       "      <td>0.000</td>\n",
       "    </tr>\n",
       "    <tr>\n",
       "      <th>7</th>\n",
       "      <td>sub_grade_A5</td>\n",
       "      <td>-0.065</td>\n",
       "      <td>5105.864</td>\n",
       "      <td>0.000</td>\n",
       "    </tr>\n",
       "    <tr>\n",
       "      <th>8</th>\n",
       "      <td>sub_grade_A2</td>\n",
       "      <td>-0.063</td>\n",
       "      <td>4773.118</td>\n",
       "      <td>0.000</td>\n",
       "    </tr>\n",
       "    <tr>\n",
       "      <th>9</th>\n",
       "      <td>home_ownership_RENT</td>\n",
       "      <td>0.062</td>\n",
       "      <td>4677.205</td>\n",
       "      <td>0.000</td>\n",
       "    </tr>\n",
       "    <tr>\n",
       "      <th>10</th>\n",
       "      <td>loan_amnt</td>\n",
       "      <td>0.062</td>\n",
       "      <td>4604.922</td>\n",
       "      <td>0.000</td>\n",
       "    </tr>\n",
       "    <tr>\n",
       "      <th>11</th>\n",
       "      <td>verification_status_Verified</td>\n",
       "      <td>0.062</td>\n",
       "      <td>4554.216</td>\n",
       "      <td>0.000</td>\n",
       "    </tr>\n",
       "    <tr>\n",
       "      <th>12</th>\n",
       "      <td>sub_grade_A3</td>\n",
       "      <td>-0.060</td>\n",
       "      <td>4328.944</td>\n",
       "      <td>0.000</td>\n",
       "    </tr>\n",
       "    <tr>\n",
       "      <th>13</th>\n",
       "      <td>sub_grade_E2</td>\n",
       "      <td>0.058</td>\n",
       "      <td>3975.307</td>\n",
       "      <td>0.000</td>\n",
       "    </tr>\n",
       "    <tr>\n",
       "      <th>14</th>\n",
       "      <td>sub_grade_E4</td>\n",
       "      <td>0.057</td>\n",
       "      <td>3878.029</td>\n",
       "      <td>0.000</td>\n",
       "    </tr>\n",
       "    <tr>\n",
       "      <th>15</th>\n",
       "      <td>sub_grade_E1</td>\n",
       "      <td>0.057</td>\n",
       "      <td>3849.945</td>\n",
       "      <td>0.000</td>\n",
       "    </tr>\n",
       "    <tr>\n",
       "      <th>16</th>\n",
       "      <td>sub_grade_B1</td>\n",
       "      <td>-0.057</td>\n",
       "      <td>3839.060</td>\n",
       "      <td>0.000</td>\n",
       "    </tr>\n",
       "    <tr>\n",
       "      <th>17</th>\n",
       "      <td>revol_util</td>\n",
       "      <td>0.056</td>\n",
       "      <td>3809.925</td>\n",
       "      <td>0.000</td>\n",
       "    </tr>\n",
       "    <tr>\n",
       "      <th>18</th>\n",
       "      <td>sub_grade_E3</td>\n",
       "      <td>0.056</td>\n",
       "      <td>3804.304</td>\n",
       "      <td>0.000</td>\n",
       "    </tr>\n",
       "    <tr>\n",
       "      <th>19</th>\n",
       "      <td>sub_grade_E5</td>\n",
       "      <td>0.056</td>\n",
       "      <td>3714.784</td>\n",
       "      <td>0.000</td>\n",
       "    </tr>\n",
       "  </tbody>\n",
       "</table>\n",
       "</div>"
      ],
      "text/plain": [
       "                        variable  pearson_corr         F  p_value\n",
       "0                       int_rate         0.261 87219.489    0.000\n",
       "1                           term         0.182 41137.035    0.000\n",
       "2                     fico_score        -0.131 21007.091    0.000\n",
       "3                            dti         0.101 12261.190    0.000\n",
       "4                       mort_acc        -0.072  6054.501    0.000\n",
       "5                   sub_grade_A4        -0.066  5176.670    0.000\n",
       "6                 log_annual_inc        -0.065  5124.653    0.000\n",
       "7                   sub_grade_A5        -0.065  5105.864    0.000\n",
       "8                   sub_grade_A2        -0.063  4773.118    0.000\n",
       "9            home_ownership_RENT         0.062  4677.205    0.000\n",
       "10                     loan_amnt         0.062  4604.922    0.000\n",
       "11  verification_status_Verified         0.062  4554.216    0.000\n",
       "12                  sub_grade_A3        -0.060  4328.944    0.000\n",
       "13                  sub_grade_E2         0.058  3975.307    0.000\n",
       "14                  sub_grade_E4         0.057  3878.029    0.000\n",
       "15                  sub_grade_E1         0.057  3849.945    0.000\n",
       "16                  sub_grade_B1        -0.057  3839.060    0.000\n",
       "17                    revol_util         0.056  3809.925    0.000\n",
       "18                  sub_grade_E3         0.056  3804.304    0.000\n",
       "19                  sub_grade_E5         0.056  3714.784    0.000"
      ]
     },
     "execution_count": 152,
     "metadata": {},
     "output_type": "execute_result"
    }
   ],
   "source": [
    "linear_dep.head(20)"
   ]
  },
  {
   "cell_type": "markdown",
   "metadata": {},
   "source": [
    "The variables most linearly correlated with `charged_off` are the interest rate, loan period (term), FICO score, debt-to-income ratio, number of mortgages, income, the loan grade, and the loan amount.\n",
    "\n",
    "Now view the results for the 20 least correlated predictors:"
   ]
  },
  {
   "cell_type": "code",
   "execution_count": 153,
   "metadata": {},
   "outputs": [
    {
     "data": {
      "text/html": [
       "<div>\n",
       "<style scoped>\n",
       "    .dataframe tbody tr th:only-of-type {\n",
       "        vertical-align: middle;\n",
       "    }\n",
       "\n",
       "    .dataframe tbody tr th {\n",
       "        vertical-align: top;\n",
       "    }\n",
       "\n",
       "    .dataframe thead th {\n",
       "        text-align: right;\n",
       "    }\n",
       "</style>\n",
       "<table border=\"1\" class=\"dataframe\">\n",
       "  <thead>\n",
       "    <tr style=\"text-align: right;\">\n",
       "      <th></th>\n",
       "      <th>variable</th>\n",
       "      <th>pearson_corr</th>\n",
       "      <th>F</th>\n",
       "      <th>p_value</th>\n",
       "    </tr>\n",
       "  </thead>\n",
       "  <tbody>\n",
       "    <tr>\n",
       "      <th>100</th>\n",
       "      <td>addr_state_WY</td>\n",
       "      <td>-0.003</td>\n",
       "      <td>14.512</td>\n",
       "      <td>0.000</td>\n",
       "    </tr>\n",
       "    <tr>\n",
       "      <th>101</th>\n",
       "      <td>addr_state_KY</td>\n",
       "      <td>0.003</td>\n",
       "      <td>12.900</td>\n",
       "      <td>0.000</td>\n",
       "    </tr>\n",
       "    <tr>\n",
       "      <th>102</th>\n",
       "      <td>addr_state_RI</td>\n",
       "      <td>-0.003</td>\n",
       "      <td>12.525</td>\n",
       "      <td>0.000</td>\n",
       "    </tr>\n",
       "    <tr>\n",
       "      <th>103</th>\n",
       "      <td>addr_state_NC</td>\n",
       "      <td>0.003</td>\n",
       "      <td>12.462</td>\n",
       "      <td>0.000</td>\n",
       "    </tr>\n",
       "    <tr>\n",
       "      <th>104</th>\n",
       "      <td>addr_state_NM</td>\n",
       "      <td>0.002</td>\n",
       "      <td>7.211</td>\n",
       "      <td>0.007</td>\n",
       "    </tr>\n",
       "    <tr>\n",
       "      <th>105</th>\n",
       "      <td>purpose_renewable_energy</td>\n",
       "      <td>0.002</td>\n",
       "      <td>5.298</td>\n",
       "      <td>0.021</td>\n",
       "    </tr>\n",
       "    <tr>\n",
       "      <th>106</th>\n",
       "      <td>addr_state_TX</td>\n",
       "      <td>-0.002</td>\n",
       "      <td>3.854</td>\n",
       "      <td>0.050</td>\n",
       "    </tr>\n",
       "    <tr>\n",
       "      <th>107</th>\n",
       "      <td>addr_state_SD</td>\n",
       "      <td>0.002</td>\n",
       "      <td>3.103</td>\n",
       "      <td>0.078</td>\n",
       "    </tr>\n",
       "    <tr>\n",
       "      <th>108</th>\n",
       "      <td>addr_state_MI</td>\n",
       "      <td>0.001</td>\n",
       "      <td>1.866</td>\n",
       "      <td>0.172</td>\n",
       "    </tr>\n",
       "    <tr>\n",
       "      <th>109</th>\n",
       "      <td>purpose_vacation</td>\n",
       "      <td>-0.001</td>\n",
       "      <td>1.737</td>\n",
       "      <td>0.188</td>\n",
       "    </tr>\n",
       "    <tr>\n",
       "      <th>110</th>\n",
       "      <td>purpose_educational</td>\n",
       "      <td>-0.001</td>\n",
       "      <td>1.543</td>\n",
       "      <td>0.214</td>\n",
       "    </tr>\n",
       "    <tr>\n",
       "      <th>111</th>\n",
       "      <td>addr_state_ND</td>\n",
       "      <td>0.001</td>\n",
       "      <td>1.088</td>\n",
       "      <td>0.297</td>\n",
       "    </tr>\n",
       "    <tr>\n",
       "      <th>112</th>\n",
       "      <td>addr_state_AZ</td>\n",
       "      <td>-0.001</td>\n",
       "      <td>0.838</td>\n",
       "      <td>0.360</td>\n",
       "    </tr>\n",
       "    <tr>\n",
       "      <th>113</th>\n",
       "      <td>addr_state_HI</td>\n",
       "      <td>0.001</td>\n",
       "      <td>0.667</td>\n",
       "      <td>0.414</td>\n",
       "    </tr>\n",
       "    <tr>\n",
       "      <th>114</th>\n",
       "      <td>addr_state_VA</td>\n",
       "      <td>0.001</td>\n",
       "      <td>0.384</td>\n",
       "      <td>0.535</td>\n",
       "    </tr>\n",
       "    <tr>\n",
       "      <th>115</th>\n",
       "      <td>addr_state_MN</td>\n",
       "      <td>-0.000</td>\n",
       "      <td>0.293</td>\n",
       "      <td>0.588</td>\n",
       "    </tr>\n",
       "    <tr>\n",
       "      <th>116</th>\n",
       "      <td>home_ownership_OTHER</td>\n",
       "      <td>-0.000</td>\n",
       "      <td>0.168</td>\n",
       "      <td>0.682</td>\n",
       "    </tr>\n",
       "    <tr>\n",
       "      <th>117</th>\n",
       "      <td>addr_state_IA</td>\n",
       "      <td>-0.000</td>\n",
       "      <td>0.140</td>\n",
       "      <td>0.709</td>\n",
       "    </tr>\n",
       "    <tr>\n",
       "      <th>118</th>\n",
       "      <td>addr_state_DE</td>\n",
       "      <td>0.000</td>\n",
       "      <td>0.031</td>\n",
       "      <td>0.860</td>\n",
       "    </tr>\n",
       "    <tr>\n",
       "      <th>119</th>\n",
       "      <td>addr_state_ID</td>\n",
       "      <td>0.000</td>\n",
       "      <td>0.000</td>\n",
       "      <td>0.987</td>\n",
       "    </tr>\n",
       "  </tbody>\n",
       "</table>\n",
       "</div>"
      ],
      "text/plain": [
       "                     variable  pearson_corr      F  p_value\n",
       "100             addr_state_WY        -0.003 14.512    0.000\n",
       "101             addr_state_KY         0.003 12.900    0.000\n",
       "102             addr_state_RI        -0.003 12.525    0.000\n",
       "103             addr_state_NC         0.003 12.462    0.000\n",
       "104             addr_state_NM         0.002  7.211    0.007\n",
       "105  purpose_renewable_energy         0.002  5.298    0.021\n",
       "106             addr_state_TX        -0.002  3.854    0.050\n",
       "107             addr_state_SD         0.002  3.103    0.078\n",
       "108             addr_state_MI         0.001  1.866    0.172\n",
       "109          purpose_vacation        -0.001  1.737    0.188\n",
       "110       purpose_educational        -0.001  1.543    0.214\n",
       "111             addr_state_ND         0.001  1.088    0.297\n",
       "112             addr_state_AZ        -0.001  0.838    0.360\n",
       "113             addr_state_HI         0.001  0.667    0.414\n",
       "114             addr_state_VA         0.001  0.384    0.535\n",
       "115             addr_state_MN        -0.000  0.293    0.588\n",
       "116      home_ownership_OTHER        -0.000  0.168    0.682\n",
       "117             addr_state_IA        -0.000  0.140    0.709\n",
       "118             addr_state_DE         0.000  0.031    0.860\n",
       "119             addr_state_ID         0.000  0.000    0.987"
      ]
     },
     "execution_count": 153,
     "metadata": {},
     "output_type": "execute_result"
    }
   ],
   "source": [
    "linear_dep.tail(20)"
   ]
  },
  {
   "cell_type": "markdown",
   "metadata": {},
   "source": [
    "It looks like the borrower's state of residence, the revolving balance, and several of the loan purposes are irrelevant for predicting charge-off."
   ]
  },
  {
   "cell_type": "markdown",
   "metadata": {
    "_cell_guid": "52309b77-d97d-412a-b20f-da81f44a486f",
    "_uuid": "bbabe5a3810756b27f10e862f3d7ea34a21a20f8"
   },
   "source": [
    "# 8. Model Training and Testing\n",
    "<a id=\"8\"></a>"
   ]
  },
  {
   "cell_type": "markdown",
   "metadata": {},
   "source": [
    "We implement machine learning pipelines consisting of one or more of the following steps, depending on the particular model:\n",
    "1. Mean imputation of missing values\n",
    "2. Dimension reduction using linear discriminant analysis (LDA)\n",
    "3. Data standardization: rescaling to zero mean and unit variance\n",
    "4. The chosen model\n",
    "\n",
    "We will evaluate and compare the following models using a cross-validated AUROC score on the training set:\n",
    "1. Logistic regression with SGD training\n",
    "2. Random forest\n",
    "3. k-nearest neighbors\n",
    "\n",
    "We'll perform some hyperparameter tuning for each model to choose the most promising model, then more carefully tune the hyperparameters of the best-performing model."
   ]
  },
  {
   "cell_type": "code",
   "execution_count": 158,
   "metadata": {},
   "outputs": [],
   "source": [
    "from sklearn.pipeline import Pipeline\n",
    "from sklearn.preprocessing import StandardScaler\n",
    "from sklearn.impute import SimpleImputer\n",
    "from sklearn.discriminant_analysis import LinearDiscriminantAnalysis\n",
    "from sklearn.model_selection import GridSearchCV"
   ]
  },
  {
   "cell_type": "markdown",
   "metadata": {},
   "source": [
    "## 8.1 Logistic regression with SGD training\n",
    "<a id=\"8.1\"></a>"
   ]
  },
  {
   "cell_type": "markdown",
   "metadata": {
    "_cell_guid": "fc774c42-47e6-427a-ac9c-a4bdbf7b5837",
    "_uuid": "39ac0b9f118cbb5b11d6749f2ec3f8aa3f97ac6d"
   },
   "source": [
    "The `SGDClassifier` estimator in scikit-learn implements linear classifiers (SVM, logistic regression, and others) with stochastic gradient descent (SGD) training. A particular linear classifier is chosen through the `loss` hyperparameter. Because we want to predict the probability of charge-off, we choose logistic regression (a probabilistic classifier) by setting `loss = 'log'`."
   ]
  },
  {
   "cell_type": "code",
   "execution_count": 159,
   "metadata": {},
   "outputs": [],
   "source": [
    "from sklearn.linear_model import SGDClassifier"
   ]
  },
  {
   "cell_type": "markdown",
   "metadata": {},
   "source": [
    "The machine learning pipeline:"
   ]
  },
  {
   "cell_type": "code",
   "execution_count": 160,
   "metadata": {},
   "outputs": [],
   "source": [
    "pipeline_sgdlogreg = Pipeline([\n",
    "    ('imputer', SimpleImputer(copy=False)), # Mean imputation by default\n",
    "    ('scaler', StandardScaler(copy=False)),\n",
    "    ('model', SGDClassifier(loss='log', max_iter=1000, tol=1e-3, random_state=1, warm_start=True))\n",
    "])"
   ]
  },
  {
   "cell_type": "markdown",
   "metadata": {},
   "source": [
    "A small grid of hyperparameters to search over:"
   ]
  },
  {
   "cell_type": "code",
   "execution_count": 161,
   "metadata": {},
   "outputs": [],
   "source": [
    "param_grid_sgdlogreg = {\n",
    "    'model__alpha': [10**-5, 10**-2, 10**1],\n",
    "    'model__penalty': ['l1', 'l2']\n",
    "}"
   ]
  },
  {
   "cell_type": "markdown",
   "metadata": {},
   "source": [
    "Create the search grid object:"
   ]
  },
  {
   "cell_type": "code",
   "execution_count": 162,
   "metadata": {
    "_cell_guid": "c016e122-86dd-4c96-88c2-a901fe48cf70",
    "_uuid": "8144ec0a936a93a1fbf5e2dd00cd0082dbc40782"
   },
   "outputs": [],
   "source": [
    "grid_sgdlogreg = GridSearchCV(estimator=pipeline_sgdlogreg, param_grid=param_grid_sgdlogreg, scoring='roc_auc', n_jobs=-1, pre_dispatch='2*n_jobs', cv=5, verbose=1, return_train_score=False)"
   ]
  },
  {
   "cell_type": "markdown",
   "metadata": {},
   "source": [
    "Conduct the grid search and train the final model on the whole dataset:"
   ]
  },
  {
   "cell_type": "code",
   "execution_count": 163,
   "metadata": {
    "_cell_guid": "b907b40c-402d-4d4a-a919-e4b63e0a832d",
    "_uuid": "76e6c2e828e670a1494d4d4fbec01f232f067512"
   },
   "outputs": [
    {
     "name": "stdout",
     "output_type": "stream",
     "text": [
      "Fitting 5 folds for each of 6 candidates, totalling 30 fits\n"
     ]
    },
    {
     "name": "stderr",
     "output_type": "stream",
     "text": [
      "[Parallel(n_jobs=-1)]: Using backend LokyBackend with 4 concurrent workers.\n",
      "[Parallel(n_jobs=-1)]: Done  30 out of  30 | elapsed:  8.8min finished\n"
     ]
    },
    {
     "data": {
      "text/plain": [
       "GridSearchCV(cv=5, error_score=nan,\n",
       "             estimator=Pipeline(memory=None,\n",
       "                                steps=[('imputer',\n",
       "                                        SimpleImputer(add_indicator=False,\n",
       "                                                      copy=False,\n",
       "                                                      fill_value=None,\n",
       "                                                      missing_values=nan,\n",
       "                                                      strategy='mean',\n",
       "                                                      verbose=0)),\n",
       "                                       ('scaler',\n",
       "                                        StandardScaler(copy=False,\n",
       "                                                       with_mean=True,\n",
       "                                                       with_std=True)),\n",
       "                                       ('model',\n",
       "                                        SGDClassifier(alpha=0.0001,\n",
       "                                                      average=False,\n",
       "                                                      class_weight=None,\n",
       "                                                      early_stopping=False,\n",
       "                                                      eps...\n",
       "                                                      n_iter_no_change=5,\n",
       "                                                      n_jobs=None, penalty='l2',\n",
       "                                                      power_t=0.5,\n",
       "                                                      random_state=1,\n",
       "                                                      shuffle=True, tol=0.001,\n",
       "                                                      validation_fraction=0.1,\n",
       "                                                      verbose=0,\n",
       "                                                      warm_start=True))],\n",
       "                                verbose=False),\n",
       "             iid='deprecated', n_jobs=-1,\n",
       "             param_grid={'model__alpha': [1e-05, 0.01, 10],\n",
       "                         'model__penalty': ['l1', 'l2']},\n",
       "             pre_dispatch='2*n_jobs', refit=True, return_train_score=False,\n",
       "             scoring='roc_auc', verbose=1)"
      ]
     },
     "execution_count": 163,
     "metadata": {},
     "output_type": "execute_result"
    }
   ],
   "source": [
    "grid_sgdlogreg.fit(X_train, y_train)"
   ]
  },
  {
   "cell_type": "markdown",
   "metadata": {},
   "source": [
    "Mean cross-validated AUROC score of the best model:"
   ]
  },
  {
   "cell_type": "code",
   "execution_count": 164,
   "metadata": {},
   "outputs": [
    {
     "data": {
      "text/plain": [
       "0.7114120054770521"
      ]
     },
     "execution_count": 164,
     "metadata": {},
     "output_type": "execute_result"
    }
   ],
   "source": [
    "grid_sgdlogreg.best_score_"
   ]
  },
  {
   "cell_type": "markdown",
   "metadata": {
    "_cell_guid": "67901f97-33dc-4ff0-8968-127eda9da452",
    "_uuid": "a6829cf727f13a804180637da8cfc8477754b8c6"
   },
   "source": [
    "Best hyperparameters:"
   ]
  },
  {
   "cell_type": "code",
   "execution_count": 165,
   "metadata": {
    "_cell_guid": "14983fb4-d45a-431d-9c03-20d737862cc7",
    "_uuid": "fffc4de31000514e733ccd7c8f0aac9306226644"
   },
   "outputs": [
    {
     "data": {
      "text/plain": [
       "{'model__alpha': 0.01, 'model__penalty': 'l2'}"
      ]
     },
     "execution_count": 165,
     "metadata": {},
     "output_type": "execute_result"
    }
   ],
   "source": [
    "grid_sgdlogreg.best_params_"
   ]
  },
  {
   "cell_type": "markdown",
   "metadata": {},
   "source": [
    "## 8.2 Random forest classifier\n",
    "<a id=\"8.2\"></a>"
   ]
  },
  {
   "cell_type": "markdown",
   "metadata": {
    "_cell_guid": "fc774c42-47e6-427a-ac9c-a4bdbf7b5837",
    "_uuid": "39ac0b9f118cbb5b11d6749f2ec3f8aa3f97ac6d"
   },
   "source": [
    "Next we train a random forest model. Note that data standardization is not necessary for a random forest."
   ]
  },
  {
   "cell_type": "code",
   "execution_count": 166,
   "metadata": {},
   "outputs": [],
   "source": [
    "from sklearn.ensemble import RandomForestClassifier"
   ]
  },
  {
   "cell_type": "code",
   "execution_count": 168,
   "metadata": {},
   "outputs": [],
   "source": [
    "pipeline_rfc = Pipeline([\n",
    "    ('imputer', SimpleImputer(copy=False)),\n",
    "    ('model', RandomForestClassifier(n_jobs=-1, random_state=1))\n",
    "])"
   ]
  },
  {
   "cell_type": "markdown",
   "metadata": {},
   "source": [
    "The random forest takes very long to train, so we don't test different hyperparameter choices. We'll still use `GridSearchCV` for the sake of consistency."
   ]
  },
  {
   "cell_type": "code",
   "execution_count": 169,
   "metadata": {},
   "outputs": [],
   "source": [
    "param_grid_rfc = {\n",
    "    'model__n_estimators': [50] # The number of randomized trees to build\n",
    "}"
   ]
  },
  {
   "cell_type": "markdown",
   "metadata": {},
   "source": [
    "The AUROC will always improve (with decreasing gains) as the number of estimators increases, but it's not necessarily worth the extra training time and model complexity."
   ]
  },
  {
   "cell_type": "code",
   "execution_count": 170,
   "metadata": {
    "_cell_guid": "c016e122-86dd-4c96-88c2-a901fe48cf70",
    "_uuid": "8144ec0a936a93a1fbf5e2dd00cd0082dbc40782"
   },
   "outputs": [],
   "source": [
    "grid_rfc = GridSearchCV(estimator=pipeline_rfc, param_grid=param_grid_rfc, scoring='roc_auc', n_jobs=-1, pre_dispatch='2*n_jobs', cv=5, verbose=1, return_train_score=False)"
   ]
  },
  {
   "cell_type": "code",
   "execution_count": 171,
   "metadata": {
    "_cell_guid": "b907b40c-402d-4d4a-a919-e4b63e0a832d",
    "_uuid": "76e6c2e828e670a1494d4d4fbec01f232f067512"
   },
   "outputs": [
    {
     "name": "stdout",
     "output_type": "stream",
     "text": [
      "Fitting 5 folds for each of 1 candidates, totalling 5 fits\n"
     ]
    },
    {
     "name": "stderr",
     "output_type": "stream",
     "text": [
      "[Parallel(n_jobs=-1)]: Using backend LokyBackend with 4 concurrent workers.\n",
      "[Parallel(n_jobs=-1)]: Done   5 out of   5 | elapsed: 11.6min finished\n"
     ]
    },
    {
     "data": {
      "text/plain": [
       "GridSearchCV(cv=5, error_score=nan,\n",
       "             estimator=Pipeline(memory=None,\n",
       "                                steps=[('imputer',\n",
       "                                        SimpleImputer(add_indicator=False,\n",
       "                                                      copy=False,\n",
       "                                                      fill_value=None,\n",
       "                                                      missing_values=nan,\n",
       "                                                      strategy='mean',\n",
       "                                                      verbose=0)),\n",
       "                                       ('model',\n",
       "                                        RandomForestClassifier(bootstrap=True,\n",
       "                                                               ccp_alpha=0.0,\n",
       "                                                               class_weight=None,\n",
       "                                                               criterion='gini',\n",
       "                                                               max_depth=None,\n",
       "                                                               max_features='auto',\n",
       "                                                               max_leaf_nodes=None,\n",
       "                                                               max_samp...\n",
       "                                                               min_impurity_split=None,\n",
       "                                                               min_samples_leaf=1,\n",
       "                                                               min_samples_split=2,\n",
       "                                                               min_weight_fraction_leaf=0.0,\n",
       "                                                               n_estimators=100,\n",
       "                                                               n_jobs=-1,\n",
       "                                                               oob_score=False,\n",
       "                                                               random_state=1,\n",
       "                                                               verbose=0,\n",
       "                                                               warm_start=False))],\n",
       "                                verbose=False),\n",
       "             iid='deprecated', n_jobs=-1,\n",
       "             param_grid={'model__n_estimators': [50]}, pre_dispatch='2*n_jobs',\n",
       "             refit=True, return_train_score=False, scoring='roc_auc',\n",
       "             verbose=1)"
      ]
     },
     "execution_count": 171,
     "metadata": {},
     "output_type": "execute_result"
    }
   ],
   "source": [
    "grid_rfc.fit(X_train, y_train)"
   ]
  },
  {
   "cell_type": "markdown",
   "metadata": {},
   "source": [
    "Mean cross-validated AUROC score of the random forest:"
   ]
  },
  {
   "cell_type": "code",
   "execution_count": 172,
   "metadata": {},
   "outputs": [
    {
     "data": {
      "text/plain": [
       "0.6943352951183979"
      ]
     },
     "execution_count": 172,
     "metadata": {},
     "output_type": "execute_result"
    }
   ],
   "source": [
    "grid_rfc.best_score_"
   ]
  },
  {
   "cell_type": "markdown",
   "metadata": {},
   "source": [
    "Not quite as good as logistic regression, at least according to this metric."
   ]
  },
  {
   "cell_type": "markdown",
   "metadata": {},
   "source": [
    "## 8.3 k-nearest neighbors\n",
    "<a id=\"8.3\"></a>"
   ]
  },
  {
   "cell_type": "markdown",
   "metadata": {
    "_cell_guid": "fc774c42-47e6-427a-ac9c-a4bdbf7b5837",
    "_uuid": "39ac0b9f118cbb5b11d6749f2ec3f8aa3f97ac6d"
   },
   "source": [
    "Next we try k-nearest neighbors. We need to reduce the number of variables to 10 or fewer ([reference](https://en.wikipedia.org/wiki/K-nearest_neighbors_algorithm#Dimension_reduction)) for kNN to perform well. We'll use LDA for dimension reduction. The number of component variables to keep is a hyperparameter."
   ]
  },
  {
   "cell_type": "code",
   "execution_count": 173,
   "metadata": {},
   "outputs": [],
   "source": [
    "from sklearn.neighbors import KNeighborsClassifier"
   ]
  },
  {
   "cell_type": "code",
   "execution_count": 174,
   "metadata": {},
   "outputs": [],
   "source": [
    "pipeline_knn = Pipeline([\n",
    "    ('imputer', SimpleImputer(copy=False)),\n",
    "    ('scaler', StandardScaler(copy=False)),\n",
    "    ('lda', LinearDiscriminantAnalysis()),\n",
    "    ('model', KNeighborsClassifier(n_jobs=-1))\n",
    "])"
   ]
  },
  {
   "cell_type": "code",
   "execution_count": 175,
   "metadata": {},
   "outputs": [],
   "source": [
    "param_grid_knn = {\n",
    "    'lda__n_components': [3, 9], # Number of LDA components to keep\n",
    "    'model__n_neighbors': [5, 25, 125] # The 'k' in k-nearest neighbors\n",
    "}"
   ]
  },
  {
   "cell_type": "code",
   "execution_count": 176,
   "metadata": {
    "_cell_guid": "c016e122-86dd-4c96-88c2-a901fe48cf70",
    "_uuid": "8144ec0a936a93a1fbf5e2dd00cd0082dbc40782"
   },
   "outputs": [],
   "source": [
    "grid_knn = GridSearchCV(estimator=pipeline_knn, param_grid=param_grid_knn, scoring='roc_auc', n_jobs=-1, pre_dispatch='2*n_jobs', cv=5, verbose=1, return_train_score=False)"
   ]
  },
  {
   "cell_type": "code",
   "execution_count": 177,
   "metadata": {
    "_cell_guid": "b907b40c-402d-4d4a-a919-e4b63e0a832d",
    "_uuid": "76e6c2e828e670a1494d4d4fbec01f232f067512"
   },
   "outputs": [
    {
     "name": "stdout",
     "output_type": "stream",
     "text": [
      "Fitting 5 folds for each of 6 candidates, totalling 30 fits\n"
     ]
    },
    {
     "name": "stderr",
     "output_type": "stream",
     "text": [
      "[Parallel(n_jobs=-1)]: Using backend LokyBackend with 4 concurrent workers.\n",
      "[Parallel(n_jobs=-1)]: Done  30 out of  30 | elapsed: 23.5min finished\n"
     ]
    },
    {
     "data": {
      "text/plain": [
       "GridSearchCV(cv=5, error_score=nan,\n",
       "             estimator=Pipeline(memory=None,\n",
       "                                steps=[('imputer',\n",
       "                                        SimpleImputer(add_indicator=False,\n",
       "                                                      copy=False,\n",
       "                                                      fill_value=None,\n",
       "                                                      missing_values=nan,\n",
       "                                                      strategy='mean',\n",
       "                                                      verbose=0)),\n",
       "                                       ('scaler',\n",
       "                                        StandardScaler(copy=False,\n",
       "                                                       with_mean=True,\n",
       "                                                       with_std=True)),\n",
       "                                       ('lda',\n",
       "                                        LinearDiscriminantAnalysis(n_components=None,\n",
       "                                                                   priors=None,\n",
       "                                                                   shrinkage=None,\n",
       "                                                                   solver='svd',...\n",
       "                                                                   tol=0.0001)),\n",
       "                                       ('model',\n",
       "                                        KNeighborsClassifier(algorithm='auto',\n",
       "                                                             leaf_size=30,\n",
       "                                                             metric='minkowski',\n",
       "                                                             metric_params=None,\n",
       "                                                             n_jobs=-1,\n",
       "                                                             n_neighbors=5, p=2,\n",
       "                                                             weights='uniform'))],\n",
       "                                verbose=False),\n",
       "             iid='deprecated', n_jobs=-1,\n",
       "             param_grid={'lda__n_components': [3, 9],\n",
       "                         'model__n_neighbors': [5, 25, 125]},\n",
       "             pre_dispatch='2*n_jobs', refit=True, return_train_score=False,\n",
       "             scoring='roc_auc', verbose=1)"
      ]
     },
     "execution_count": 177,
     "metadata": {},
     "output_type": "execute_result"
    }
   ],
   "source": [
    "grid_knn.fit(X_train, y_train)"
   ]
  },
  {
   "cell_type": "markdown",
   "metadata": {},
   "source": [
    "Mean cross-validated AUROC score of the best model:"
   ]
  },
  {
   "cell_type": "code",
   "execution_count": 178,
   "metadata": {},
   "outputs": [
    {
     "data": {
      "text/plain": [
       "0.7029806543196433"
      ]
     },
     "execution_count": 178,
     "metadata": {},
     "output_type": "execute_result"
    }
   ],
   "source": [
    "grid_knn.best_score_"
   ]
  },
  {
   "cell_type": "markdown",
   "metadata": {
    "_cell_guid": "67901f97-33dc-4ff0-8968-127eda9da452",
    "_uuid": "a6829cf727f13a804180637da8cfc8477754b8c6"
   },
   "source": [
    "Best hyperparameters:"
   ]
  },
  {
   "cell_type": "code",
   "execution_count": 179,
   "metadata": {
    "_cell_guid": "14983fb4-d45a-431d-9c03-20d737862cc7",
    "_uuid": "fffc4de31000514e733ccd7c8f0aac9306226644"
   },
   "outputs": [
    {
     "data": {
      "text/plain": [
       "{'lda__n_components': 3, 'model__n_neighbors': 125}"
      ]
     },
     "execution_count": 179,
     "metadata": {},
     "output_type": "execute_result"
    }
   ],
   "source": [
    "grid_knn.best_params_"
   ]
  },
  {
   "cell_type": "markdown",
   "metadata": {},
   "source": [
    "Only 3 LDA components are necessary for kNN to perform almost as well as logistic regression."
   ]
  },
  {
   "cell_type": "markdown",
   "metadata": {
    "_cell_guid": "04560103-0efe-4ace-831b-be73ece4fe7b",
    "_uuid": "4476709021bd10a8e39d8f7e99e8fdf4adcb6970"
   },
   "source": [
    "## 8.4 Tune hyperparameters on the chosen model more finely\n",
    "<a id=\"8.4\"></a>"
   ]
  },
  {
   "cell_type": "markdown",
   "metadata": {
    "_cell_guid": "b7460548-ee72-4f66-b921-2ea68bd5db24",
    "_uuid": "edd6b1de60cf7b9da054d0259ea83e8b4e4e8719"
   },
   "source": [
    "The three models performed quite similarly according to the AUROC:"
   ]
  },
  {
   "cell_type": "code",
   "execution_count": 180,
   "metadata": {},
   "outputs": [
    {
     "name": "stdout",
     "output_type": "stream",
     "text": [
      "Cross-validated AUROC scores\n",
      "0.7114120054770521 - Logistic regression\n",
      "0.6943352951183979 - Random forest\n",
      "0.7029806543196433 - k-nearest neighbors\n"
     ]
    }
   ],
   "source": [
    "print('Cross-validated AUROC scores')\n",
    "print(grid_sgdlogreg.best_score_, '- Logistic regression')\n",
    "print(grid_rfc.best_score_, '- Random forest')\n",
    "print(grid_knn.best_score_, '- k-nearest neighbors')"
   ]
  },
  {
   "cell_type": "markdown",
   "metadata": {},
   "source": [
    "Logistic regression squeaked out ahead, and coupled with the fact that `SGDClassifier` trains much faster than the other two models, we'll select logistic regression as our final model. Now we'll tune the hyperparameters more finely."
   ]
  },
  {
   "cell_type": "code",
   "execution_count": 181,
   "metadata": {},
   "outputs": [
    {
     "name": "stdout",
     "output_type": "stream",
     "text": [
      "{'model__alpha': array([3.16227766e-05, 1.00000000e-04, 3.16227766e-04, 1.00000000e-03,\n",
      "       3.16227766e-03, 1.00000000e-02, 3.16227766e-02, 1.00000000e-01,\n",
      "       3.16227766e-01, 1.00000000e+00, 3.16227766e+00]), 'model__penalty': ['l1', 'l2']}\n"
     ]
    }
   ],
   "source": [
    "param_grid_sgdlogreg = {\n",
    "    'model__alpha': np.logspace(-4.5, 0.5, 11), # Fills in the gaps between 10^-5 and 10^1\n",
    "    'model__penalty': ['l1', 'l2']\n",
    "}\n",
    "\n",
    "print(param_grid_sgdlogreg)"
   ]
  },
  {
   "cell_type": "code",
   "execution_count": 182,
   "metadata": {
    "_cell_guid": "c016e122-86dd-4c96-88c2-a901fe48cf70",
    "_uuid": "8144ec0a936a93a1fbf5e2dd00cd0082dbc40782"
   },
   "outputs": [],
   "source": [
    "grid_sgdlogreg = GridSearchCV(estimator=pipeline_sgdlogreg, param_grid=param_grid_sgdlogreg, scoring='roc_auc', n_jobs=-1, pre_dispatch='2*n_jobs', cv=5, verbose=1, return_train_score=False)"
   ]
  },
  {
   "cell_type": "code",
   "execution_count": 183,
   "metadata": {
    "_cell_guid": "b907b40c-402d-4d4a-a919-e4b63e0a832d",
    "_uuid": "76e6c2e828e670a1494d4d4fbec01f232f067512",
    "scrolled": true
   },
   "outputs": [
    {
     "name": "stdout",
     "output_type": "stream",
     "text": [
      "Fitting 5 folds for each of 22 candidates, totalling 110 fits\n"
     ]
    },
    {
     "name": "stderr",
     "output_type": "stream",
     "text": [
      "[Parallel(n_jobs=-1)]: Using backend LokyBackend with 4 concurrent workers.\n",
      "[Parallel(n_jobs=-1)]: Done  42 tasks      | elapsed: 13.0min\n",
      "[Parallel(n_jobs=-1)]: Done 110 out of 110 | elapsed: 25.2min finished\n"
     ]
    },
    {
     "data": {
      "text/plain": [
       "GridSearchCV(cv=5, error_score=nan,\n",
       "             estimator=Pipeline(memory=None,\n",
       "                                steps=[('imputer',\n",
       "                                        SimpleImputer(add_indicator=False,\n",
       "                                                      copy=False,\n",
       "                                                      fill_value=None,\n",
       "                                                      missing_values=nan,\n",
       "                                                      strategy='mean',\n",
       "                                                      verbose=0)),\n",
       "                                       ('scaler',\n",
       "                                        StandardScaler(copy=False,\n",
       "                                                       with_mean=True,\n",
       "                                                       with_std=True)),\n",
       "                                       ('model',\n",
       "                                        SGDClassifier(alpha=0.0001,\n",
       "                                                      average=False,\n",
       "                                                      class_weight=None,\n",
       "                                                      early_stopping=False,\n",
       "                                                      eps...\n",
       "                                verbose=False),\n",
       "             iid='deprecated', n_jobs=-1,\n",
       "             param_grid={'model__alpha': array([3.16227766e-05, 1.00000000e-04, 3.16227766e-04, 1.00000000e-03,\n",
       "       3.16227766e-03, 1.00000000e-02, 3.16227766e-02, 1.00000000e-01,\n",
       "       3.16227766e-01, 1.00000000e+00, 3.16227766e+00]),\n",
       "                         'model__penalty': ['l1', 'l2']},\n",
       "             pre_dispatch='2*n_jobs', refit=True, return_train_score=False,\n",
       "             scoring='roc_auc', verbose=1)"
      ]
     },
     "execution_count": 183,
     "metadata": {},
     "output_type": "execute_result"
    }
   ],
   "source": [
    "grid_sgdlogreg.fit(X_train, y_train)"
   ]
  },
  {
   "cell_type": "markdown",
   "metadata": {},
   "source": [
    "Mean cross-validated AUROC score of the best model:"
   ]
  },
  {
   "cell_type": "code",
   "execution_count": 184,
   "metadata": {},
   "outputs": [
    {
     "data": {
      "text/plain": [
       "0.7114120054770521"
      ]
     },
     "execution_count": 184,
     "metadata": {},
     "output_type": "execute_result"
    }
   ],
   "source": [
    "grid_sgdlogreg.best_score_"
   ]
  },
  {
   "cell_type": "markdown",
   "metadata": {
    "_cell_guid": "67901f97-33dc-4ff0-8968-127eda9da452",
    "_uuid": "a6829cf727f13a804180637da8cfc8477754b8c6"
   },
   "source": [
    "Best hyperparameters:"
   ]
  },
  {
   "cell_type": "code",
   "execution_count": 185,
   "metadata": {
    "_cell_guid": "14983fb4-d45a-431d-9c03-20d737862cc7",
    "_uuid": "fffc4de31000514e733ccd7c8f0aac9306226644"
   },
   "outputs": [
    {
     "data": {
      "text/plain": [
       "{'model__alpha': 0.01, 'model__penalty': 'l2'}"
      ]
     },
     "execution_count": 185,
     "metadata": {},
     "output_type": "execute_result"
    }
   ],
   "source": [
    "grid_sgdlogreg.best_params_"
   ]
  },
  {
   "cell_type": "markdown",
   "metadata": {},
   "source": [
    "By some coincidence, the optimal hyperparameters here are the same as those from our first grid search for logistic regression!"
   ]
  },
  {
   "cell_type": "markdown",
   "metadata": {
    "_cell_guid": "61ffd538-9579-4638-8156-bcb3f29b39ab",
    "_uuid": "f3b87036a9ae078b8a9cc36ce5b47f734059358c"
   },
   "source": [
    "## 8.5 Test set evaluation\n",
    "<a id=\"8.5\"></a>"
   ]
  },
  {
   "cell_type": "markdown",
   "metadata": {},
   "source": [
    "Now we can finally see how our chosen model performs on the test data (the most recent 10% of the loans)."
   ]
  },
  {
   "cell_type": "code",
   "execution_count": 186,
   "metadata": {},
   "outputs": [],
   "source": [
    "from sklearn.metrics import roc_auc_score"
   ]
  },
  {
   "cell_type": "code",
   "execution_count": 187,
   "metadata": {},
   "outputs": [
    {
     "data": {
      "text/plain": [
       "0.7037841678710398"
      ]
     },
     "execution_count": 187,
     "metadata": {},
     "output_type": "execute_result"
    }
   ],
   "source": [
    "y_score = grid_sgdlogreg.predict_proba(X_test)[:,1]\n",
    "roc_auc_score(y_test, y_score)"
   ]
  },
  {
   "cell_type": "markdown",
   "metadata": {},
   "source": [
    "The test set AUROC score is somewhat lower than the cross-validated score (0.711)."
   ]
  },
  {
   "cell_type": "markdown",
   "metadata": {},
   "source": [
    "# 9. Conclusion\n",
    "<a id=\"9\"></a>"
   ]
  },
  {
   "cell_type": "markdown",
   "metadata": {},
   "source": [
    "We applied machine learning methods to predict the probability that a requested loan on LendingClub will charge off. After training and evaluating three different models (logistic regression, random forest, and k-nearest neighbors), we found that all three performed similarly according to a cross-validated AUROC score on the training data. We selected logistic regression (with ridge penalty) because it was the fastest model to train, and this model obtained an AUROC score of 0.703 on a test set consisting of the most recent 10% of the loans.\n",
    "\n",
    "This model, while far from perfect, can provide a somewhat informed prediction of the likelihood that a loan will charge off, using only data available to potential investors before the loan is fully funded.\n",
    "\n",
    "We also found that, according to the Pearson correlations between the predictors and the response, the most important variables for predicting charge-off are the loan interest rate and term, and the borrower's FICO score and debt-to-income ratio."
   ]
  }
 ],
 "metadata": {
  "kernelspec": {
   "display_name": "Python 3",
   "language": "python",
   "name": "python3"
  },
  "language_info": {
   "codemirror_mode": {
    "name": "ipython",
    "version": 3
   },
   "file_extension": ".py",
   "mimetype": "text/x-python",
   "name": "python",
   "nbconvert_exporter": "python",
   "pygments_lexer": "ipython3",
   "version": "3.7.6"
  }
 },
 "nbformat": 4,
 "nbformat_minor": 1
}
